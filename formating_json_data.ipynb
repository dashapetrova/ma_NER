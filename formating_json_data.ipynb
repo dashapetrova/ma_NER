{
  "nbformat": 4,
  "nbformat_minor": 0,
  "metadata": {
    "colab": {
      "name": "formating_json_data.ipynb",
      "provenance": [],
      "collapsed_sections": []
    },
    "kernelspec": {
      "name": "python3",
      "display_name": "Python 3"
    },
    "language_info": {
      "name": "python"
    }
  },
  "cells": [
    {
      "cell_type": "code",
      "execution_count": null,
      "metadata": {
        "id": "8bqM9xYIkwmv",
        "colab": {
          "base_uri": "https://localhost:8080/"
        },
        "outputId": "7488fff8-d491-4d91-e61d-ef54217c2a67"
      },
      "outputs": [
        {
          "output_type": "stream",
          "name": "stdout",
          "text": [
            "Mounted at /content/gdrive\n"
          ]
        }
      ],
      "source": [
        "from google.colab import drive\n",
        "drive.mount('/content/gdrive') #, force_remount=True"
      ]
    },
    {
      "cell_type": "code",
      "source": [
        "import os\n",
        "os.chdir('gdrive/My Drive/Colab Notebooks/miramedix')"
      ],
      "metadata": {
        "id": "htHvLv4QkzJu"
      },
      "execution_count": null,
      "outputs": []
    },
    {
      "cell_type": "code",
      "source": [
        "import urllib.request\n",
        "from bs4 import BeautifulSoup\n",
        "from datetime import datetime\n",
        "import time\n"
      ],
      "metadata": {
        "id": "Ev3w8KRTfUfj"
      },
      "execution_count": null,
      "outputs": []
    },
    {
      "cell_type": "code",
      "source": [
        "import json\n",
        "\n",
        "with open('descriptions.json', 'r') as f:\n",
        "  texts = json.load(f)"
      ],
      "metadata": {
        "id": "o9ouGefAUIz9"
      },
      "execution_count": null,
      "outputs": []
    },
    {
      "cell_type": "markdown",
      "source": [
        "# rerankings data"
      ],
      "metadata": {
        "id": "2ZUXW184UceK"
      }
    },
    {
      "cell_type": "markdown",
      "source": [
        "Загрузка переранжированных статей"
      ],
      "metadata": {
        "id": "NiqlnGxSyPrR"
      }
    },
    {
      "cell_type": "code",
      "source": [
        "import json\n",
        "\n",
        "all_new_recs = {}\n",
        "\n",
        "for i in range(len(texts)):\n",
        "  idx = str(i+1)\n",
        "  file_name = f'reranking_2/rerank_{idx}.json'\n",
        "  with open(file_name, 'r') as f:\n",
        "    all_new_recs[idx] = json.load(f)"
      ],
      "metadata": {
        "id": "VhT8hlYKUfq1"
      },
      "execution_count": null,
      "outputs": []
    },
    {
      "cell_type": "code",
      "source": [
        "with open('new_recs_raw.json', 'w') as f:\n",
        "  json.dump(all_new_recs, f)"
      ],
      "metadata": {
        "id": "ePSFFUpNVf3V"
      },
      "execution_count": null,
      "outputs": []
    },
    {
      "cell_type": "code",
      "source": [
        "with open('new_recs_raw.json', 'r') as f:\n",
        "  all_new_recs = json.load(f)"
      ],
      "metadata": {
        "id": "GCB3qQqqVtz9"
      },
      "execution_count": null,
      "outputs": []
    },
    {
      "cell_type": "code",
      "source": [
        "rec_nums = {}\n",
        "for i in all_new_recs:\n",
        "  recs_clean = []\n",
        "  for rec in all_new_recs[i]:\n",
        "    recs_clean.append(rec[0][3:])\n",
        "  rec_nums[i] = recs_clean"
      ],
      "metadata": {
        "id": "kA_-EQToXhBP"
      },
      "execution_count": null,
      "outputs": []
    },
    {
      "cell_type": "code",
      "source": [
        "rec_nums['1']"
      ],
      "metadata": {
        "colab": {
          "base_uri": "https://localhost:8080/"
        },
        "id": "uxF-hEcuYLFt",
        "outputId": "a98b1c69-bd26-4303-9c95-d1dbf3455151"
      },
      "execution_count": null,
      "outputs": [
        {
          "output_type": "execute_result",
          "data": {
            "text/plain": [
              "['1', '16', '17', '3', '8', '18', '2', '7', '20', '9']"
            ]
          },
          "metadata": {},
          "execution_count": 7
        }
      ]
    },
    {
      "cell_type": "code",
      "source": [
        "import json\n",
        "\n",
        "#with open('texts_recs_with_urls.json', 'r') as f:\n",
        "#with open('texts_recs_umls_m3_2_clean_reranked.json', 'r') as f:\n",
        "with open('texts_recs_umls_m3_2_clean.json', 'r') as f:\n",
        "  data = json.load(f)"
      ],
      "metadata": {
        "id": "JaAVLmqmkzSW"
      },
      "execution_count": null,
      "outputs": []
    },
    {
      "cell_type": "code",
      "source": [
        "rer_recs = {}\n",
        "\n",
        "for key in rec_nums.keys():\n",
        "\n",
        "  text_recs = []  \n",
        "  for num in rec_nums[key]:\n",
        "    paper_id = int(num) - 1\n",
        "    text_recs.append(data[key][paper_id])  \n",
        "  \n",
        "  rer_recs[key] = text_recs"
      ],
      "metadata": {
        "id": "rNDT6bDn_rjz"
      },
      "execution_count": null,
      "outputs": []
    },
    {
      "cell_type": "code",
      "source": [
        "rer_recs['1']"
      ],
      "metadata": {
        "colab": {
          "base_uri": "https://localhost:8080/"
        },
        "id": "9N32zTvWAYZO",
        "outputId": "344fe815-42f4-4605-f830-34ce70a2eb84"
      },
      "execution_count": null,
      "outputs": [
        {
          "output_type": "execute_result",
          "data": {
            "text/plain": [
              "['<h1>Friedreich Ataxia</h1> \\nhttps://medlineplus.gov/friedreichataxia.html\\n<p>Friedreich ataxia is an inherited disease that damages your nervous system. The damage affects your spinal cord and the nerves that control muscle movement in your arms and legs.  Symptoms usually begin between the ages of 5 and 15. The main symptom is ataxia, which means trouble coordinating movements. Specific symptoms include:</p><ul><li><span class=\"qt0\">Difficulty</span> <span class=\"qt1\">walking</span></li><li>\\tMuscle weakness</li><li>\\tSpeech problems</li><li>\\tInvoluntary eye movements</li><li>\\tScoliosis (curving of the spine to one side)</li><li>\\tHeart palpitations, from the heart disease which can happen along with Friedreich ataxia</li></ul><p>People with Friedreich ataxia usually need a wheelchair 15 to 20 years after symptoms first appear. In severe cases, people become incapacitated. There is no cure. You can treat symptoms with medicines, braces, surgery, and physical therapy.</p><p>NIH: National Institute of Neurological Disorders and Stroke</p>\\n',\n",
              " '<h1>Sciatica</h1> \\nhttps://medlineplus.gov/sciatica.html\\n<p>Sciatica is a symptom of a problem with the sciatic nerve, the largest nerve in the body. It controls muscles in the back of your knee and lower leg and provides feeling to the back of your <span class=\"qt0\">thigh</span>, part of your lower leg, and the sole of your foot. When you have sciatica, you have pain, weakness, <span class=\"qt1\">numbness</span>, or tingling. It can start in the lower back and extend down your leg to your calf, foot, or even your toes. It\\'s usually on only one side of your body.</p><p>Causes of sciatica include:</p><ul><li>A ruptured intervertebral disk</li><li>Narrowing of the spinal canal that puts pressure on the nerve, called spinal stenosis</li><li>An injury such as a pelvic fracture.</li></ul><p>In many cases no cause can be found.</p><p>Sometimes sciatica goes away on its own. Treatment, if needed, depends on the cause of the problem. It may include exercises, medicines, and surgery.</p>\\n',\n",
              " '<h1>Spinal Muscular Atrophy</h1> \\nhttps://medlineplus.gov/spinalmuscularatrophy.html\\nWhat is spinal muscular atrophy (SMA)?<p>Spinal muscular atrophy (SMA) is a group of genetic diseases that damages and kills motor neurons. Motor neurons are a type of nerve cell in the spinal cord and <span class=\"qt1\">lower</span> part of the brain. They control movement in your arms, legs, face, chest, throat, and tongue.</p><p>As the motor neurons die off, your muscles start to weaken and atrophy (waste away). The muscle damage gets worse over time and can affect speaking, walking, swallowing, and breathing.</p>What are the types of spinal muscular atrophy (SMA) and what are their symptoms?<p>There are different types of SMA. They are based on how serious the disease is and when the symptoms start:</p><ul><li>Type l is also called Werdnig-Hoffman disease or infantile-onset SMA. It is the most <span class=\"qt0\">severe</span> type. It is also the most common. Babies with this type usually show signs of the disease before 6 months of age. In more <span class=\"qt0\">severe</span> cases, the signs show up even before or just after birth (Types 0 or 1A). The babies may have trouble swallowing and breathing and may not move around a lot. They have chronic shortening of muscles or tendons (called contractures). They usually cannot sit up without help. Without treatment, many children with this type will die before 2 years of age.</li><li>Type ll is a moderate to <span class=\"qt0\">severe</span> type of SMA. It usually first noticed between 6 and 18 months of age. Most children with this type can sit without support but cannot stand or walk without help. They may also have trouble breathing. They can usually live into adolescence or young adulthood.</li><li>Type lll is also called Kugelberg-Welander disease. It is the mildest type that affects children. The signs of the disease usually show up after age 18 months. Children with this type can walk by themselves but may have trouble running, getting up from a chair, or climbing stairs. They may also have scoliosis (curvature of the spine), contractures, and respiratory infections. With treatment, most children with this type will have a normal lifespan.</li><li>Type IV is rare and often mild. It usually causes symptoms after 21 years of age. The symptoms include mild to moderate leg muscle <span class=\"qt4\">weakness</span>, tremors, and mild breathing problems. The symptoms slowly get worse over time. People with this type of SMA have a normal lifespan.</li></ul>What causes spinal muscular atrophy (SMA)?<p>Most types of SMA are caused by a change in the SMN1 gene. This gene is responsible for making a protein that the motor neurons need to be healthy and to function. But when part of the SMN1 gene is missing or abnormal, there isn\\'t enough protein for the motor neurons. This causes the motor neurons to die off.</p><p>Most people have two copies of the SM1 gene - one from each parent. SMA normally only happens when both copies have the gene change. If only one copy has the change, there usually aren\\'t any symptoms. But that gene could be passed down from parent to child.</p><p>Some of the less common types of SMA may be caused by changes in other genes.</p>How is spinal muscular atrophy (SMA) diagnosed?<p>Your health care provider may use many tools to diagnose SMA:</p><ul><li>A physical exam</li><li>A medical history, including asking about family history</li><li>Genetic testing to check for the gene changes that cause SMA</li><li>Electromyography and nerve conduction studies and a muscle biopsy may be done, especially if no gene changes were found</li></ul><p>Parents who have a family history of SMA may want to do a prenatal test to check to see whether their baby has an SMN1 gene change. An amniocentesis or in some cases a chorionic villi sampling (CVS) is used to get the sample for testing.</p><p>In some states, genetic testing for SMA is part of newborn screening tests.</p>What are the treatments for spinal muscular atrophy (SMA)?<p>There is no cure for SMA. Treatments can help manage symptoms and prevent complications. They may include:</p><ul><li>Medicines to help the body make more of the proteins that the motor neurons need</li><li>Gene therapy for children under 2 years of age</li><li>Physical, occupational, and rehabilitation therapy to help to improve posture and the mobility of the joints. These therapies may also improve blood flow and slow muscle <span class=\"qt4\">weakness</span> and atrophy. Some people may also need therapy for trouble speaking, chewing, and swallowing.</li><li>Assistive devices such as supports or braces, orthotics, speech synthesizers, and wheelchairs to help people stay more independent</li><li>Good nutrition and a balanced diet to help maintain weight and strength. Some people might need a feeding tube in order to get the nutrition they need.</li><li>Breathing support for people who have muscle <span class=\"qt4\">weakness</span> in the neck, throat, and chest. The support may include devices to help with breathing during the day and to prevent sleep apnea at night. Some people might need to be on a ventilator.</li></ul><p>NIH: National Institute of Neurological Disorders and Stroke</p>\\n',\n",
              " '<h1>Transient Ischemic Attack</h1> \\nhttps://medlineplus.gov/transientischemicattack.html\\n<p>A transient ischemic attack (TIA) is a stroke that lasts only a few minutes. It happens when the blood supply to part of the brain is briefly blocked. Symptoms of a TIA are like other stroke symptoms, but do not last as long. They happen suddenly, and include:</p><ul><li>Numbness or weakness, especially on one side of the body</li><li>Confusion or trouble speaking or understanding speech</li><li>Trouble seeing in one or both eyes</li><li><span class=\"qt0\">Difficulty</span> <span class=\"qt1\">walking</span></li><li>Dizziness</li><li>Loss of balance or coordination</li></ul><p>Most symptoms of a TIA disappear within an hour, although they may last for up to 24 hours. Because you cannot tell if these symptoms are from a TIA or a stroke, you should go to the hospital right away.</p><p>TIAs are often a warning sign for future strokes. Taking medicine, such as blood thinners, may reduce your risk of a stroke. Your doctor might also recommend surgery. You can also help lower your risk by having a healthy lifestyle. This includes not smoking, not drinking too much, eating a healthy diet, and exercising. It is also important to control other health problems, such as high blood pressure and cholesterol.</p><p>NIH: National Institute of Neurological Disorders and Stroke</p>\\n',\n",
              " '<h1>Pulmonary <span class=\"qt0\"><span class=\"qt1\">Hypertension</span></span></h1> \\nhttps://medlineplus.gov/pulmonaryhypertension.html\\n<p>Pulmonary <span class=\"qt0\"><span class=\"qt1\">hypertension</span></span> (PH) is <span class=\"qt0\"><span class=\"qt1\">high blood pressure</span></span> in the arteries to your lungs. It is a serious condition. If you have it, the blood vessels that carry blood from your heart to your lungs become hard and narrow. Your heart has to work harder to pump the blood through. Over time, your heart weakens and cannot do its job and you can develop heart failure. </p><p>Symptoms of PH  include:</p><ul><li>Shortness of breath during routine activity, such as climbing two flights of stairs</li><li>Tiredness</li><li>Chest pain</li><li>A racing heartbeat</li><li>Pain on the upper right side of the abdomen</li><li>Decreased appetite</li></ul><p>As PH worsens, you may find it hard to do any physical activities.</p><p>There are two main kinds of PH. One runs in families or appears for no known reason. The other kind is related to another condition, usually heart or lung disease. </p><p>There is no cure for PH. Treatments can control symptoms.  They involve treating the heart or lung disease, medicines, oxygen, and sometimes lung transplantation.</p><p>NIH: National Heart, Lung, and Blood Institute</p>\\n',\n",
              " '<h1><span class=\"qt0\">Chronic</span> <span class=\"qt1\">Pain</span></h1> \\nhttps://medlineplus.gov/chronicpain.html\\n<p><span class=\"qt1\">Pain</span> is a signal in your nervous system that something may be wrong.  It is an unpleasant feeling, such as a prick, tingle, sting, burn, or <span class=\"qt1\">ache. Pain</span> may be sharp or dull. You may feel <span class=\"qt1\">pain</span> in one area of your body, or all over.  There are two types: acute <span class=\"qt1\">pain</span> and <span class=\"qt0\">chronic</span> <span class=\"qt1\">pain</span>. Acute <span class=\"qt1\">pain</span> lets you know that you may be injured or a have problem you need to take care of. <span class=\"qt0\">Chronic</span> <span class=\"qt1\">pain</span> is different.  The <span class=\"qt1\">pain</span> may last for weeks, months, or even years. The original cause may have been an injury or infection. There may be an ongoing cause of <span class=\"qt1\">pain</span>, such as arthritis or cancer. In some cases there is no clear cause. Environmental and psychological factors can make <span class=\"qt0\">chronic</span> <span class=\"qt1\">pain</span> worse.</p><p>Many older adults have <span class=\"qt0\">chronic</span> <span class=\"qt1\">pain</span>. Women also report having more <span class=\"qt0\">chronic</span> <span class=\"qt1\">pain</span> than men, and they are at a greater risk for many <span class=\"qt1\">pain</span> conditions. Some people have two or more <span class=\"qt0\">chronic</span> <span class=\"qt1\">pain</span> conditions.</p><p><span class=\"qt0\">Chronic</span> <span class=\"qt1\">pain</span> is not always curable, but treatments can help. There are drug treatments, including <span class=\"qt1\">pain</span> relievers. There are also non-drug treatments, such as acupuncture, physical therapy, and sometimes surgery.</p><p>NIH: National Institute of Neurological Disorders and Stroke</p>\\n',\n",
              " '<h1>Knee Injuries and Disorders</h1> \\nhttps://medlineplus.gov/kneeinjuriesanddisorders.html\\n<p>Your knee joint is made up of bone, cartilage, ligaments and fluid. Muscles and tendons help the knee joint move. When any of these structures is hurt or diseased, you have knee problems. Knee problems can cause pain and <span class=\"qt0\">difficulty</span> <span class=\"qt1\">walking</span>.</p><p>Knee problems are very common, and they occur in people of all ages. Knee problems can interfere with many things, from participation in sports to simply getting up from a chair and <span class=\"qt1\">walking</span>. This can have a big impact on your life.</p><p>The most common disease affecting the knee is osteoarthritis. The cartilage in the knee gradually wears away, causing pain and swelling.</p><p>Injuries to ligaments and tendons also cause knee problems. A common injury is to the anterior cruciate ligament (ACL). You usually injure your ACL by a sudden twisting motion. ACL and other knee injuries are common sports injuries.</p><p>Treatment of knee problems depends on the cause. In some cases your doctor may recommend knee replacement.</p><p>NIH: National Institute of Arthritis and Musculoskeletal and Skin Diseases</p>\\n',\n",
              " '<h1><span class=\"qt0\"><span class=\"qt1\">High Blood Pressure</span></span></h1> \\nhttps://medlineplus.gov/highbloodpressure.html\\nWhat is blood pressure?<p>Blood pressure is the force of your blood pushing against the walls of your arteries. Each time your heart beats, it pumps blood into the arteries. Your <span class=\"qt0\"><span class=\"qt1\">blood pressure is highest</span></span> when your heart beats, pumping the blood. This is called systolic pressure. When your heart is at rest, between beats, your blood pressure falls. This is called diastolic pressure.</p><p>Your blood pressure reading uses these two numbers. Usually the systolic number comes before or above the diastolic number. For example, 120/80 means a systolic of 120 and a diastolic of 80.</p>How is <span class=\"qt0\"><span class=\"qt1\">high blood pressure</span></span> diagnosed?<p><span class=\"qt0\"><span class=\"qt1\">High blood pressure</span></span> usually has no symptoms. So the only way to find out if you have it is to get regular blood pressure checks from your health care provider. Your provider will use a gauge, a stethoscope or electronic sensor, and a blood pressure cuff. He or she will take two or more readings at separate appointments before making a diagnosis.</p>Blood Pressure CategorySystolic Blood PressureDiastolic Blood PressureNormalLess than 120andLess than 80High Blood Pressure (no other heart risk factors)140 or higheror90 or higherHigh Blood Pressure (with other heart risk factors, according to some providers)130 or higheror80 or higherDangerously <span class=\"qt0\"><span class=\"qt1\">high blood pressure</span></span> - seek medical care right away180 or higherand120 or higher<p>For children and teens, the health care provider compares the blood pressure reading to what is normal for other kids who are the same age, height, and sex.</p>What are the different types of <span class=\"qt0\"><span class=\"qt1\">high blood pressure</span></span>?<p>There are two main types of <span class=\"qt0\"><span class=\"qt1\">high blood pressure</span></span>: primary and secondary <span class=\"qt0\"><span class=\"qt1\">high blood pressure</span></span>.:</p><ul><li>Primary, or essential, <span class=\"qt0\"><span class=\"qt1\">high blood pressure</span></span> is the most common type of <span class=\"qt0\"><span class=\"qt1\">high blood pressure</span></span>. For most people who get this kind of blood pressure, it develops over time as you get older.</li><li>Secondary <span class=\"qt0\"><span class=\"qt1\">high blood pressure</span></span> is caused by another medical condition or use of certain medicines. It usually gets better after you treat that condition or stop taking the medicines that are causing it.</li></ul>Why do I need to worry about <span class=\"qt0\"><span class=\"qt1\">high blood pressure</span></span>?<p>When your blood pressure stays high over time, it causes the heart to pump harder and work overtime, possibly leading to serious health problems such as heart attack, stroke, heart failure, and kidney failure.</p>What are the treatments for <span class=\"qt0\"><span class=\"qt1\">high blood pressure</span></span>?<p>Treatments for <span class=\"qt0\"><span class=\"qt1\">high blood pressure</span></span> include heart-healthy lifestyle changes and medicines.</p><p>You will work with your provider to come up with a treatment plan. It may include only the lifestyle changes. These changes, such as heart-healthy eating and exercise, can be very effective. But sometimes the changes do not control or lower your <span class=\"qt0\"><span class=\"qt1\">high blood pressure</span></span>. Then you may need to take medicine. There are different types of blood pressure medicines. Some people need to take more than one type.</p><p>If your <span class=\"qt0\"><span class=\"qt1\">high blood pressure</span></span> is caused by another medical condition or medicine, treating that condition or stopping the medicine may lower your blood pressure.</p><p>NIH: National Heart, Lung, and Blood Institute</p>\\n',\n",
              " '<h1><span class=\"qt1\">Pain</span></h1> \\nhttps://medlineplus.gov/pain.html\\n<p><span class=\"qt1\">Pain</span> is a signal in your nervous system that something may be wrong. It is an unpleasant feeling, such as a prick, tingle, sting, burn, or <span class=\"qt1\">ache. Pain</span> may be sharp or dull. It may come and go, or it may be constant. You may feel <span class=\"qt1\">pain</span> in one area of your body, such as your back, abdomen, chest, pelvis, or you may feel <span class=\"qt1\">pain</span> all over.</p><p><span class=\"qt1\">Pain</span> can be helpful in diagnosing a problem. If you never felt <span class=\"qt1\">pain</span>, you might seriously hurt yourself without knowing it, or you might not realize you have a medical problem that needs treatment.</p><p>There are two types of <span class=\"qt1\">pain</span>: acute and <span class=\"qt0\">chronic</span>. Acute <span class=\"qt1\">pain</span> usually comes on suddenly, because of a disease, injury, or inflammation. It can often be diagnosed and treated. It usually goes away, though sometimes it can turn into <span class=\"qt0\">chronic</span> <span class=\"qt1\">pain</span>. <span class=\"qt0\">Chronic</span> <span class=\"qt1\">pain</span> lasts for a long time, and can cause severe problems.</p><p><span class=\"qt1\">Pain</span> is not always curable, but there are many ways to treat it. Treatment depends on the cause and type of <span class=\"qt1\">pain</span>. There are drug treatments, including <span class=\"qt1\">pain</span> relievers. There are also non-drug treatments, such as acupuncture, physical therapy, and sometimes surgery.</p><p>NIH: National Institute of Neurological Disorders and Stroke</p>\\n',\n",
              " '<h1>How to Prevent <span class=\"qt0\"><span class=\"qt1\">High Blood Pressure</span></span></h1> \\nhttps://medlineplus.gov/howtopreventhighbloodpressure.html\\n<p>More than 1 in 3 adults in the U.S. has <span class=\"qt0\"><span class=\"qt1\">high blood pressure, or hypertension</span></span>. Many of those people don\\'t know they have it, because there are usually no warning signs. This can be dangerous, because <span class=\"qt0\"><span class=\"qt1\">high blood pressure</span></span> can lead to life-threatening conditions like heart attack or stroke. The good news is that you can often prevent or treat <span class=\"qt0\"><span class=\"qt1\">high blood pressure</span></span>. Early diagnosis and heart-healthy lifestyle changes can keep <span class=\"qt0\"><span class=\"qt1\">high blood pressure</span></span> from seriously damaging your health.</p>What is blood pressure?<p>Blood pressure is the force of your blood pushing against the walls of your arteries. Each time your heart beats, it pumps blood into the arteries. Your <span class=\"qt0\"><span class=\"qt1\">blood pressure is highest</span></span> when your heart beats, pumping the blood. This is called systolic pressure. When your heart is at rest, between beats, your blood pressure falls. This is called diastolic pressure.</p><p>Your blood pressure reading uses these two numbers. Usually the systolic number comes before or above the diastolic number. For example, 120/80 means a systolic of 120 and a diastolic of 80.</p>How is <span class=\"qt0\"><span class=\"qt1\">high blood pressure</span></span> diagnosed?<p><span class=\"qt0\"><span class=\"qt1\">High blood pressure</span></span> usually has no symptoms. So the only way to find out if you have it is to get regular blood pressure checks from your health care provider. Your provider will use a gauge, a stethoscope or electronic sensor, and a blood pressure cuff. He or she will take two or more readings at separate appointments before making a diagnosis.</p>Blood Pressure CategorySystolic Blood PressureDiastolic Blood PressureNormalLess than 120andLess than 80High Blood Pressure (no other heart risk factors)140 or higheror90 or higherHigh Blood Pressure (with other heart risk factors, according to some providers)130 or higheror80 or higherDangerously <span class=\"qt0\"><span class=\"qt1\">high blood pressure</span></span> - seek medical care right away180 or higherand120 or higher<p>For children and teens, the health care provider compares the blood pressure reading to what is normal for other kids who are the same age, height, and gender.</p><p>People with diabetes or chronic kidney disease should keep their blood pressure below 130/80.</p>Who is at risk for <span class=\"qt0\"><span class=\"qt1\">high blood pressure</span></span>?<p>Anyone can develop <span class=\"qt0\"><span class=\"qt1\">high blood pressure</span></span>, but there are certain factors that can increase your risk:</p><ul><li>Age - Blood pressure tends to rise with age</li><li>Race/Ethnicity - <span class=\"qt0\"><span class=\"qt1\">High blood pressure</span></span> is more common in African American adults</li><li>Weight - People who are overweight or have obesity are more likely to develop <span class=\"qt0\"><span class=\"qt1\">high blood pressure</span></span></li><li>Sex - Before age 55, men are more likely than women to develop <span class=\"qt0\"><span class=\"qt1\">high blood pressure</span></span>. After age 55, women are more likely than men to develop it.</li><li>Lifestyle - Certain lifestyle habits can raise your risk for <span class=\"qt0\"><span class=\"qt1\">high blood pressure</span></span>, such as eating too much sodium (salt) or not enough potassium, lack of exercise, drinking too much alcohol, and smoking.</li><li>Family history - A family history of <span class=\"qt0\"><span class=\"qt1\">high blood pressure</span></span> raises the risk of developing <span class=\"qt0\"><span class=\"qt1\">high blood pressure</span></span></li></ul>How can I prevent <span class=\"qt0\"><span class=\"qt1\">high blood pressure</span></span>?<p>You can help prevent <span class=\"qt0\"><span class=\"qt1\">high blood pressure</span></span> by having a healthy lifestyle. This means:</p><ul><li>Eating a healthy diet. To help manage your blood pressure, you should limit the amount of sodium (salt) that you eat and increase the amount of potassium in your diet. It is also important to eat foods that are lower in fat, as well as plenty of fruits, vegetables, and whole grains. The DASH eating plan is an example of an eating plan that can help you to lower your blood pressure.</li><li>Getting regular exercise. Exercise can help you maintain a healthy weight and lower your blood pressure. You should try to get moderate-intensity aerobic exercise at least 2 and a half hours per week, or vigorous-intensity aerobic exercise for 1 hour and 15 minutes per week. Aerobic exercise, such as brisk walking, is any exercise in which your heart beats harder and you use more oxygen than usual.</li><li>Being at a healthy weight. Being overweight or having obesity increases your risk for <span class=\"qt0\"><span class=\"qt1\">high blood pressure</span></span>. Maintaining a healthy weight can help you control <span class=\"qt0\"><span class=\"qt1\">high blood pressure</span></span> and reduce your risk for other health problems.</li><li>Limiting alcohol. Drinking too much alcohol can raise your blood pressure. It also adds extra calories, which may cause weight gain. Men should have no more than two drinks per day, and women only one.</li><li>Not smoking. Cigarette smoking raises your blood pressure and puts you at higher risk for heart attack and stroke. If you do not smoke, do not start. If you do smoke, talk to your health care provider for help in finding the best way for you to quit.</li><li>Managing stress. Learning how to relax and manage stress can improve your emotional and physical health and lower <span class=\"qt0\"><span class=\"qt1\">high blood pressure</span></span>. Stress management techniques include exercising, listening to music, focusing on something calm or peaceful, and meditating.</li></ul><p>If you already have <span class=\"qt0\"><span class=\"qt1\">high blood pressure</span></span>, it is important to prevent it from getting worse or causing complications. You should get regular medical care and follow your prescribed treatment plan. Your plan will include healthy lifestyle habit recommendations and possibly medicines.</p><p>NIH: National Heart, Lung, and Blood Institute</p>\\n']"
            ]
          },
          "metadata": {},
          "execution_count": 11
        }
      ]
    },
    {
      "cell_type": "code",
      "source": [
        "with open('texts_recs_umls_m3_2_clean_reranked_2ver.json', 'w') as f:\n",
        "  json.dump(rer_recs, f)"
      ],
      "metadata": {
        "id": "_H_DyIqJA2bI"
      },
      "execution_count": null,
      "outputs": []
    },
    {
      "cell_type": "markdown",
      "source": [
        "# for label studio"
      ],
      "metadata": {
        "id": "YNjwuy1wT3cs"
      }
    },
    {
      "cell_type": "code",
      "source": [
        "import json\n",
        "\n",
        "#with open('texts_recs_with_urls.json', 'r') as f:\n",
        "with open('texts_recs_umls_m3_2_clean_reranked_2ver.json', 'r') as f:\n",
        "  data = json.load(f)"
      ],
      "metadata": {
        "id": "KP-k1HSKBFRu"
      },
      "execution_count": null,
      "outputs": []
    },
    {
      "cell_type": "code",
      "source": [
        "import re\n",
        "\n",
        "titles = {}\n",
        "for key in data.keys():\n",
        "  clean_titles = []\n",
        "  clean_tag = re.compile('<.*?>') \n",
        "  for info in data[key]:\n",
        "    title_i = info.split('\\n')[0]\n",
        "    url = info.split('\\n')[1]\n",
        "    clean_title = re.sub(clean_tag, '', title_i)\n",
        "    clean_titles.append(clean_title + '\\n' + url)\n",
        "  titles[key] = clean_titles"
      ],
      "metadata": {
        "id": "hkylfloeYknj"
      },
      "execution_count": null,
      "outputs": []
    },
    {
      "cell_type": "code",
      "source": [
        "for i in titles.keys():\n",
        "  print(i)\n",
        "  print(titles[i])\n",
        "  print(len(titles[i]))\n",
        "  break"
      ],
      "metadata": {
        "id": "l9tvnPXomjYN",
        "colab": {
          "base_uri": "https://localhost:8080/"
        },
        "outputId": "3ec8c9aa-3079-40ff-f259-23a5a5c7a1d8"
      },
      "execution_count": null,
      "outputs": [
        {
          "output_type": "stream",
          "name": "stdout",
          "text": [
            "1\n",
            "['Friedreich Ataxia \\nhttps://medlineplus.gov/friedreichataxia.html', 'Sciatica \\nhttps://medlineplus.gov/sciatica.html', 'Spinal Muscular Atrophy \\nhttps://medlineplus.gov/spinalmuscularatrophy.html', 'Transient Ischemic Attack \\nhttps://medlineplus.gov/transientischemicattack.html', 'Pulmonary Hypertension \\nhttps://medlineplus.gov/pulmonaryhypertension.html', 'Chronic Pain \\nhttps://medlineplus.gov/chronicpain.html', 'Knee Injuries and Disorders \\nhttps://medlineplus.gov/kneeinjuriesanddisorders.html', 'High Blood Pressure \\nhttps://medlineplus.gov/highbloodpressure.html', 'Pain \\nhttps://medlineplus.gov/pain.html', 'How to Prevent High Blood Pressure \\nhttps://medlineplus.gov/howtopreventhighbloodpressure.html']\n",
            "10\n"
          ]
        }
      ]
    },
    {
      "cell_type": "code",
      "source": [
        "#for reranked\n",
        "\"\"\"new_titles = {}\n",
        "\n",
        "for i in titles.keys():\n",
        "  new_recs = []\n",
        "  for num in rec_nums[i]:\n",
        "    rec_ids = int(num)-1\n",
        "    new_recs.append(titles[i][rec_ids])\n",
        "  new_titles[i] = new_recs\"\"\""
      ],
      "metadata": {
        "id": "poq--uDUYxgI"
      },
      "execution_count": null,
      "outputs": []
    },
    {
      "cell_type": "code",
      "source": [
        ""
      ],
      "metadata": {
        "id": "TRbm0VWZY1Ij"
      },
      "execution_count": null,
      "outputs": []
    },
    {
      "cell_type": "code",
      "source": [
        "all_json_data = []\n",
        "\n",
        "for key in data.keys():\n",
        "  text_id = key\n",
        "  query = texts[key]\n",
        "  rec_titles = titles[key]\n",
        "\n",
        "  key_temp = {}\n",
        "  key_temp['id'] = text_id\n",
        "  data_temp = {} #data key\n",
        "  annot_temp = {} #annotations key\n",
        "  all_key_results = []\n",
        "  heads = query + '\\n' + \"Select document related to the query:\" + '\\n\\n'\n",
        "  text_num = 1\n",
        "  for i in rec_titles[:10]:\n",
        "    res_dict = {}\n",
        "    key_name = \"text\" + str(text_num)\n",
        "    heads = heads + str(text_num) + '. ' + i + '\\n\\n'\n",
        "    text_num += 1\n",
        "\n",
        "  data_temp['my_text'] = heads\n",
        "  key_temp['data'] = data_temp\n",
        "\n",
        "  all_json_data.append(key_temp)"
      ],
      "metadata": {
        "id": "MJwNdj5VnHne"
      },
      "execution_count": null,
      "outputs": []
    },
    {
      "cell_type": "code",
      "source": [
        "with open('data_formarted_umls_m32_re_2ver.json', 'w') as f: #umls+m32 reranked\n",
        "  json.dump(all_json_data, f)"
      ],
      "metadata": {
        "id": "EgAFL_P3BSSU"
      },
      "execution_count": null,
      "outputs": []
    },
    {
      "cell_type": "code",
      "source": [
        "with open('data_formarted_umls_m32_re.json', 'w') as f: #umls+m32 reranked\n",
        "  json.dump(all_json_data, f)"
      ],
      "metadata": {
        "id": "a_2VTkCkOTKF"
      },
      "execution_count": null,
      "outputs": []
    },
    {
      "cell_type": "code",
      "source": [
        "with open('data_formarted_with_urls_8.json', 'w') as f: #original\n",
        "  json.dump(all_json_data, f)"
      ],
      "metadata": {
        "id": "MQ2FEiMwqf5B"
      },
      "execution_count": null,
      "outputs": []
    },
    {
      "cell_type": "code",
      "source": [
        "with open('data_formarted_with_urls_2ver.json', 'w') as f: #reranked\n",
        "  json.dump(all_json_data, f)"
      ],
      "metadata": {
        "id": "tJK0cC34ahSA"
      },
      "execution_count": null,
      "outputs": []
    },
    {
      "cell_type": "code",
      "source": [
        "for key in all_json_data:\n",
        "  print(key)\n",
        "  print(key['data'].keys())\n",
        "  break"
      ],
      "metadata": {
        "id": "kEKqJa3o8bfD",
        "colab": {
          "base_uri": "https://localhost:8080/"
        },
        "outputId": "c7ecc8f5-6ca8-4c05-938c-a037d6337e67"
      },
      "execution_count": null,
      "outputs": [
        {
          "output_type": "stream",
          "name": "stdout",
          "text": [
            "{'id': '1', 'data': {'my_text': '\\nPatient is a 45-year-old man with a history of anaplastic astrocytoma of the spine complicated by severe lower extremity weakness and urinary retention s/p Foley catheter, high-dose steroids, hypertension, and chronic pain. The tumor is located in the T-L spine, unresectable anaplastic astrocytoma s/p radiation. Complicated by progressive lower extremity weakness and urinary retention. Patient initially presented with RLE weakness where his right knee gave out with difficulty walking and right anterior thigh numbness. MRI showed a spinal cord conus mass which was biopsied and found to be anaplastic astrocytoma. Therapy included field radiation t10-l1 followed by 11 cycles of temozolomide 7 days on and 7 days off. This was followed by CPT-11 Weekly x4 with Avastin Q2 weeks/ 2 weeks rest and repeat cycle. \\n\\nSelect document related to the query:\\n\\n1. High Blood Pressure \\nhttps://medlineplus.gov/highbloodpressure.html\\n\\n2. Pulmonary Hypertension \\nhttps://medlineplus.gov/pulmonaryhypertension.html\\n\\n3. How to Prevent High Blood Pressure \\nhttps://medlineplus.gov/howtopreventhighbloodpressure.html\\n\\n4. High Blood Pressure in Pregnancy \\nhttps://medlineplus.gov/highbloodpressureinpregnancy.html\\n\\n5. Blood Pressure Medicines \\nhttps://medlineplus.gov/bloodpressuremedicines.html\\n\\n6. Cancer \\nhttps://medlineplus.gov/cancer.html\\n\\n7. Throat Cancer \\nhttps://medlineplus.gov/throatcancer.html\\n\\n8. Intestinal Cancer \\nhttps://medlineplus.gov/intestinalcancer.html\\n\\n9. Nasal Cancer \\nhttps://medlineplus.gov/nasalcancer.html\\n\\n10. Benign Tumors \\nhttps://medlineplus.gov/benigntumors.html\\n\\n'}}\n",
            "dict_keys(['my_text'])\n"
          ]
        }
      ]
    },
    {
      "cell_type": "code",
      "source": [
        ""
      ],
      "metadata": {
        "id": "p6c0R9emwD4n"
      },
      "execution_count": null,
      "outputs": []
    },
    {
      "cell_type": "markdown",
      "source": [
        "# for pyserini"
      ],
      "metadata": {
        "id": "wxMwHK0ITv0R"
      }
    },
    {
      "cell_type": "code",
      "source": [
        "pip install jsonlines"
      ],
      "metadata": {
        "colab": {
          "base_uri": "https://localhost:8080/"
        },
        "id": "bx7nSZ80VlUp",
        "outputId": "a28bd1cb-8467-4b5f-c0b9-6a7a102545d3"
      },
      "execution_count": null,
      "outputs": [
        {
          "output_type": "stream",
          "name": "stdout",
          "text": [
            "Looking in indexes: https://pypi.org/simple, https://us-python.pkg.dev/colab-wheels/public/simple/\n",
            "Requirement already satisfied: jsonlines in /usr/local/lib/python3.7/dist-packages (3.0.0)\n",
            "Requirement already satisfied: typing-extensions in /usr/local/lib/python3.7/dist-packages (from jsonlines) (4.2.0)\n",
            "Requirement already satisfied: attrs>=19.2.0 in /usr/local/lib/python3.7/dist-packages (from jsonlines) (21.4.0)\n"
          ]
        }
      ]
    },
    {
      "cell_type": "code",
      "source": [
        "import json\n",
        "\n",
        "with open('texts_recs_umls_m3_2_clean.json', 'r') as f:\n",
        "  data = json.load(f)"
      ],
      "metadata": {
        "id": "HKDDcLtrV2L-"
      },
      "execution_count": null,
      "outputs": []
    },
    {
      "cell_type": "code",
      "source": [
        "data['1']"
      ],
      "metadata": {
        "colab": {
          "base_uri": "https://localhost:8080/"
        },
        "id": "H-XL7p49Y0r8",
        "outputId": "e2ce7158-6b4b-465c-9748-29a2c58b176c"
      },
      "execution_count": null,
      "outputs": [
        {
          "output_type": "execute_result",
          "data": {
            "text/plain": [
              "['<h1>Friedreich Ataxia</h1> \\nhttps://medlineplus.gov/friedreichataxia.html\\n<p>Friedreich ataxia is an inherited disease that damages your nervous system. The damage affects your spinal cord and the nerves that control muscle movement in your arms and legs.  Symptoms usually begin between the ages of 5 and 15. The main symptom is ataxia, which means trouble coordinating movements. Specific symptoms include:</p><ul><li><span class=\"qt0\">Difficulty</span> <span class=\"qt1\">walking</span></li><li>\\tMuscle weakness</li><li>\\tSpeech problems</li><li>\\tInvoluntary eye movements</li><li>\\tScoliosis (curving of the spine to one side)</li><li>\\tHeart palpitations, from the heart disease which can happen along with Friedreich ataxia</li></ul><p>People with Friedreich ataxia usually need a wheelchair 15 to 20 years after symptoms first appear. In severe cases, people become incapacitated. There is no cure. You can treat symptoms with medicines, braces, surgery, and physical therapy.</p><p>NIH: National Institute of Neurological Disorders and Stroke</p>\\n',\n",
              " '<h1>Knee Injuries and Disorders</h1> \\nhttps://medlineplus.gov/kneeinjuriesanddisorders.html\\n<p>Your knee joint is made up of bone, cartilage, ligaments and fluid. Muscles and tendons help the knee joint move. When any of these structures is hurt or diseased, you have knee problems. Knee problems can cause pain and <span class=\"qt0\">difficulty</span> <span class=\"qt1\">walking</span>.</p><p>Knee problems are very common, and they occur in people of all ages. Knee problems can interfere with many things, from participation in sports to simply getting up from a chair and <span class=\"qt1\">walking</span>. This can have a big impact on your life.</p><p>The most common disease affecting the knee is osteoarthritis. The cartilage in the knee gradually wears away, causing pain and swelling.</p><p>Injuries to ligaments and tendons also cause knee problems. A common injury is to the anterior cruciate ligament (ACL). You usually injure your ACL by a sudden twisting motion. ACL and other knee injuries are common sports injuries.</p><p>Treatment of knee problems depends on the cause. In some cases your doctor may recommend knee replacement.</p><p>NIH: National Institute of Arthritis and Musculoskeletal and Skin Diseases</p>\\n',\n",
              " '<h1>Transient Ischemic Attack</h1> \\nhttps://medlineplus.gov/transientischemicattack.html\\n<p>A transient ischemic attack (TIA) is a stroke that lasts only a few minutes. It happens when the blood supply to part of the brain is briefly blocked. Symptoms of a TIA are like other stroke symptoms, but do not last as long. They happen suddenly, and include:</p><ul><li>Numbness or weakness, especially on one side of the body</li><li>Confusion or trouble speaking or understanding speech</li><li>Trouble seeing in one or both eyes</li><li><span class=\"qt0\">Difficulty</span> <span class=\"qt1\">walking</span></li><li>Dizziness</li><li>Loss of balance or coordination</li></ul><p>Most symptoms of a TIA disappear within an hour, although they may last for up to 24 hours. Because you cannot tell if these symptoms are from a TIA or a stroke, you should go to the hospital right away.</p><p>TIAs are often a warning sign for future strokes. Taking medicine, such as blood thinners, may reduce your risk of a stroke. Your doctor might also recommend surgery. You can also help lower your risk by having a healthy lifestyle. This includes not smoking, not drinking too much, eating a healthy diet, and exercising. It is also important to control other health problems, such as high blood pressure and cholesterol.</p><p>NIH: National Institute of Neurological Disorders and Stroke</p>\\n',\n",
              " '<h1>Acute Lymphocytic Leukemia</h1> \\nhttps://medlineplus.gov/acutelymphocyticleukemia.html\\nWhat is leukemia?<p>Leukemia is a term for cancers of the blood cells. Leukemia starts in blood-forming tissues such as the bone marrow. Your bone marrow makes the cells which will develop into white blood cells, red blood cells, and platelets. Each type of cell has a different job:</p><ul><li>White blood cells help your body fight infection</li><li>Red blood cells deliver oxygen from your lungs to your tissues and organs</li><li>Platelets help form clots to stop bleeding</li></ul><p>When you have leukemia, your bone marrow makes large numbers of abnormal cells. This problem most often happens with white blood cells. These abnormal cells build up in your bone marrow and blood. They crowd out the healthy blood cells and make it hard for your cells and blood to do their work.</p>What is acute lymphocytic leukemia (ALL)?<p>Acute lymphocytic leukemia is a type of acute leukemia. It\\'s also called ALL and acute lymphoblastic leukemia. \"Acute\" means that it usually gets worse quickly if it\\'s not treated. ALL is the most common type of cancer in children. It can also affect adults.</p><p>In ALL, the bone marrow makes too many lymphocytes, a type of white blood cell. These cells normally help your body fight infection. But in ALL, they are abnormal and cannot fight infection very well. They also crowd out the healthy cells, which can lead to infection, anemia, and easy bleeding. These abnormal cells can also spread to other parts of the body, including the brain and spinal cord.</p>What causes acute lymphocytic leukemia (ALL)?<p>ALL happens when there are changes in the genetic material (DNA) in bone marrow cells. The cause of these genetic changes is unknown. However, there are certain factors that raise your risk of ALL.</p>Who is at risk for acute lymphocytic leukemia (ALL)?<p>The factors that raise your risk of ALL include:</p><ul><li>Being male</li><li>Being white</li><li>Being over age 70</li><li>Having had chemotherapy or <span class=\"qt1\">radiation</span> therapy</li><li>Having been exposed to high levels of <span class=\"qt1\">radiation</span></li><li>Having certain genetic disorders, such as Down syndrome</li></ul>What are the symptoms of acute lymphocytic leukemia (ALL)?<p>The signs and symptoms of ALL include:</p><ul><li>Weakness or feeling tired</li><li>Fever or night sweats</li><li>Easy bruising or bleeding</li><li>Petechiae, which are tiny red dots under the skin. They are caused by bleeding.</li><li>Shortness of breath</li><li>Weight loss or loss of appetite</li><li>Pain in the bones or stomach</li><li>Pain or feeling of fullness below the ribs</li><li>Swollen lymph nodes - you may notice them as painless lumps in the neck, underarm, stomach, or groin</li><li>Having had many infections</li></ul>How is acute lymphocytic leukemia (ALL) diagnosed?<p>Your health care provider may use many tools to diagnose ALL and figure out which subtype you have:</p><ul><li>A physical exam</li><li>A medical history</li><li>Blood tests, such as\\n      <ul><li>Complete blood count (CBC) with differential</li><li>Blood chemistry tests such as a basic metabolic panel (BMP), comprehensive metabolic panel (CMP), kidney function tests, liver function tests, and electrolyte panel</li><li>Blood smear</li></ul>  \\n</li><li>Bone marrow tests. There are two main types - bone marrow aspiration and bone marrow biopsy. Both tests involve removing a sample of bone marrow and bone. The samples are sent to a lab for testing.</li><li>Genetic tests to look for gene and chromosome changes</li></ul><p>If you are diagnosed with ALL, you may have additional tests to see whether the cancer has spread. These include imaging tests and a lumbar puncture, which is a procedure to collect and test cerebrospinal fluid (CSF).</p>What are the treatments for acute lymphocytic leukemia (ALL)?<p>Treatments for ALL include:</p><ul><li>Chemotherapy</li><li><span class=\"qt1\">Radiation</span> therapy</li><li>Chemotherapy with stem cell transplant</li><li>Targeted therapy, which uses drugs or other substances that attack specific cancer cells with less harm to normal cells</li></ul><p>Treatment is usually done in two phases:</p><ul><li>The goal of the first phase is to kill the leukemia cells in the blood and bone marrow. This treatment puts the leukemia into remission. Remission means that the signs and symptoms of cancer are reduced or have disappeared.</li><li>The second phase is known as post-remission therapy. Its goal is to prevent a relapse (return) of the cancer. It involves killing any remaining leukemia cells that may not be active but could begin to regrow.</li></ul><p>Treatment during both phases also usually includes central nervous system (CNS) prophylaxis therapy. This therapy helps prevent the spread of leukemia cells to the brain and spinal cord. It may be high dose chemotherapy or chemotherapy injected into the spinal cord. It also sometimes includes <span class=\"qt1\">radiation</span> therapy.</p><p>NIH: National Cancer Institute</p>\\n',\n",
              " '<h1>Leukemia</h1> \\nhttps://medlineplus.gov/leukemia.html\\nWhat is leukemia?<p>Leukemia is a term for cancers of the blood cells. Leukemia starts in blood-forming tissues such as the bone marrow. Your bone marrow makes the cells which will develop into white blood cells, red blood cells, and platelets. Each type of cell has a different job:</p><ul><li>White blood cells help your body fight infection</li><li>Red blood cells deliver oxygen from your lungs to your tissues and organs</li><li>Platelets help form clots to stop bleeding</li></ul><p>When you have leukemia, your bone marrow makes large numbers of abnormal cells. This problem most often happens with white blood cells. These abnormal cells build up in your bone marrow and blood. They crowd out the healthy blood cells and make it hard for your cells and blood to do their work.</p>What are the types of leukemia?<p>There are different types of leukemia. Which type of leukemia you have depends on the type of blood cell that becomes cancer and whether it grows quickly or slowly.</p><p>The type of blood cell could be:</p><ul><li>Lymphocytes, a type of white blood cell</li><li>Myeloid cells, immature cells that become white blood cells, red blood cells, or platelets</li></ul><p>The different types can grow quickly or slowly:</p><ul><li>Acute leukemia is fast growing. It usually gets worse quickly if it\\'s not treated.</li><li>Chronic leukemia is slow growing. It usually gets worse over a longer period of time.</li></ul><p>The main types of leukemia are:</p><ul><li>Acute lymphocytic leukemia (ALL), which is the most common type of cancer in children. It can also affect adults.</li><li>Acute myeloid leukemia (AML), which is more common in older adults but can also affect children</li><li>Chronic lymphocytic leukemia (CLL), which is one of the most common types of leukemia in adults. It often occurs during or after middle age.</li><li>Chronic myeloid leukemia (CML), which usually occurs in adults during or after middle age</li></ul>What causes leukemia?<p>Leukemia happens when there are changes in the genetic material (DNA) in bone marrow cells. The cause of these genetic changes is unknown.</p>Who is at risk for leukemia?<p>For the specific types, there are different factors which can raise your risk of getting that type. Overall, your risk of leukemia goes up as you age. It is most common over age 60.</p>What are the symptoms of leukemia?<p>Some of the symptoms of leukemia may include:</p><ul><li>Feeling tired</li><li>Fever or night sweats</li><li>Easy bruising or bleeding</li><li>Weight loss or loss of appetite</li><li>Petechiae, which are tiny red dots under the skin. They are caused by bleeding.</li></ul><p>Other leukemia symptoms can be different from type to type. Chromic leukemia may not cause symptoms at first.</p>How is leukemia diagnosed?<p>Your health care provider may use many tools to diagnose leukemia:</p><ul><li>A physical exam</li><li>A medical history</li><li>Blood tests, such as a complete blood count (CBC)</li><li>Bone marrow tests. There are two main types - bone marrow aspiration and bone marrow biopsy. Both tests involve removing a sample of bone marrow and bone. The samples are sent to a lab for testing.</li><li>Genetic tests to look for gene and chromosome changes</li></ul><p>Once the provider makes a diagnosis, there may be additional tests to see whether the cancer has spread. These include imaging tests and a lumbar puncture, which is a procedure to collect and test cerebrospinal fluid (CSF).</p>What are the treatments for leukemia?<p>The treatments for leukemia depend on which type you have, how severe the leukemia is, your age, your overall health, and other factors. Some possible treatments might include:</p><ul><li>Chemotherapy</li><li><span class=\"qt1\">Radiation</span> therapy</li><li>Chemotherapy with stem cell transplant</li><li>Targeted therapy, which uses drugs or other substances that attack specific cancer cells with less harm to normal cells</li></ul><p>NIH: National Cancer Institute</p>\\n',\n",
              " '<h1>Childhood Leukemia</h1> \\nhttps://medlineplus.gov/childhoodleukemia.html\\nWhat is leukemia?<p>Leukemia is a term for cancers of the blood cells. Leukemia starts in blood-forming tissues such as the bone marrow. Your bone marrow makes the cells which will develop into white blood cells, red blood cells, and platelets. Each type of cell has a different job:</p><ul><li>White blood cells help your body fight infection</li><li>Red blood cells deliver oxygen from your lungs to your tissues and organs</li><li>Platelets help form clots to stop bleeding</li></ul><p>When you have leukemia, your bone marrow makes large numbers of abnormal cells. This problem most often happens with white blood cells. These abnormal cells build up in your bone marrow and blood. They crowd out the healthy blood cells and make it hard for your cells and blood to do their work.</p>What are the types of leukemia in children?<p>There are different types of leukemia. Some types are acute (fast growing). They usually get worse quickly if they are not treated. Most childhood leukemias are acute:</p><ul><li>Acute lymphocytic leukemia (ALL), which is the most common type of leukemia in children and the most common cancer in children. In ALL, the bone marrow makes too many lymphocytes, a type of white blood cell.</li><li>Acute myeloid leukemia (AML), which happens when bone marrow makes abnormal myeloblasts (a type of white blood cell), red blood cells, or platelets.</li></ul><p>Other types of leukemia are chronic (slow growing). They usually get worse over a longer period of time. They are rare in children:</p><ul><li>Chronic lymphocytic leukemia (CLL), in which the bone marrow makes abnormal lymphocytes (a type of white blood cell). It is more common in teens than children.</li><li>Chronic myeloid leukemia (CML), in which the bone marrow makes abnormal granulocytes (a type of white blood cell). It is very rare in children.</li></ul><p>There are some other rare types of leukemia in children, including juvenile myelomonocytic leukemia (JMML).</p>What causes leukemia in children?<p>Leukemia happens when there are changes in the genetic material (DNA) in bone marrow cells. The cause of these genetic changes is unknown. However, there are certain factors that raise the risk of childhood leukemia.</p>Who is at risk for leukemia in children?<p>The factors that raise the risk of childhood leukemia include:</p><ul><li>Having a brother or sister, especially a twin, with leukemia</li><li>Past treatment with chemotherapy</li><li>Exposure to <span class=\"qt1\">radiation</span>, including <span class=\"qt1\">radiation</span> therapy</li><li>Having certain genetic conditions, such as \\n\\t<ul><li>Ataxia telangiectasia</li><li>Down syndrome</li><li>Fanconi anemia</li><li>Li-Fraumeni syndrome</li><li>Neurofibromatosis type 1</li></ul>\\n</li></ul><p>There are other factors that may raise the risk of getting one or more of the specific types of childhood leukemia.</p>What are the symptoms of leukemia in children?<p>Some of the symptoms of leukemia may include:</p><ul><li>Feeling tired</li><li>Fever or night sweats</li><li>Easy bruising or bleeding</li><li>Weight loss or loss of appetite</li><li>Petechiae, which are tiny red dots under the skin. They are caused by bleeding.</li></ul><p>Other leukemia symptoms can be different from type to type. Chronic leukemia may not cause symptoms at first.</p>How is leukemia in children diagnosed?<p>Your health care provider may use many tools to diagnose leukemia:</p><ul><li>A physical exam</li><li>A medical history</li><li>Blood tests, such as a complete blood count (CBC)</li><li>Bone marrow tests. There are two main types - bone marrow aspiration and bone marrow biopsy. Both tests involve removing a sample of bone marrow and bone. The samples are sent to a lab for testing.</li><li>Genetic tests to look for gene and chromosome changes</li></ul><p>Once there is a diagnosis of leukemia, other tests may be done to see whether the cancer has spread. These include imaging tests and a lumbar puncture, which is a procedure to collect and test cerebrospinal fluid (CSF).</p>What are the treatments for leukemia in children?<p>The treatments for leukemia depend on which type it is, how severe the leukemia is, the child\\'s age, and other factors. Possible treatments might include:</p><ul><li>chemotherapy</li><li><span class=\"qt1\">radiation</span> therapy</li><li>Chemotherapy with stem cell transplant</li><li>Targeted therapy, which uses drugs or other substances that attack specific cancer cells with less harm to normal cells</li></ul><p>Treatment for childhood leukemia is often successful. But the treatments can cause complications right away or later in life. Children who survived leukemia will need follow-up care the rest of their lives to watch for and treat any complications they may have.</p><p>NIH: National Cancer Institute</p>\\n',\n",
              " '<h1><span class=\"qt0\"><span class=\"qt1\">High Blood Pressure</span></span></h1> \\nhttps://medlineplus.gov/highbloodpressure.html\\nWhat is blood pressure?<p>Blood pressure is the force of your blood pushing against the walls of your arteries. Each time your heart beats, it pumps blood into the arteries. Your <span class=\"qt0\"><span class=\"qt1\">blood pressure is highest</span></span> when your heart beats, pumping the blood. This is called systolic pressure. When your heart is at rest, between beats, your blood pressure falls. This is called diastolic pressure.</p><p>Your blood pressure reading uses these two numbers. Usually the systolic number comes before or above the diastolic number. For example, 120/80 means a systolic of 120 and a diastolic of 80.</p>How is <span class=\"qt0\"><span class=\"qt1\">high blood pressure</span></span> diagnosed?<p><span class=\"qt0\"><span class=\"qt1\">High blood pressure</span></span> usually has no symptoms. So the only way to find out if you have it is to get regular blood pressure checks from your health care provider. Your provider will use a gauge, a stethoscope or electronic sensor, and a blood pressure cuff. He or she will take two or more readings at separate appointments before making a diagnosis.</p>Blood Pressure CategorySystolic Blood PressureDiastolic Blood PressureNormalLess than 120andLess than 80High Blood Pressure (no other heart risk factors)140 or higheror90 or higherHigh Blood Pressure (with other heart risk factors, according to some providers)130 or higheror80 or higherDangerously <span class=\"qt0\"><span class=\"qt1\">high blood pressure</span></span> - seek medical care right away180 or higherand120 or higher<p>For children and teens, the health care provider compares the blood pressure reading to what is normal for other kids who are the same age, height, and sex.</p>What are the different types of <span class=\"qt0\"><span class=\"qt1\">high blood pressure</span></span>?<p>There are two main types of <span class=\"qt0\"><span class=\"qt1\">high blood pressure</span></span>: primary and secondary <span class=\"qt0\"><span class=\"qt1\">high blood pressure</span></span>.:</p><ul><li>Primary, or essential, <span class=\"qt0\"><span class=\"qt1\">high blood pressure</span></span> is the most common type of <span class=\"qt0\"><span class=\"qt1\">high blood pressure</span></span>. For most people who get this kind of blood pressure, it develops over time as you get older.</li><li>Secondary <span class=\"qt0\"><span class=\"qt1\">high blood pressure</span></span> is caused by another medical condition or use of certain medicines. It usually gets better after you treat that condition or stop taking the medicines that are causing it.</li></ul>Why do I need to worry about <span class=\"qt0\"><span class=\"qt1\">high blood pressure</span></span>?<p>When your blood pressure stays high over time, it causes the heart to pump harder and work overtime, possibly leading to serious health problems such as heart attack, stroke, heart failure, and kidney failure.</p>What are the treatments for <span class=\"qt0\"><span class=\"qt1\">high blood pressure</span></span>?<p>Treatments for <span class=\"qt0\"><span class=\"qt1\">high blood pressure</span></span> include heart-healthy lifestyle changes and medicines.</p><p>You will work with your provider to come up with a treatment plan. It may include only the lifestyle changes. These changes, such as heart-healthy eating and exercise, can be very effective. But sometimes the changes do not control or lower your <span class=\"qt0\"><span class=\"qt1\">high blood pressure</span></span>. Then you may need to take medicine. There are different types of blood pressure medicines. Some people need to take more than one type.</p><p>If your <span class=\"qt0\"><span class=\"qt1\">high blood pressure</span></span> is caused by another medical condition or medicine, treating that condition or stopping the medicine may lower your blood pressure.</p><p>NIH: National Heart, Lung, and Blood Institute</p>\\n',\n",
              " '<h1>Pulmonary <span class=\"qt0\"><span class=\"qt1\">Hypertension</span></span></h1> \\nhttps://medlineplus.gov/pulmonaryhypertension.html\\n<p>Pulmonary <span class=\"qt0\"><span class=\"qt1\">hypertension</span></span> (PH) is <span class=\"qt0\"><span class=\"qt1\">high blood pressure</span></span> in the arteries to your lungs. It is a serious condition. If you have it, the blood vessels that carry blood from your heart to your lungs become hard and narrow. Your heart has to work harder to pump the blood through. Over time, your heart weakens and cannot do its job and you can develop heart failure. </p><p>Symptoms of PH  include:</p><ul><li>Shortness of breath during routine activity, such as climbing two flights of stairs</li><li>Tiredness</li><li>Chest pain</li><li>A racing heartbeat</li><li>Pain on the upper right side of the abdomen</li><li>Decreased appetite</li></ul><p>As PH worsens, you may find it hard to do any physical activities.</p><p>There are two main kinds of PH. One runs in families or appears for no known reason. The other kind is related to another condition, usually heart or lung disease. </p><p>There is no cure for PH. Treatments can control symptoms.  They involve treating the heart or lung disease, medicines, oxygen, and sometimes lung transplantation.</p><p>NIH: National Heart, Lung, and Blood Institute</p>\\n',\n",
              " '<h1>How to Prevent <span class=\"qt0\"><span class=\"qt1\">High Blood Pressure</span></span></h1> \\nhttps://medlineplus.gov/howtopreventhighbloodpressure.html\\n<p>More than 1 in 3 adults in the U.S. has <span class=\"qt0\"><span class=\"qt1\">high blood pressure, or hypertension</span></span>. Many of those people don\\'t know they have it, because there are usually no warning signs. This can be dangerous, because <span class=\"qt0\"><span class=\"qt1\">high blood pressure</span></span> can lead to life-threatening conditions like heart attack or stroke. The good news is that you can often prevent or treat <span class=\"qt0\"><span class=\"qt1\">high blood pressure</span></span>. Early diagnosis and heart-healthy lifestyle changes can keep <span class=\"qt0\"><span class=\"qt1\">high blood pressure</span></span> from seriously damaging your health.</p>What is blood pressure?<p>Blood pressure is the force of your blood pushing against the walls of your arteries. Each time your heart beats, it pumps blood into the arteries. Your <span class=\"qt0\"><span class=\"qt1\">blood pressure is highest</span></span> when your heart beats, pumping the blood. This is called systolic pressure. When your heart is at rest, between beats, your blood pressure falls. This is called diastolic pressure.</p><p>Your blood pressure reading uses these two numbers. Usually the systolic number comes before or above the diastolic number. For example, 120/80 means a systolic of 120 and a diastolic of 80.</p>How is <span class=\"qt0\"><span class=\"qt1\">high blood pressure</span></span> diagnosed?<p><span class=\"qt0\"><span class=\"qt1\">High blood pressure</span></span> usually has no symptoms. So the only way to find out if you have it is to get regular blood pressure checks from your health care provider. Your provider will use a gauge, a stethoscope or electronic sensor, and a blood pressure cuff. He or she will take two or more readings at separate appointments before making a diagnosis.</p>Blood Pressure CategorySystolic Blood PressureDiastolic Blood PressureNormalLess than 120andLess than 80High Blood Pressure (no other heart risk factors)140 or higheror90 or higherHigh Blood Pressure (with other heart risk factors, according to some providers)130 or higheror80 or higherDangerously <span class=\"qt0\"><span class=\"qt1\">high blood pressure</span></span> - seek medical care right away180 or higherand120 or higher<p>For children and teens, the health care provider compares the blood pressure reading to what is normal for other kids who are the same age, height, and gender.</p><p>People with diabetes or chronic kidney disease should keep their blood pressure below 130/80.</p>Who is at risk for <span class=\"qt0\"><span class=\"qt1\">high blood pressure</span></span>?<p>Anyone can develop <span class=\"qt0\"><span class=\"qt1\">high blood pressure</span></span>, but there are certain factors that can increase your risk:</p><ul><li>Age - Blood pressure tends to rise with age</li><li>Race/Ethnicity - <span class=\"qt0\"><span class=\"qt1\">High blood pressure</span></span> is more common in African American adults</li><li>Weight - People who are overweight or have obesity are more likely to develop <span class=\"qt0\"><span class=\"qt1\">high blood pressure</span></span></li><li>Sex - Before age 55, men are more likely than women to develop <span class=\"qt0\"><span class=\"qt1\">high blood pressure</span></span>. After age 55, women are more likely than men to develop it.</li><li>Lifestyle - Certain lifestyle habits can raise your risk for <span class=\"qt0\"><span class=\"qt1\">high blood pressure</span></span>, such as eating too much sodium (salt) or not enough potassium, lack of exercise, drinking too much alcohol, and smoking.</li><li>Family history - A family history of <span class=\"qt0\"><span class=\"qt1\">high blood pressure</span></span> raises the risk of developing <span class=\"qt0\"><span class=\"qt1\">high blood pressure</span></span></li></ul>How can I prevent <span class=\"qt0\"><span class=\"qt1\">high blood pressure</span></span>?<p>You can help prevent <span class=\"qt0\"><span class=\"qt1\">high blood pressure</span></span> by having a healthy lifestyle. This means:</p><ul><li>Eating a healthy diet. To help manage your blood pressure, you should limit the amount of sodium (salt) that you eat and increase the amount of potassium in your diet. It is also important to eat foods that are lower in fat, as well as plenty of fruits, vegetables, and whole grains. The DASH eating plan is an example of an eating plan that can help you to lower your blood pressure.</li><li>Getting regular exercise. Exercise can help you maintain a healthy weight and lower your blood pressure. You should try to get moderate-intensity aerobic exercise at least 2 and a half hours per week, or vigorous-intensity aerobic exercise for 1 hour and 15 minutes per week. Aerobic exercise, such as brisk walking, is any exercise in which your heart beats harder and you use more oxygen than usual.</li><li>Being at a healthy weight. Being overweight or having obesity increases your risk for <span class=\"qt0\"><span class=\"qt1\">high blood pressure</span></span>. Maintaining a healthy weight can help you control <span class=\"qt0\"><span class=\"qt1\">high blood pressure</span></span> and reduce your risk for other health problems.</li><li>Limiting alcohol. Drinking too much alcohol can raise your blood pressure. It also adds extra calories, which may cause weight gain. Men should have no more than two drinks per day, and women only one.</li><li>Not smoking. Cigarette smoking raises your blood pressure and puts you at higher risk for heart attack and stroke. If you do not smoke, do not start. If you do smoke, talk to your health care provider for help in finding the best way for you to quit.</li><li>Managing stress. Learning how to relax and manage stress can improve your emotional and physical health and lower <span class=\"qt0\"><span class=\"qt1\">high blood pressure</span></span>. Stress management techniques include exercising, listening to music, focusing on something calm or peaceful, and meditating.</li></ul><p>If you already have <span class=\"qt0\"><span class=\"qt1\">high blood pressure</span></span>, it is important to prevent it from getting worse or causing complications. You should get regular medical care and follow your prescribed treatment plan. Your plan will include healthy lifestyle habit recommendations and possibly medicines.</p><p>NIH: National Heart, Lung, and Blood Institute</p>\\n',\n",
              " '<h1>LDL: The \"Bad\" Cholesterol</h1> \\nhttps://medlineplus.gov/ldlthebadcholesterol.html\\nWhat is cholesterol?<p>Cholesterol is a waxy, fat-like substance that\\'s found in all the cells in your body. Your liver makes cholesterol, and it is also in some foods, such as meat and dairy products. Your body needs some cholesterol to work properly. But having too much cholesterol in your blood raises your risk of coronary artery disease.</p>What are LDL and HDL?<p>LDL and HDL are two types of lipoproteins. They are a combination of fat (lipid) and protein. The lipids need to be attached to the proteins so they can move through the blood. LDL and HDL have different purposes:</p><ul><li>LDL stands for low-density lipoproteins. It is sometimes called the \"bad\" cholesterol because a <span class=\"qt0\">high</span> LDL level leads to a buildup of cholesterol in your arteries.</li><li>HDL stands for <span class=\"qt0\">high</span>-density lipoproteins. It is sometimes called the \"good\" cholesterol because it carries cholesterol from other parts of your body back to your liver. Your liver then removes the cholesterol from your body.</li></ul>How can a <span class=\"qt0\">high</span> LDL level raise my risk of coronary artery disease and other diseases?<p>If you have a <span class=\"qt0\">high</span> LDL level, this means that you have too much LDL cholesterol in your blood. This extra LDL, along with other substances, forms plaque. The plaque builds up in your arteries; this is a condition called atherosclerosis.</p><p>Coronary artery disease happens when the plaque buildup is in the arteries of your heart. It causes the arteries to become hardened and narrowed, which slows down or blocks the blood flow to your heart. Since your blood carries oxygen to your heart, this means that your heart may not be able to get enough oxygen. This can cause angina (chest pain), or if the blood flow is completely blocked, a heart attack.</p>How do I know what my LDL level is?<p>A blood test can measure your cholesterol levels, including LDL. When and how often you should get this test depends on your age, risk factors, and family history. The general recommendations are:</p><p>For people who are age 19 or younger::</p><ul><li>The first test should be between ages 9 to 11</li><li>Children should have the test again every 5 years</li><li>Some children may have this test starting at age 2 if there is a family history of <span class=\"qt0\">high</span> blood cholesterol, heart attack, or stroke</li></ul><p>For people who are age 20 or older::</p><ul><li>Younger adults should have the test every 5 years</li><li>Men ages 45 to 65 and women ages 55 to 65 should have it every 1 to 2 years</li></ul>What can affect my LDL level?<p>Things that can affect your LDL level include:</p><ul><li>Diet. Saturated fat and cholesterol in the food you eat make your blood cholesterol level rise</li><li>Weight. Being overweight tends to raise your LDL level, lower your HDL level, and increase your total cholesterol level</li><li>Physical Activity. A lack of physical activity can lead to weight gain, which can raise your LDL level</li><li>Smoking.Cigarette smoking lowers your HDL cholesterol. Since HDL helps to remove LDL from your arteries, if you have less HDL, that can contribute to you having a <span class=\"qt0\">higher</span> LDL level.</li><li>Age and Sex. As women and men get older, their cholesterol levels rise. Before the age of menopause, women have lower total cholesterol levels than men of the same age. After the age of menopause, women\\'s LDL levels tend to rise.</li><li>Genetics. Your genes partly determine how much cholesterol your body makes. <span class=\"qt0\">High</span> cholesterol can run in families. For example, familial hypercholesterolemia (FH) is an inherited form of <span class=\"qt0\">high</span> blood cholesterol.</li><li>Medicines. Certain medicines, including <span class=\"qt2\">steroids</span>, some blood pressure medicines, and HIV/AIDS medicines, can raise your LDL level.</li><li>Other medical conditions. Diseases such as chronic kidney disease, diabetes, and HIV/AIDS can cause a <span class=\"qt0\">higher</span> LDL level.</li><li>Race. Certain races may have an increased risk of <span class=\"qt0\">high</span> blood cholesterol. For example, African Americans typically have <span class=\"qt0\">higher</span> HDL and LDL cholesterol levels than whites.</li></ul>What should my LDL level be?<p>With LDL cholesterol, lower numbers are better, because a <span class=\"qt0\">high</span> LDL level can raise your risk for coronary artery disease and related problems:</p>LDL (Bad) Cholesterol LevelLDL Cholesterol CategoryLess than 100mg/dLOptimal100-129mg/dLNear optimal/above optimal130-159 mg/dLBorderline high160-189 mg/dLHigh190 mg/dL and aboveVery HighHow can I lower my LDL level?<p>There are two main ways to lower your LDL cholesterol:</p><ul><li>Therapeutic lifestyle changes (TLC). TLC includes three parts:</li><ul><li>Heart-healthy eating. A heart-healthy eating plan limits the amount of saturated and trans fats that you eat. Examples of eating plans that can lower your cholesterol include the Therapeutic Lifestyle Changes diet and the DASH eating plan.</li><li>Weight Management. If you are overweight, losing weight can help lower your LDL cholesterol.</li><li>Physical Activity. Everyone should get regular physical activity (30 minutes on most, if not all, days).</li></ul><li>Drug Treatment. If lifestyle changes alone do not lower your cholesterol enough, you may also need to take medicines. There are several types of cholesterol-lowering drugs available, including statins. The medicines work in different ways and can have different side effects. Talk to your health care provider about which one is right for you.  While you are taking medicines to lower your cholesterol, you still should continue with the lifestyle changes.</li></ul><p>Some people with familial hypercholesterolemia (FH) may receive a treatment called lipoprotein apheresis. This treatment uses a filtering machine to remove LDL cholesterol from the blood. Then the machine returns the rest of the blood back to the person.</p><p>NIH: National Heart, Lung, and Blood Institute</p>\\n',\n",
              " '<h1>HDL: The \"Good\" Cholesterol</h1> \\nhttps://medlineplus.gov/hdlthegoodcholesterol.html\\nWhat is cholesterol?<p>Cholesterol is a waxy, fat-like substance that\\'s found in all the cells in your body. Your liver makes cholesterol, and it is also in some foods, such as meat and dairy products. Your body needs some cholesterol to work properly. But having too much cholesterol in your blood raises your risk of coronary artery disease.</p>What are HDL and LDL?<p>HDL and LDL are two types of lipoproteins.They are a combination of fat (lipid) and protein.  The lipids need to be attached to the proteins so they can move through the blood. HDL and LDL have different purposes:</p><ul><li>HDL stands for <span class=\"qt0\">high</span>-density lipoproteins. It is sometimes called the \"good\" cholesterol because it carries cholesterol from other parts of your body back to your liver. Your liver then removes the cholesterol from your body.</li><li>LDL stands for low-density lipoproteins. It is sometimes called the \"bad\" cholesterol because a <span class=\"qt0\">high</span> LDL level leads to a buildup of cholesterol in your arteries.</li></ul>How do I know what my HDL level is?<p>A blood test can measure your cholesterol levels, including HDL. When and how often you should get this test depends on your age, risk factors, and family history.  The general recommendations are:</p><p>For people who are age 19 or younger::</p><ul><li>The first test should be between ages 9 to 11</li><li>Children should have the test again every 5 years</li><li>Some children may have this test starting at age 2 if there is a family history of <span class=\"qt0\">high</span> blood cholesterol, heart attack, or stroke</li></ul><p>For people who are age 20 or older::</p><ul><li>Younger adults should have the test every 5 years</li><li>Men ages 45 to 65 and women ages 55 to 65 should have it every 1 to 2 years</li></ul>What should my HDL level be?<p> With HDL cholesterol, <span class=\"qt0\">higher</span> numbers are better, because a <span class=\"qt0\">high</span> HDL level can lower your risk for coronary artery disease and stroke. How <span class=\"qt0\">high</span> your HDL should be depends on your age and sex:</p>GroupHealthy HDL LevelAge 19 or youngerMore than 45mg/dlMen age 20 or olderMore than 40mg/dlWomen age 20 or olderMore than 50mg/dlHow can I raise my HDL level?<p>If your HDL level is too low, lifestyle changes may help. These changes may also help prevent other diseases, and make you feel better overall:</p><ul><li>Eat a healthy diet. To raise your HDL level, you need to eat good fats instead of bad fats. This means limiting saturated fats, which include full-fat milk and cheese, <span class=\"qt0\">high</span>-fat meats like sausage and bacon, and foods made with butter, lard, and shortening. You should also avoid trans fats, which may be in some margarines, fried foods, and processed foods like baked goods. Instead, eat unsaturated fats, which are found in avocado, vegetable oils like olive oil, and nuts. Limit carbohydrates, especially sugar. Also try to eat more foods naturally <span class=\"qt0\">high</span> in fiber, such as oatmeal and beans.</li><li>Stay at a healthy weight. You can boost your HDL level by losing weight, especially if you have lots of fat around your waist.</li><li>Exercise. Getting regular exercise can raise your HDL level, as well as lower your LDL. You should try to do 30 minutes of moderate to vigorous aerobic exercise on most, if not all, days.</li><li>Avoid cigarettes.Smoking and exposure to secondhand smoke can lower your HDL level. If you are a smoker, ask your health care provider for help in finding the best way for you to quit. You should also try to avoid secondhand smoke.</li><li>Limit alcohol. Moderate alcohol may lower your HDL level, although more studies are needed to confirm that. What we do know is that too much alcohol can make you gain weight, and that lowers your HDL level.</li></ul><p>Some cholesterol medicines, including certain statins, can raise your HDL level, in addition to lowering your LDL level. Health care providers don\\'t usually prescribe medicines only to raise HDL. But if you have a low HDL and <span class=\"qt0\">high</span> LDL level, you might need medicine.</p>What else can affect my HDL level?<p>Taking certain medicines can lower HDL levels in some people. They include:</p><ul><li>Beta blockers, a type of blood pressure medicine</li><li>Anabolic <span class=\"qt2\">steroids</span>, including testosterone, a male hormone</li><li>Progestins, which are female hormones that are in some birth control pills and hormone replacement therapy</li><li>Benzodiazepines, sedatives that are often used for anxiety and insomnia</li></ul><p>If you are taking one of these and you have a very low HDL level, ask your provider if you should continue to take them.</p><p>Diabetes can also lower your HDL level, so that gives you another reason to manage your diabetes.</p>\\n',\n",
              " '<h1><span class=\"qt0\">High</span> Blood Pressure in Pregnancy</h1> \\nhttps://medlineplus.gov/highbloodpressureinpregnancy.html\\nWhat is <span class=\"qt0\">high</span> blood pressure in pregnancy?<p>Blood pressure is the force of your blood pushing against the walls of your arteries as your heart pumps blood. <span class=\"qt0\">High</span> blood pressure, or <span class=\"qt0\">hypertension</span>, is when this force against your artery walls is too <span class=\"qt0\">high</span>.  There are different types of <span class=\"qt0\">high</span> blood pressure in pregnancy:</p><ul><li>Gestational <span class=\"qt0\">hypertension is high</span> blood pressure that you develop while you are pregnant. It starts after you are 20 weeks pregnant. You usually don\\'t have any other symptoms. In many cases, it does not harm you or your baby, and it goes away within 12 weeks after childbirth. But it does raise your risk of <span class=\"qt0\">high</span> blood pressure in the future. It sometimes can be severe, which may lead to low birth weight or preterm birth. Some women with gestational <span class=\"qt0\">hypertension</span> do go on to develop preeclampsia.</li><li>Chronic <span class=\"qt0\">hypertension is high</span> blood pressure that started before the 20th week of pregnancy or before you became pregnant. Some women may have had it long before becoming pregnant but didn\\'t know it until they got their blood pressure checked at their prenatal visit. Sometimes chronic <span class=\"qt0\">hypertension</span> can also lead to preeclampsia.</li><li>Preeclampsia is a sudden increase in blood pressure after the 20th week of pregnancy. It usually happens in the last trimester. In rare cases, symptoms may not start until after delivery. This is called postpartum preeclampsia. Preeclampsia also includes signs of damage to some of your organs, such as your liver or kidney. The signs may include protein in the urine and very <span class=\"qt0\">high</span> blood pressure. Preeclampsia can be serious or even life-threatening for both you and your baby.</li></ul>What causes preeclampsia?<p>The cause of preeclampsia is unknown.</p>Who is at risk for preeclampsia?<p>You are at <span class=\"qt0\">higher</span> risk of preeclampsia if you:</p><ul><li>Had chronic <span class=\"qt0\">high</span> blood pressure or chronic kidney disease before pregnancy</li><li>Had <span class=\"qt0\">high</span> blood pressure or preeclampsia in a previous pregnancy</li><li>Have obesity</li><li>Are over age 40</li><li>Are pregnant with more than one baby</li><li>Are African American</li><li>Have a family history of preeclampsia</li><li>Have certain health conditions, such as diabetes, lupus, or thrombophilia (a disorder which raises your risk of blood clots)</li><li>Used in vitro fertilization, egg donation, or donor insemination</li></ul>What problems can preeclampsia cause?<p>Preeclampsia can cause:</p><ul><li>Placental abruption, where the placenta separates from the uterus</li><li>Poor fetal growth, caused by a lack of nutrients and oxygen</li><li>Preterm birth</li><li>A low birth weight baby</li><li>Stillbirth</li><li>Damage to your kidneys, liver, brain, and other organ and blood systems</li><li>A <span class=\"qt0\">higher</span> risk of heart disease for you</li><li>Eclampsia, which happens when preeclampsia is severe enough to affect brain function, causing seizures or coma</li><li>HELLP syndrome, which happens when a woman with preeclampsia or eclampsia has damage to the liver and blood cells. It is rare, but very serious.</li></ul>What are the symptoms of preeclampsia?<p>Possible symptoms of preeclampsia include:</p><ul><li><span class=\"qt0\">High</span> blood pressure</li><li>Too much protein in your urine (called proteinuria)</li><li>Swelling in your face and hands. Your feet may also swell, but many women have swollen feet during pregnancy. So swollen feet by themselves may not be a sign of a problem.</li><li>Headache that does not go away</li><li>Vision problems, including blurred vision or seeing spots</li><li>Pain in your upper right abdomen</li><li>Trouble breathing</li></ul><p>Eclampsia can also cause seizures, nausea and/or vomiting, and low urine output. If you go on to develop HELLP syndrome, you may also have bleeding or bruising easily, extreme fatigue, and liver failure.</p>How is preeclampsia diagnosed?<p>Your health care provider will check your blood pressure and urine at each prenatal visit. If your blood pressure reading is <span class=\"qt0\">high</span> (140/90 or <span class=\"qt0\">higher</span>), especially after the 20th week of pregnancy, your provider will likely want to run some tests. They may include blood tests other lab tests to look for extra protein in the urine as well as other symptoms.</p>What are the treatments for preeclampsia?<p>Delivering the baby can often cure preeclampsia. When making a decision about treatment, your provider take into account several factors. They include how severe it is, how many weeks pregnant you are, and what the potential risks to you and your baby are:</p><ul><li>If you are more than 37 weeks pregnant, your provider will likely want to deliver the baby.</li><li>If you are less than 37 weeks pregnant, your health care provider will closely monitor you and your baby. This includes blood and urine tests for you. Monitoring for the baby often involves ultrasound, heart rate monitoring, and checking on the baby\\'s growth. You may need to take medicines, to control your blood pressure and to prevent seizures. Some women also get <span class=\"qt2\">steroid</span> injections, to help the baby\\'s lungs mature faster. If the preeclampsia is severe, you provider may want you to deliver the baby early.</li></ul><p>The symptoms usually go away within 6 weeks of delivery. In rare cases, symptoms may not go away, or they may not start until after delivery (postpartum preeclampsia). This can be very serious, and it needs to be treated right away.</p>\\n',\n",
              " '<h1><span class=\"qt0\"><span class=\"qt1\"><span class=\"qt2\">Cancer</span></span></span></h1> \\nhttps://medlineplus.gov/cancer.html\\n<p><span class=\"qt0\"><span class=\"qt1\"><span class=\"qt2\">Cancer</span></span></span> begins in your cells, which are the building blocks of your body.   Normally, your body forms new cells as you need them, replacing old cells that die. Sometimes this process goes wrong. New cells grow even when you don\\'t need them, and old cells don\\'t die when they should. These extra cells can form a mass called a <span class=\"qt0\"><span class=\"qt1\"><span class=\"qt2\">tumor. Tumors</span></span></span> can be benign or malignant. Benign <span class=\"qt0\"><span class=\"qt1\"><span class=\"qt2\">tumors</span></span></span> aren\\'t <span class=\"qt0\"><span class=\"qt1\"><span class=\"qt2\">cancer</span></span></span> while malignant ones are. Cells from malignant <span class=\"qt0\"><span class=\"qt1\"><span class=\"qt2\">tumors</span></span></span> can invade nearby tissues. They can also break away and spread to other parts of the body. </p><p><span class=\"qt0\"><span class=\"qt1\"><span class=\"qt2\">Cancer</span></span></span> is not just one disease but many diseases. There are more than 100 different types of <span class=\"qt0\"><span class=\"qt1\"><span class=\"qt2\">cancer</span></span></span>. Most <span class=\"qt0\"><span class=\"qt1\"><span class=\"qt2\">cancers</span></span></span> are named for where they start. For example, lung <span class=\"qt0\"><span class=\"qt1\"><span class=\"qt2\">cancer</span></span></span> starts in the lung, and breast <span class=\"qt0\"><span class=\"qt1\"><span class=\"qt2\">cancer</span></span></span> starts in the breast. The spread of <span class=\"qt0\"><span class=\"qt1\"><span class=\"qt2\">cancer</span></span></span> from one part of the body to another is called metastasis. Symptoms and treatment depend on the <span class=\"qt0\"><span class=\"qt1\"><span class=\"qt2\">cancer</span></span></span> type and how advanced it is. Most treatment plans may include surgery, radiation and/or chemotherapy. Some may involve hormone therapy, immunotherapy or other types of biologic therapy, or stem cell transplantation. </p><p>NIH: National <span class=\"qt0\"><span class=\"qt1\"><span class=\"qt2\">Cancer</span></span></span> Institute</p>\\n',\n",
              " '<h1>Throat <span class=\"qt0\"><span class=\"qt1\"><span class=\"qt2\">Cancer</span></span></span></h1> \\nhttps://medlineplus.gov/throatcancer.html\\n<p>Throat <span class=\"qt0\"><span class=\"qt1\"><span class=\"qt2\">cancer</span></span></span> is a type of head and neck <span class=\"qt0\"><span class=\"qt1\"><span class=\"qt2\">cancer</span></span></span>. Throat <span class=\"qt0\"><span class=\"qt1\"><span class=\"qt2\">cancer</span></span></span> has different names, depending on which part of the throat is affected. The different parts of your throat are called the oropharynx, the hypopharynx, the nasopharynx, and the larynx, or voice box.</p><p>The main risk factors for throat <span class=\"qt0\"><span class=\"qt1\"><span class=\"qt2\">cancer</span></span></span> are using tobacco heavy drinking. Certain types of throat <span class=\"qt0\"><span class=\"qt1\"><span class=\"qt2\">cancer</span></span></span> also have other risk factors. For example, having HPV is a risk factor for oropharyngeal <span class=\"qt0\"><span class=\"qt1\"><span class=\"qt2\">cancer</span></span></span>.</p><p>Symptoms of throat <span class=\"qt0\"><span class=\"qt1\"><span class=\"qt2\">cancer</span></span></span> may include:</p><ul><li>A sore throat that does not go away</li><li>A lump in the neck</li><li>Pain or ringing in the ears</li><li>Trouble swallowing</li><li>Ear pain</li></ul><p>To diagnose throat <span class=\"qt0\"><span class=\"qt1\"><span class=\"qt2\">cancers</span></span></span>, doctors may do a physical exam and history, imaging tests, and a biopsy. You may also need other tests, depending on the type of <span class=\"qt0\"><span class=\"qt1\"><span class=\"qt2\">cancer</span></span></span>. Treatments include surgery, radiation therapy, and chemotherapy. Treatment for some types of throat <span class=\"qt0\"><span class=\"qt1\"><span class=\"qt2\">cancer</span></span></span> may also include targeted therapy. Targeted therapy uses drugs or other substances that attack specific <span class=\"qt0\"><span class=\"qt1\"><span class=\"qt2\">cancer</span></span></span> cells with less harm to normal cells.</p><p>NIH: National <span class=\"qt0\"><span class=\"qt1\"><span class=\"qt2\">Cancer</span></span></span> Institute</p>\\n',\n",
              " '<h1>Intestinal <span class=\"qt0\"><span class=\"qt1\"><span class=\"qt2\">Cancer</span></span></span></h1> \\nhttps://medlineplus.gov/intestinalcancer.html\\n<p>Your small intestine is part of your digestive system.  It is a long tube that connects your stomach to your large intestine. Intestinal <span class=\"qt0\"><span class=\"qt1\"><span class=\"qt2\">cancer</span></span></span> is rare, but eating a high-fat diet or having Crohn\\'s disease, celiac disease, or a history of  colonic polyps can increase your risk.</p><p>Possible signs of small intestine <span class=\"qt0\"><span class=\"qt1\"><span class=\"qt2\">cancer</span></span></span> include:</p><ul><li>Abdominal pain</li><li>Weight loss for no reason</li><li>Blood in the stool</li><li>A lump in the abdomen</li></ul><p>Imaging tests that create pictures of the small intestine and the area around it can help diagnose intestinal <span class=\"qt0\"><span class=\"qt1\"><span class=\"qt2\">cancer</span></span></span> and show whether it has spread.</p><p>Surgery is the most common treatment. Additional options include chemotherapy, radiation therapy, or a combination.</p><p>NIH: National <span class=\"qt0\"><span class=\"qt1\"><span class=\"qt2\">Cancer</span></span></span> Institute</p>\\n',\n",
              " '<h1>Sciatica</h1> \\nhttps://medlineplus.gov/sciatica.html\\n<p>Sciatica is a symptom of a problem with the sciatic nerve, the largest nerve in the body. It controls muscles in the back of your knee and lower leg and provides feeling to the back of your <span class=\"qt0\">thigh</span>, part of your lower leg, and the sole of your foot. When you have sciatica, you have pain, weakness, <span class=\"qt1\">numbness</span>, or tingling. It can start in the lower back and extend down your leg to your calf, foot, or even your toes. It\\'s usually on only one side of your body.</p><p>Causes of sciatica include:</p><ul><li>A ruptured intervertebral disk</li><li>Narrowing of the spinal canal that puts pressure on the nerve, called spinal stenosis</li><li>An injury such as a pelvic fracture.</li></ul><p>In many cases no cause can be found.</p><p>Sometimes sciatica goes away on its own. Treatment, if needed, depends on the cause of the problem. It may include exercises, medicines, and surgery.</p>\\n',\n",
              " '<h1>Spinal Muscular Atrophy</h1> \\nhttps://medlineplus.gov/spinalmuscularatrophy.html\\nWhat is spinal muscular atrophy (SMA)?<p>Spinal muscular atrophy (SMA) is a group of genetic diseases that damages and kills motor neurons. Motor neurons are a type of nerve cell in the spinal cord and <span class=\"qt1\">lower</span> part of the brain. They control movement in your arms, legs, face, chest, throat, and tongue.</p><p>As the motor neurons die off, your muscles start to weaken and atrophy (waste away). The muscle damage gets worse over time and can affect speaking, walking, swallowing, and breathing.</p>What are the types of spinal muscular atrophy (SMA) and what are their symptoms?<p>There are different types of SMA. They are based on how serious the disease is and when the symptoms start:</p><ul><li>Type l is also called Werdnig-Hoffman disease or infantile-onset SMA. It is the most <span class=\"qt0\">severe</span> type. It is also the most common. Babies with this type usually show signs of the disease before 6 months of age. In more <span class=\"qt0\">severe</span> cases, the signs show up even before or just after birth (Types 0 or 1A). The babies may have trouble swallowing and breathing and may not move around a lot. They have chronic shortening of muscles or tendons (called contractures). They usually cannot sit up without help. Without treatment, many children with this type will die before 2 years of age.</li><li>Type ll is a moderate to <span class=\"qt0\">severe</span> type of SMA. It usually first noticed between 6 and 18 months of age. Most children with this type can sit without support but cannot stand or walk without help. They may also have trouble breathing. They can usually live into adolescence or young adulthood.</li><li>Type lll is also called Kugelberg-Welander disease. It is the mildest type that affects children. The signs of the disease usually show up after age 18 months. Children with this type can walk by themselves but may have trouble running, getting up from a chair, or climbing stairs. They may also have scoliosis (curvature of the spine), contractures, and respiratory infections. With treatment, most children with this type will have a normal lifespan.</li><li>Type IV is rare and often mild. It usually causes symptoms after 21 years of age. The symptoms include mild to moderate leg muscle <span class=\"qt4\">weakness</span>, tremors, and mild breathing problems. The symptoms slowly get worse over time. People with this type of SMA have a normal lifespan.</li></ul>What causes spinal muscular atrophy (SMA)?<p>Most types of SMA are caused by a change in the SMN1 gene. This gene is responsible for making a protein that the motor neurons need to be healthy and to function. But when part of the SMN1 gene is missing or abnormal, there isn\\'t enough protein for the motor neurons. This causes the motor neurons to die off.</p><p>Most people have two copies of the SM1 gene - one from each parent. SMA normally only happens when both copies have the gene change. If only one copy has the change, there usually aren\\'t any symptoms. But that gene could be passed down from parent to child.</p><p>Some of the less common types of SMA may be caused by changes in other genes.</p>How is spinal muscular atrophy (SMA) diagnosed?<p>Your health care provider may use many tools to diagnose SMA:</p><ul><li>A physical exam</li><li>A medical history, including asking about family history</li><li>Genetic testing to check for the gene changes that cause SMA</li><li>Electromyography and nerve conduction studies and a muscle biopsy may be done, especially if no gene changes were found</li></ul><p>Parents who have a family history of SMA may want to do a prenatal test to check to see whether their baby has an SMN1 gene change. An amniocentesis or in some cases a chorionic villi sampling (CVS) is used to get the sample for testing.</p><p>In some states, genetic testing for SMA is part of newborn screening tests.</p>What are the treatments for spinal muscular atrophy (SMA)?<p>There is no cure for SMA. Treatments can help manage symptoms and prevent complications. They may include:</p><ul><li>Medicines to help the body make more of the proteins that the motor neurons need</li><li>Gene therapy for children under 2 years of age</li><li>Physical, occupational, and rehabilitation therapy to help to improve posture and the mobility of the joints. These therapies may also improve blood flow and slow muscle <span class=\"qt4\">weakness</span> and atrophy. Some people may also need therapy for trouble speaking, chewing, and swallowing.</li><li>Assistive devices such as supports or braces, orthotics, speech synthesizers, and wheelchairs to help people stay more independent</li><li>Good nutrition and a balanced diet to help maintain weight and strength. Some people might need a feeding tube in order to get the nutrition they need.</li><li>Breathing support for people who have muscle <span class=\"qt4\">weakness</span> in the neck, throat, and chest. The support may include devices to help with breathing during the day and to prevent sleep apnea at night. Some people might need to be on a ventilator.</li></ul><p>NIH: National Institute of Neurological Disorders and Stroke</p>\\n',\n",
              " '<h1><span class=\"qt0\">Chronic</span> <span class=\"qt1\">Pain</span></h1> \\nhttps://medlineplus.gov/chronicpain.html\\n<p><span class=\"qt1\">Pain</span> is a signal in your nervous system that something may be wrong.  It is an unpleasant feeling, such as a prick, tingle, sting, burn, or <span class=\"qt1\">ache. Pain</span> may be sharp or dull. You may feel <span class=\"qt1\">pain</span> in one area of your body, or all over.  There are two types: acute <span class=\"qt1\">pain</span> and <span class=\"qt0\">chronic</span> <span class=\"qt1\">pain</span>. Acute <span class=\"qt1\">pain</span> lets you know that you may be injured or a have problem you need to take care of. <span class=\"qt0\">Chronic</span> <span class=\"qt1\">pain</span> is different.  The <span class=\"qt1\">pain</span> may last for weeks, months, or even years. The original cause may have been an injury or infection. There may be an ongoing cause of <span class=\"qt1\">pain</span>, such as arthritis or cancer. In some cases there is no clear cause. Environmental and psychological factors can make <span class=\"qt0\">chronic</span> <span class=\"qt1\">pain</span> worse.</p><p>Many older adults have <span class=\"qt0\">chronic</span> <span class=\"qt1\">pain</span>. Women also report having more <span class=\"qt0\">chronic</span> <span class=\"qt1\">pain</span> than men, and they are at a greater risk for many <span class=\"qt1\">pain</span> conditions. Some people have two or more <span class=\"qt0\">chronic</span> <span class=\"qt1\">pain</span> conditions.</p><p><span class=\"qt0\">Chronic</span> <span class=\"qt1\">pain</span> is not always curable, but treatments can help. There are drug treatments, including <span class=\"qt1\">pain</span> relievers. There are also non-drug treatments, such as acupuncture, physical therapy, and sometimes surgery.</p><p>NIH: National Institute of Neurological Disorders and Stroke</p>\\n',\n",
              " '<h1>Non-Drug <span class=\"qt1\">Pain</span> Management</h1> \\nhttps://medlineplus.gov/nondrugpainmanagement.html\\nWhat is <span class=\"qt1\">pain</span>?<p><span class=\"qt1\">Pain</span> is a signal in your nervous system that something may be wrong. It is an unpleasant feeling, such as a prick, tingle, sting, burn, or <span class=\"qt1\">ache. Pain</span> may be sharp or dull. It may come and go, or it may be constant. You may feel <span class=\"qt1\">pain</span> in one area of your body, such as your back, abdomen, chest, pelvis, or you may feel <span class=\"qt1\">pain</span> all over.</p><p>There are two types of <span class=\"qt1\">pain</span>:</p><ul><li>Acute <span class=\"qt1\">pain</span> usually comes on suddenly, because of a disease, injury, or inflammation. It can often be diagnosed and treated. It usually goes away, though sometimes it can turn into <span class=\"qt0\">chronic</span> <span class=\"qt1\">pain</span>.</li><li><span class=\"qt0\">Chronic</span> <span class=\"qt1\">pain</span> lasts for a long time, and can cause severe problems</li></ul>What are <span class=\"qt1\">pain</span> relievers?<p><span class=\"qt1\">Pain</span> relievers are medicines that reduce or relieve <span class=\"qt1\">pain</span>. There are many different <span class=\"qt1\">pain</span> medicines, and each one has advantages and risks. Some are over-the-counter (OTC) medicines. Others are stronger medicines, which are available by prescription. The most powerful prescription <span class=\"qt1\">pain</span> relievers are opioids. They are very effective, but people who take them are at risk of addiction and overdose.</p><p>Because of the side effects and risks of <span class=\"qt1\">pain</span> relievers, you may want to try non-drug treatments first. And if you do need to take medicines, also doing some non-drug treatments may allow you to take a lower dose.</p>What are some non-drug treatments for <span class=\"qt1\">pain</span>?<p>There are many non-drug treatments that can help with <span class=\"qt1\">pain</span>. It is important to check with your health care provider before trying any of them:</p><ul><li>Acupuncture involves stimulating acupuncture points. These are specific points on your body. There are different acupuncture methods. The most common one involves inserting thin needles through the skin. Others include using pressure, electrical stimulation, and heat. Acupuncture is based on the belief that qi (vital energy) flows through the body along paths, called meridians. Practitioners believe that stimulating the acupuncture points can rebalance the qi. Research suggests that acupuncture can help manage certain <span class=\"qt1\">pain</span> conditions.</li><li>Biofeedback techniques use electronic devices to measure body functions such as breathing and heart rate. This teaches you to be more aware of your body functions so you can learn to control them. For example, a biofeedback device may show you measurements of your muscle tension. By watching how these measurements change, you can become more aware of when your muscles are tense and learn to relax them. Biofeedback may help to control <span class=\"qt1\">pain</span>, including <span class=\"qt0\">chronic</span> headaches and back <span class=\"qt1\">pain</span>.</li><li>Electrical stimulation involves using a device to send a gentle electric current to your nerves or muscles. This can help treat <span class=\"qt1\">pain</span> by interrupting or blocking the <span class=\"qt1\">pain</span> signals. Types include</li><ul><li>Transcutaneous electrical stimulation (TENS)</li><li>Implanted electric nerve stimulation</li><li>Deep brain or spinal cord stimulation</li></ul><li>Massage therapy is a treatment in which the soft tissues of the body are kneaded, rubbed, tapped, and stroked. Among other benefits, it may help people relax, and relieve stress and <span class=\"qt1\">pain</span>.</li><li>Meditation is a mind-body practice in which you focus your attention on something, such as an object, word, phrase, or breathing. This helps you to minimize distracting or stressful thoughts or feelings.</li><li>Physical therapy uses techniques such as heat, cold, exercise, massage, and manipulation. It can help to control <span class=\"qt1\">pain</span>, as well as condition muscles and restore strength.</li><li>Psychotherapy (talk therapy) uses methods such as discussion, listening, and counseling to treat mental and behavioral disorders. It can also help people who have <span class=\"qt1\">pain</span>, especially <span class=\"qt0\">chronic</span> <span class=\"qt1\">pain</span>, by</li><ul><li>Teaching them coping skills, to be able to better deal with the stress that <span class=\"qt1\">pain</span> can cause</li><li>Addressing negative thoughts and emotions that can make <span class=\"qt1\">pain</span> worse</li><li>Providing them with support</li></ul><li>Relaxation therapy can help reduce muscle tension and stress, lower blood pressure, and control <span class=\"qt1\">pain</span>. It may involve tensing and relaxing muscles throughout the body. It may be used with guided imagery (focusing the mind on positive images) and meditation.</li><li>Surgery can sometimes be necessary to treat severe <span class=\"qt1\">pain</span>, especially when it is caused by back problems or serious musculoskeletal injuries. There are always risks to getting surgery, and it does not always work to treat <span class=\"qt1\">pain</span>. So it is important to go through all of the risks and benefits with your health care provider.</li></ul>\\n',\n",
              " '<h1><span class=\"qt1\">Pain</span></h1> \\nhttps://medlineplus.gov/pain.html\\n<p><span class=\"qt1\">Pain</span> is a signal in your nervous system that something may be wrong. It is an unpleasant feeling, such as a prick, tingle, sting, burn, or <span class=\"qt1\">ache. Pain</span> may be sharp or dull. It may come and go, or it may be constant. You may feel <span class=\"qt1\">pain</span> in one area of your body, such as your back, abdomen, chest, pelvis, or you may feel <span class=\"qt1\">pain</span> all over.</p><p><span class=\"qt1\">Pain</span> can be helpful in diagnosing a problem. If you never felt <span class=\"qt1\">pain</span>, you might seriously hurt yourself without knowing it, or you might not realize you have a medical problem that needs treatment.</p><p>There are two types of <span class=\"qt1\">pain</span>: acute and <span class=\"qt0\">chronic</span>. Acute <span class=\"qt1\">pain</span> usually comes on suddenly, because of a disease, injury, or inflammation. It can often be diagnosed and treated. It usually goes away, though sometimes it can turn into <span class=\"qt0\">chronic</span> <span class=\"qt1\">pain</span>. <span class=\"qt0\">Chronic</span> <span class=\"qt1\">pain</span> lasts for a long time, and can cause severe problems.</p><p><span class=\"qt1\">Pain</span> is not always curable, but there are many ways to treat it. Treatment depends on the cause and type of <span class=\"qt1\">pain</span>. There are drug treatments, including <span class=\"qt1\">pain</span> relievers. There are also non-drug treatments, such as acupuncture, physical therapy, and sometimes surgery.</p><p>NIH: National Institute of Neurological Disorders and Stroke</p>\\n']"
            ]
          },
          "metadata": {},
          "execution_count": 19
        }
      ]
    },
    {
      "cell_type": "code",
      "source": [
        "import re\n",
        "import jsonlines\n",
        "\n",
        "titles = {}\n",
        "for key in data.keys(): #new jsonl\n",
        "  clean_titles = []\n",
        "  clean_tag = re.compile('<.*?>')\n",
        "  idx = 1\n",
        "\n",
        "  name = f'sample_collection_jsonl_2/doc_{key}.jsonl'\n",
        "  with jsonlines.open(name, 'w') as writer:\n",
        "    for info in data[key]: #new dict in line\n",
        "      line_dict = {}\n",
        "      line_dict['id'] = 'doc' + str(idx)\n",
        "      idx += 1\n",
        "\n",
        "      title_i = info.split('\\n')[0]\n",
        "      url = info.split('\\n')[1]\n",
        "      text = info.split('\\n')[2]\n",
        "      clean_title = re.sub(clean_tag, '', title_i)\n",
        "      clean_text = re.sub(clean_tag, '', text)\n",
        "      #clean_titles.append(clean_title + '\\n' + url)\n",
        "\n",
        "      #result = url + '\\n' + clean_title + '\\n' + clean_text\n",
        "      result = clean_title + ' ' + clean_text\n",
        "      line_dict['contents'] = result\n",
        "      writer.write(line_dict)\n",
        "\n",
        "  #print(f'Doc #{key} written')\n",
        "  #titles[key] = clean_titles"
      ],
      "metadata": {
        "id": "a1stPMTuwVuy"
      },
      "execution_count": null,
      "outputs": []
    },
    {
      "cell_type": "code",
      "source": [
        ""
      ],
      "metadata": {
        "id": "dMW3yGX4YzNB"
      },
      "execution_count": null,
      "outputs": []
    }
  ]
}