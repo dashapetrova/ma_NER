{
  "nbformat": 4,
  "nbformat_minor": 0,
  "metadata": {
    "colab": {
      "name": "ner_annot_preprocess.ipynb",
      "provenance": [],
      "collapsed_sections": []
    },
    "kernelspec": {
      "name": "python3",
      "display_name": "Python 3"
    },
    "language_info": {
      "name": "python"
    }
  },
  "cells": [
    {
      "cell_type": "code",
      "execution_count": null,
      "metadata": {
        "colab": {
          "base_uri": "https://localhost:8080/"
        },
        "id": "c1eWgmx9YgPb",
        "outputId": "6bd15538-5147-49a4-b06b-a3053f175c03"
      },
      "outputs": [
        {
          "output_type": "stream",
          "name": "stdout",
          "text": [
            "Mounted at /content/gdrive\n"
          ]
        }
      ],
      "source": [
        "from google.colab import drive\n",
        "drive.mount('/content/gdrive') #, force_remount=True"
      ]
    },
    {
      "cell_type": "code",
      "source": [
        "import os\n",
        "os.chdir('gdrive/My Drive/Colab Notebooks/miramedix')"
      ],
      "metadata": {
        "id": "DpnVX54oYkhG"
      },
      "execution_count": null,
      "outputs": []
    },
    {
      "cell_type": "code",
      "source": [
        "import json\n",
        "\n",
        "with open('ner_annotation.json', 'r') as f:\n",
        "  annot_data = json.load(f)"
      ],
      "metadata": {
        "id": "eN7ipXmbYmmO"
      },
      "execution_count": null,
      "outputs": []
    },
    {
      "cell_type": "code",
      "source": [
        "data = []\n",
        "for i in range(len(annot_data)):\n",
        "  i_data = [annot_data[i]['id'], annot_data[i]['annotations'], annot_data[i]['data']]\n",
        "  data.append(i_data)"
      ],
      "metadata": {
        "id": "Qha6jYitY4c5"
      },
      "execution_count": null,
      "outputs": []
    },
    {
      "cell_type": "code",
      "source": [
        "data_sorted = sorted(data, key=lambda tup: tup[0])"
      ],
      "metadata": {
        "id": "bYNL1AfYHH91"
      },
      "execution_count": null,
      "outputs": []
    },
    {
      "cell_type": "code",
      "source": [
        "import json\n",
        "\n",
        "with open('descriptions.json', 'r') as f:\n",
        "  texts = json.load(f)"
      ],
      "metadata": {
        "id": "MP3hY1YIIDxs"
      },
      "execution_count": null,
      "outputs": []
    },
    {
      "cell_type": "code",
      "source": [
        "import re\n",
        "\n",
        "ner_data = {}\n",
        "for text_id in texts.keys():\n",
        "  clean_text = texts[text_id].strip()\n",
        "  #sents = [s + '.' for s in clean_text.split('. ') if s]\n",
        "  for_text = []\n",
        "  for sent_id in range(len(data_sorted)):\n",
        "    sent = data_sorted[sent_id][2]['text']\n",
        "    sent_clean = re.sub(' / ', '/', sent)\n",
        "    if sent_clean in clean_text:\n",
        "      for_text.append(data_sorted[sent_id])\n",
        "  ner_data[text_id] = for_text"
      ],
      "metadata": {
        "id": "8NbKvqADJSHL"
      },
      "execution_count": null,
      "outputs": []
    },
    {
      "cell_type": "code",
      "source": [
        "texts['1']"
      ],
      "metadata": {
        "colab": {
          "base_uri": "https://localhost:8080/",
          "height": 122
        },
        "id": "lLjj7ylNyNhY",
        "outputId": "491d78fe-499b-43e3-d4ab-57ef21c9bfd2"
      },
      "execution_count": null,
      "outputs": [
        {
          "output_type": "execute_result",
          "data": {
            "text/plain": [
              "'\\nPatient is a 45-year-old man with a history of anaplastic astrocytoma of the spine complicated by severe lower extremity weakness and urinary retention s/p Foley catheter, high-dose steroids, hypertension, and chronic pain. The tumor is located in the T-L spine, unresectable anaplastic astrocytoma s/p radiation. Complicated by progressive lower extremity weakness and urinary retention. Patient initially presented with RLE weakness where his right knee gave out with difficulty walking and right anterior thigh numbness. MRI showed a spinal cord conus mass which was biopsied and found to be anaplastic astrocytoma. Therapy included field radiation t10-l1 followed by 11 cycles of temozolomide 7 days on and 7 days off. This was followed by CPT-11 Weekly x4 with Avastin Q2 weeks/ 2 weeks rest and repeat cycle. \\n'"
            ],
            "application/vnd.google.colaboratory.intrinsic+json": {
              "type": "string"
            }
          },
          "metadata": {},
          "execution_count": 8
        }
      ]
    },
    {
      "cell_type": "code",
      "source": [
        "stop_words = ['1-2', '1-2 times', '1 time per day', '2 times', '3 mm', '3 times', '4 times', '5 mm', \n",
        "              '6-10 times',\n",
        "              'abdominal', 'Abreaction', 'absences', 'Activity', 'admission', 'advice', 'anesthesia', \n",
        "              'anesthesias', 'Anesthetic', \n",
        "              'anesthetic', 'Appearance', 'Application', 'application', 'applications', 'arm',\n",
        "              'Asleep', 'asleep', 'asymptomatic', 'at admission', 'At home', 'attacks',\n",
        "              'Bacterium', 'bleed', 'bleeding', 'bleeding time', 'Blood', 'blood', 'Bloody', 'burning',\n",
        "              'burnings',\n",
        "              'carried', 'Chronic', 'Center', 'Clearance', 'clinical diagnosis', 'Coagulation', 'coagulation',\n",
        "              'complaints', 'condition', 'confirmed', 'consideration', 'Constriction', 'constriction', \n",
        "              'Consultation', 'consultation', 'consultations', 'Contact', 'contact',\n",
        "              'day', 'decreas', 'decreased', 'determination', 'Development', 'development', 'diagnose', \n",
        "              'diagnosed', 'diagnosis', 'difficulty', 'disc', 'disappointment', 'Discharge',\n",
        "              'discharge', 'Discharged', 'disease', 'diseases', 'disorders', 'drugs', 'dysfunction',\n",
        "              'effect', 'elevation', 'emergency', 'Emotional', 'emotional', 'Erythrocytes', 'Examination', \n",
        "              'examination', 'examinations', 'Examined', 'examined', 'Exercise', 'exercises', 'extraction',\n",
        "              'falls', 'field', 'first sign', 'first signs', 'Followed', 'follow-up', 'food',\n",
        "              'gas', 'General', 'grade', 'gradex', 'groups',\n",
        "              'Hemoglobin', 'hospitalized',\n",
        "              'Improved', 'improved', 'Increased', 'injection', 'intervention', 'intolerance', 'Intolerance', \n",
        "              'irradiation', 'irritable',\n",
        "              'Laboratory', 'lead increased', 'lesion', 'lesions', 'Leukocytes', 'Local', 'Low', 'low',\n",
        "              'Medical', 'Medications', 'medications', 'Monitoring', 'monitoring', 'Multifocals',\n",
        "              'Negative', 'negative', 'No development', 'noises', 'Nonspecific',\n",
        "              'organ', 'organs', 'outpatient treatment',\n",
        "              'Pain', 'pain', 'pains', 'palpation', 'pathology', 'Perform', 'Physical', 'place of residence',\n",
        "              'plication', 'Positive', 'positive', 'Potassium+', 'prescribed', 'Presence', 'presence',\n",
        "              'presences', 'Present', 'present', 'preserved', 'Pressure', 'pressure', 'pressures', \n",
        "              'Prevention', 'prevention', 'Prophylactic', 'Prosthesis', 'prosthesis', 'Protein', 'psych',\n",
        "              'Reapplication', 'red blood cells', 'Referred', 'Reirradiation', 'Regional', 'Registered', \n",
        "              'Release', 'release', 'removal', 'Repair', 'repair', 'repairs', 'report',  'Report', 'reports',\n",
        "              'resistance index', 'Result',\n",
        "              'seizures', 'setting', 'Severe', 'severe', 'sharp pain', 'shortening', 'Single', 'single', \n",
        "              'Smoking', 'spells', \n",
        "              'stabilize', 'stage', 'Surgical', 'stabilized', 'study', 'surgery', 'surgical intervention', \n",
        "              'Susceptible', 'swollen', 'Symptomatic', 'syndrome',\n",
        "              'Therapeutic', 'Therapy', 'therapy', 'Thoracic', 'thr', 'Thrombocytes', 'Tolerance', 'tolerance', \n",
        "              'tolerances', 'Treatment', 'treatment',\n",
        "              'ultrasound', 'ultrasounds', 'Undifferentiated',\n",
        "              'W exercise', 'weakness', 'weight',\n",
        "              'year']"
      ],
      "metadata": {
        "id": "Hi69TfH59yCH"
      },
      "execution_count": null,
      "outputs": []
    },
    {
      "cell_type": "code",
      "source": [
        "#labels = ['conditions', 'disease_attrs', 'procedures', 'drugs'] #ver 1\n",
        "#labels = ['conditions', 'disease_attrs', 'procedures', 'drugs'] #+ attr ver 2\n",
        "labels = ['conditions', 'disease_attrs', 'procedures', 'drugs', 'systemic_treatments'] #ver 3 - best option\n",
        "#labels = ['conditions', 'disease_attrs', 'procedures', 'drugs', 'systemic_treatments', 'measurements_and_observations'] #ver 4\n",
        "ner_for_texts = {}\n",
        "for i in ner_data.keys():\n",
        "  i_text_ents = []\n",
        "  attr = None\n",
        "  for j in ner_data[i]:\n",
        "    for ann in j[1]:\n",
        "      for res in ann['result']:\n",
        "        try:\n",
        "          if res['value']['labels'][0] in labels:\n",
        "            entity = res['value']['text'].lower()\n",
        "            if len(entity) > 3 and entity not in stop_words and entity not in i_text_ents:\n",
        "              i_text_ents.append(entity)\n",
        "            if attr != None:\n",
        "              #print(res)\n",
        "              entity = attr + ' ' + entity\n",
        "              attr = None\n",
        "              #print(entity)\n",
        "              i_text_ents.append(entity)\n",
        "            if res['value']['labels'][0] == 'disease_attrs':\n",
        "              #print(res)\n",
        "              attr = entity\n",
        "              #print(attr)\n",
        "        except:\n",
        "          continue\n",
        "  ner_for_texts[i] = i_text_ents"
      ],
      "metadata": {
        "id": "b9RzhQL2O0w-"
      },
      "execution_count": null,
      "outputs": []
    },
    {
      "cell_type": "code",
      "source": [
        "with open('true_ner_results_4.json', 'w') as f:\n",
        "  json.dump(ner_for_texts, f)"
      ],
      "metadata": {
        "id": "76PY3eVPYv5S"
      },
      "execution_count": null,
      "outputs": []
    },
    {
      "cell_type": "code",
      "source": [
        ""
      ],
      "metadata": {
        "id": "icZJ75G_DtrG"
      },
      "execution_count": null,
      "outputs": []
    }
  ]
}