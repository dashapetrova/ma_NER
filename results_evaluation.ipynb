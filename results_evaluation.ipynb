{
  "nbformat": 4,
  "nbformat_minor": 0,
  "metadata": {
    "colab": {
      "name": "results_evaluation.ipynb",
      "provenance": [],
      "collapsed_sections": [
        "vV-1JLwsiQJf",
        "94_u1t3ALGsQ",
        "Znj2tcpWqzkx",
        "3WS_SAO6c4kP",
        "Cm0FVIG_v8cb",
        "EOh4BGZzrwS_",
        "wdXaQlnPRq8E",
        "HOKrMqiotMh4"
      ]
    },
    "kernelspec": {
      "name": "python3",
      "display_name": "Python 3"
    },
    "language_info": {
      "name": "python"
    }
  },
  "cells": [
    {
      "cell_type": "code",
      "execution_count": null,
      "metadata": {
        "colab": {
          "base_uri": "https://localhost:8080/"
        },
        "id": "RdsetWVJODQ1",
        "outputId": "3cf66e8f-0621-46a1-b73b-069189859982"
      },
      "outputs": [
        {
          "output_type": "stream",
          "name": "stdout",
          "text": [
            "Mounted at /content/gdrive\n"
          ]
        }
      ],
      "source": [
        "from google.colab import drive\n",
        "drive.mount('/content/gdrive') #, force_remount=True"
      ]
    },
    {
      "cell_type": "code",
      "source": [
        "import os\n",
        "os.chdir('gdrive/My Drive/Colab Notebooks/miramedix')"
      ],
      "metadata": {
        "id": "v9GOY5IkOGw4"
      },
      "execution_count": null,
      "outputs": []
    },
    {
      "cell_type": "code",
      "source": [
        "pip install ml_metrics"
      ],
      "metadata": {
        "id": "fiV_fTJLxmPx"
      },
      "execution_count": null,
      "outputs": []
    },
    {
      "cell_type": "code",
      "source": [
        "from py_metrics import topNacc, acc_scores, get_rr_score, mean_rr, ndcg_score\n",
        "import ml_metrics\n",
        "import numpy as np\n",
        "import pandas as pd\n",
        "import json\n",
        "import sklearn\n",
        "import math"
      ],
      "metadata": {
        "id": "1rHm7eaZHTh1"
      },
      "execution_count": null,
      "outputs": []
    },
    {
      "cell_type": "markdown",
      "source": [
        "# annotations preprocess (LB data), getting true_recs\n",
        "\n"
      ],
      "metadata": {
        "id": "vV-1JLwsiQJf"
      }
    },
    {
      "cell_type": "code",
      "source": [
        "import json\n",
        "\n",
        "with open('annotation_3.json', 'r') as f: #annotation_N.json where N = 1,2,3\n",
        "  data_annot = json.load(f)"
      ],
      "metadata": {
        "id": "LZRh7CLvO-iQ"
      },
      "execution_count": null,
      "outputs": []
    },
    {
      "cell_type": "code",
      "source": [
        "results = {}\n",
        "\n",
        "for i in data_annot:\n",
        "  idx = i['id']\n",
        "  choices = i['annotations'][0]['result'][0]['value']['choices']\n",
        "  results[idx] = choices"
      ],
      "metadata": {
        "id": "A06G1kKVRfWC"
      },
      "execution_count": null,
      "outputs": []
    },
    {
      "cell_type": "code",
      "source": [
        "len(results.keys())"
      ],
      "metadata": {
        "colab": {
          "base_uri": "https://localhost:8080/"
        },
        "id": "Tncf32xPLceQ",
        "outputId": "dda934b3-31b0-48e0-effa-3cdcba5924cc"
      },
      "execution_count": null,
      "outputs": [
        {
          "output_type": "execute_result",
          "data": {
            "text/plain": [
              "74"
            ]
          },
          "metadata": {},
          "execution_count": 15
        }
      ]
    },
    {
      "cell_type": "code",
      "source": [
        "#for i in range(9187, 9262): #for annot 1\n",
        "#for i in range(9262, 9337): #for annot 2\n",
        "for i in range(9457, 9532):\n",
        "  if i in results.keys():\n",
        "    continue\n",
        "  else:\n",
        "    results[i] = []"
      ],
      "metadata": {
        "id": "dhLq79w7Szos"
      },
      "execution_count": null,
      "outputs": []
    },
    {
      "cell_type": "code",
      "source": [
        "with open('annot_results_3.json', 'w') as f: #saved annot_results_N.json where N = 1,2,3\n",
        "  json.dump(results, f)"
      ],
      "metadata": {
        "id": "TTGsRAlLUnb5"
      },
      "execution_count": null,
      "outputs": []
    },
    {
      "cell_type": "markdown",
      "source": [
        "Got true ids, now get papers"
      ],
      "metadata": {
        "id": "ZiH8TMNLKsOc"
      }
    },
    {
      "cell_type": "markdown",
      "source": [
        "umls 1 ver"
      ],
      "metadata": {
        "id": "pHsNnzqaLnsb"
      }
    },
    {
      "cell_type": "code",
      "source": [
        "import json\n",
        "\n",
        "with open('annot_results_1.json', 'r') as f:\n",
        "  results = json.load(f)"
      ],
      "metadata": {
        "id": "rg8Ara4lKGD4"
      },
      "execution_count": null,
      "outputs": []
    },
    {
      "cell_type": "code",
      "source": [
        "with open('texts_recs_with_urls.json', 'r') as f:\n",
        "  data = json.load(f)"
      ],
      "metadata": {
        "id": "j-YSzM_kNr5k"
      },
      "execution_count": null,
      "outputs": []
    },
    {
      "cell_type": "code",
      "source": [
        "data['1']"
      ],
      "metadata": {
        "colab": {
          "base_uri": "https://localhost:8080/"
        },
        "id": "zAbyM1cWN85O",
        "outputId": "f52bcefa-f321-4e46-814e-02174705ba79"
      },
      "execution_count": null,
      "outputs": [
        {
          "output_type": "execute_result",
          "data": {
            "text/plain": [
              "['<h1><span class=\"qt0\"><span class=\"qt1\">High Blood Pressure</span></span></h1> \\nhttps://medlineplus.gov/highbloodpressure.html\\nWhat is blood pressure?<p>Blood pressure is the force of your blood pushing against the walls of your arteries. Each time your heart beats, it pumps blood into the arteries. Your <span class=\"qt0\"><span class=\"qt1\">blood pressure is highest</span></span> when your heart beats, pumping the blood. This is called systolic pressure. When your heart is at rest, between beats, your blood pressure falls. This is called diastolic pressure.</p><p>Your blood pressure reading uses these two numbers. Usually the systolic number comes before or above the diastolic number. For example, 120/80 means a systolic of 120 and a diastolic of 80.</p>How is <span class=\"qt0\"><span class=\"qt1\">high blood pressure</span></span> diagnosed?<p><span class=\"qt0\"><span class=\"qt1\">High blood pressure</span></span> usually has no symptoms. So the only way to find out if you have it is to get regular blood pressure checks from your health care provider. Your provider will use a gauge, a stethoscope or electronic sensor, and a blood pressure cuff. He or she will take two or more readings at separate appointments before making a diagnosis.</p>Blood Pressure CategorySystolic Blood PressureDiastolic Blood PressureNormalLess than 120andLess than 80High Blood Pressure (no other heart risk factors)140 or higheror90 or higherHigh Blood Pressure (with other heart risk factors, according to some providers)130 or higheror80 or higherDangerously <span class=\"qt0\"><span class=\"qt1\">high blood pressure</span></span> - seek medical care right away180 or higherand120 or higher<p>For children and teens, the health care provider compares the blood pressure reading to what is normal for other kids who are the same age, height, and sex.</p>What are the different types of <span class=\"qt0\"><span class=\"qt1\">high blood pressure</span></span>?<p>There are two main types of <span class=\"qt0\"><span class=\"qt1\">high blood pressure</span></span>: primary and secondary <span class=\"qt0\"><span class=\"qt1\">high blood pressure</span></span>.:</p><ul><li>Primary, or essential, <span class=\"qt0\"><span class=\"qt1\">high blood pressure</span></span> is the most common type of <span class=\"qt0\"><span class=\"qt1\">high blood pressure</span></span>. For most people who get this kind of blood pressure, it develops over time as you get older.</li><li>Secondary <span class=\"qt0\"><span class=\"qt1\">high blood pressure</span></span> is caused by another medical condition or use of certain medicines. It usually gets better after you treat that condition or stop taking the medicines that are causing it.</li></ul>Why do I need to worry about <span class=\"qt0\"><span class=\"qt1\">high blood pressure</span></span>?<p>When your blood pressure stays high over time, it causes the heart to pump harder and work overtime, possibly leading to serious health problems such as heart attack, stroke, heart failure, and kidney failure.</p>What are the treatments for <span class=\"qt0\"><span class=\"qt1\">high blood pressure</span></span>?<p>Treatments for <span class=\"qt0\"><span class=\"qt1\">high blood pressure</span></span> include heart-healthy lifestyle changes and medicines.</p><p>You will work with your provider to come up with a treatment plan. It may include only the lifestyle changes. These changes, such as heart-healthy eating and exercise, can be very effective. But sometimes the changes do not control or lower your <span class=\"qt0\"><span class=\"qt1\">high blood pressure</span></span>. Then you may need to take medicine. There are different types of blood pressure medicines. Some people need to take more than one type.</p><p>If your <span class=\"qt0\"><span class=\"qt1\">high blood pressure</span></span> is caused by another medical condition or medicine, treating that condition or stopping the medicine may lower your blood pressure.</p><p>NIH: National Heart, Lung, and Blood Institute</p>\\n',\n",
              " '<h1>Pulmonary <span class=\"qt0\"><span class=\"qt1\">Hypertension</span></span></h1> \\nhttps://medlineplus.gov/pulmonaryhypertension.html\\n<p>Pulmonary <span class=\"qt0\"><span class=\"qt1\">hypertension</span></span> (PH) is <span class=\"qt0\"><span class=\"qt1\">high blood pressure</span></span> in the arteries to your lungs. It is a serious condition. If you have it, the blood vessels that carry blood from your heart to your lungs become hard and narrow. Your heart has to work harder to pump the blood through. Over time, your heart weakens and cannot do its job and you can develop heart failure. </p><p>Symptoms of PH  include:</p><ul><li>Shortness of breath during routine activity, such as climbing two flights of stairs</li><li>Tiredness</li><li>Chest pain</li><li>A racing heartbeat</li><li>Pain on the upper right side of the abdomen</li><li>Decreased appetite</li></ul><p>As PH worsens, you may find it hard to do any physical activities.</p><p>There are two main kinds of PH. One runs in families or appears for no known reason. The other kind is related to another condition, usually heart or lung disease. </p><p>There is no cure for PH. Treatments can control symptoms.  They involve treating the heart or lung disease, medicines, oxygen, and sometimes lung transplantation.</p><p>NIH: National Heart, Lung, and Blood Institute</p>\\n',\n",
              " '<h1>How to Prevent <span class=\"qt0\"><span class=\"qt1\">High Blood Pressure</span></span></h1> \\nhttps://medlineplus.gov/howtopreventhighbloodpressure.html\\n<p>More than 1 in 3 adults in the U.S. has <span class=\"qt0\"><span class=\"qt1\">high blood pressure, or hypertension</span></span>. Many of those people don\\'t know they have it, because there are usually no warning signs. This can be dangerous, because <span class=\"qt0\"><span class=\"qt1\">high blood pressure</span></span> can lead to life-threatening conditions like heart attack or stroke. The good news is that you can often prevent or treat <span class=\"qt0\"><span class=\"qt1\">high blood pressure</span></span>. Early diagnosis and heart-healthy lifestyle changes can keep <span class=\"qt0\"><span class=\"qt1\">high blood pressure</span></span> from seriously damaging your health.</p>What is blood pressure?<p>Blood pressure is the force of your blood pushing against the walls of your arteries. Each time your heart beats, it pumps blood into the arteries. Your <span class=\"qt0\"><span class=\"qt1\">blood pressure is highest</span></span> when your heart beats, pumping the blood. This is called systolic pressure. When your heart is at rest, between beats, your blood pressure falls. This is called diastolic pressure.</p><p>Your blood pressure reading uses these two numbers. Usually the systolic number comes before or above the diastolic number. For example, 120/80 means a systolic of 120 and a diastolic of 80.</p>How is <span class=\"qt0\"><span class=\"qt1\">high blood pressure</span></span> diagnosed?<p><span class=\"qt0\"><span class=\"qt1\">High blood pressure</span></span> usually has no symptoms. So the only way to find out if you have it is to get regular blood pressure checks from your health care provider. Your provider will use a gauge, a stethoscope or electronic sensor, and a blood pressure cuff. He or she will take two or more readings at separate appointments before making a diagnosis.</p>Blood Pressure CategorySystolic Blood PressureDiastolic Blood PressureNormalLess than 120andLess than 80High Blood Pressure (no other heart risk factors)140 or higheror90 or higherHigh Blood Pressure (with other heart risk factors, according to some providers)130 or higheror80 or higherDangerously <span class=\"qt0\"><span class=\"qt1\">high blood pressure</span></span> - seek medical care right away180 or higherand120 or higher<p>For children and teens, the health care provider compares the blood pressure reading to what is normal for other kids who are the same age, height, and gender.</p><p>People with diabetes or chronic kidney disease should keep their blood pressure below 130/80.</p>Who is at risk for <span class=\"qt0\"><span class=\"qt1\">high blood pressure</span></span>?<p>Anyone can develop <span class=\"qt0\"><span class=\"qt1\">high blood pressure</span></span>, but there are certain factors that can increase your risk:</p><ul><li>Age - Blood pressure tends to rise with age</li><li>Race/Ethnicity - <span class=\"qt0\"><span class=\"qt1\">High blood pressure</span></span> is more common in African American adults</li><li>Weight - People who are overweight or have obesity are more likely to develop <span class=\"qt0\"><span class=\"qt1\">high blood pressure</span></span></li><li>Sex - Before age 55, men are more likely than women to develop <span class=\"qt0\"><span class=\"qt1\">high blood pressure</span></span>. After age 55, women are more likely than men to develop it.</li><li>Lifestyle - Certain lifestyle habits can raise your risk for <span class=\"qt0\"><span class=\"qt1\">high blood pressure</span></span>, such as eating too much sodium (salt) or not enough potassium, lack of exercise, drinking too much alcohol, and smoking.</li><li>Family history - A family history of <span class=\"qt0\"><span class=\"qt1\">high blood pressure</span></span> raises the risk of developing <span class=\"qt0\"><span class=\"qt1\">high blood pressure</span></span></li></ul>How can I prevent <span class=\"qt0\"><span class=\"qt1\">high blood pressure</span></span>?<p>You can help prevent <span class=\"qt0\"><span class=\"qt1\">high blood pressure</span></span> by having a healthy lifestyle. This means:</p><ul><li>Eating a healthy diet. To help manage your blood pressure, you should limit the amount of sodium (salt) that you eat and increase the amount of potassium in your diet. It is also important to eat foods that are lower in fat, as well as plenty of fruits, vegetables, and whole grains. The DASH eating plan is an example of an eating plan that can help you to lower your blood pressure.</li><li>Getting regular exercise. Exercise can help you maintain a healthy weight and lower your blood pressure. You should try to get moderate-intensity aerobic exercise at least 2 and a half hours per week, or vigorous-intensity aerobic exercise for 1 hour and 15 minutes per week. Aerobic exercise, such as brisk walking, is any exercise in which your heart beats harder and you use more oxygen than usual.</li><li>Being at a healthy weight. Being overweight or having obesity increases your risk for <span class=\"qt0\"><span class=\"qt1\">high blood pressure</span></span>. Maintaining a healthy weight can help you control <span class=\"qt0\"><span class=\"qt1\">high blood pressure</span></span> and reduce your risk for other health problems.</li><li>Limiting alcohol. Drinking too much alcohol can raise your blood pressure. It also adds extra calories, which may cause weight gain. Men should have no more than two drinks per day, and women only one.</li><li>Not smoking. Cigarette smoking raises your blood pressure and puts you at higher risk for heart attack and stroke. If you do not smoke, do not start. If you do smoke, talk to your health care provider for help in finding the best way for you to quit.</li><li>Managing stress. Learning how to relax and manage stress can improve your emotional and physical health and lower <span class=\"qt0\"><span class=\"qt1\">high blood pressure</span></span>. Stress management techniques include exercising, listening to music, focusing on something calm or peaceful, and meditating.</li></ul><p>If you already have <span class=\"qt0\"><span class=\"qt1\">high blood pressure</span></span>, it is important to prevent it from getting worse or causing complications. You should get regular medical care and follow your prescribed treatment plan. Your plan will include healthy lifestyle habit recommendations and possibly medicines.</p><p>NIH: National Heart, Lung, and Blood Institute</p>\\n',\n",
              " '<h1><span class=\"qt0\"><span class=\"qt1\">High Blood Pressure</span></span> in Pregnancy</h1> \\nhttps://medlineplus.gov/highbloodpressureinpregnancy.html\\nWhat is <span class=\"qt0\"><span class=\"qt1\">high blood pressure</span></span> in pregnancy?<p>Blood pressure is the force of your blood pushing against the walls of your arteries as your heart pumps blood. <span class=\"qt0\"><span class=\"qt1\">High blood pressure, or hypertension</span></span>, is when this force against your artery walls is too high.  There are different types of <span class=\"qt0\"><span class=\"qt1\">high blood pressure</span></span> in pregnancy:</p><ul><li>Gestational <span class=\"qt0\"><span class=\"qt1\">hypertension is high blood pressure</span></span> that you develop while you are pregnant. It starts after you are 20 weeks pregnant. You usually don\\'t have any other symptoms. In many cases, it does not harm you or your baby, and it goes away within 12 weeks after childbirth. But it does raise your risk of <span class=\"qt0\"><span class=\"qt1\">high blood pressure</span></span> in the future. It sometimes can be severe, which may lead to low birth weight or preterm birth. Some women with gestational <span class=\"qt0\"><span class=\"qt1\">hypertension</span></span> do go on to develop preeclampsia.</li><li>Chronic <span class=\"qt0\"><span class=\"qt1\">hypertension is high blood pressure</span></span> that started before the 20th week of pregnancy or before you became pregnant. Some women may have had it long before becoming pregnant but didn\\'t know it until they got their blood pressure checked at their prenatal visit. Sometimes chronic <span class=\"qt0\"><span class=\"qt1\">hypertension</span></span> can also lead to preeclampsia.</li><li>Preeclampsia is a sudden increase in blood pressure after the 20th week of pregnancy. It usually happens in the last trimester. In rare cases, symptoms may not start until after delivery. This is called postpartum preeclampsia. Preeclampsia also includes signs of damage to some of your organs, such as your liver or kidney. The signs may include protein in the urine and very <span class=\"qt0\"><span class=\"qt1\">high blood pressure</span></span>. Preeclampsia can be serious or even life-threatening for both you and your baby.</li></ul>What causes preeclampsia?<p>The cause of preeclampsia is unknown.</p>Who is at risk for preeclampsia?<p>You are at higher risk of preeclampsia if you:</p><ul><li>Had chronic <span class=\"qt0\"><span class=\"qt1\">high blood pressure</span></span> or chronic kidney disease before pregnancy</li><li>Had <span class=\"qt0\"><span class=\"qt1\">high blood pressure</span></span> or preeclampsia in a previous pregnancy</li><li>Have obesity</li><li>Are over age 40</li><li>Are pregnant with more than one baby</li><li>Are African American</li><li>Have a family history of preeclampsia</li><li>Have certain health conditions, such as diabetes, lupus, or thrombophilia (a disorder which raises your risk of blood clots)</li><li>Used in vitro fertilization, egg donation, or donor insemination</li></ul>What problems can preeclampsia cause?<p>Preeclampsia can cause:</p><ul><li>Placental abruption, where the placenta separates from the uterus</li><li>Poor fetal growth, caused by a lack of nutrients and oxygen</li><li>Preterm birth</li><li>A low birth weight baby</li><li>Stillbirth</li><li>Damage to your kidneys, liver, brain, and other organ and blood systems</li><li>A higher risk of heart disease for you</li><li>Eclampsia, which happens when preeclampsia is severe enough to affect brain function, causing seizures or coma</li><li>HELLP syndrome, which happens when a woman with preeclampsia or eclampsia has damage to the liver and blood cells. It is rare, but very serious.</li></ul>What are the symptoms of preeclampsia?<p>Possible symptoms of preeclampsia include:</p><ul><li><span class=\"qt0\"><span class=\"qt1\">High blood pressure</span></span></li><li>Too much protein in your urine (called proteinuria)</li><li>Swelling in your face and hands. Your feet may also swell, but many women have swollen feet during pregnancy. So swollen feet by themselves may not be a sign of a problem.</li><li>Headache that does not go away</li><li>Vision problems, including blurred vision or seeing spots</li><li>Pain in your upper right abdomen</li><li>Trouble breathing</li></ul><p>Eclampsia can also cause seizures, nausea and/or vomiting, and low urine output. If you go on to develop HELLP syndrome, you may also have bleeding or bruising easily, extreme fatigue, and liver failure.</p>How is preeclampsia diagnosed?<p>Your health care provider will check your blood pressure and urine at each prenatal visit. If your blood pressure reading is high (140/90 or higher), especially after the 20th week of pregnancy, your provider will likely want to run some tests. They may include blood tests other lab tests to look for extra protein in the urine as well as other symptoms.</p>What are the treatments for preeclampsia?<p>Delivering the baby can often cure preeclampsia. When making a decision about treatment, your provider take into account several factors. They include how severe it is, how many weeks pregnant you are, and what the potential risks to you and your baby are:</p><ul><li>If you are more than 37 weeks pregnant, your provider will likely want to deliver the baby.</li><li>If you are less than 37 weeks pregnant, your health care provider will closely monitor you and your baby. This includes blood and urine tests for you. Monitoring for the baby often involves ultrasound, heart rate monitoring, and checking on the baby\\'s growth. You may need to take medicines, to control your blood pressure and to prevent seizures. Some women also get steroid injections, to help the baby\\'s lungs mature faster. If the preeclampsia is severe, you provider may want you to deliver the baby early.</li></ul><p>The symptoms usually go away within 6 weeks of delivery. In rare cases, symptoms may not go away, or they may not start until after delivery (postpartum preeclampsia). This can be very serious, and it needs to be treated right away.</p>\\n',\n",
              " '<h1>Blood Pressure Medicines</h1> \\nhttps://medlineplus.gov/bloodpressuremedicines.html\\nWhat is <span class=\"qt0\"><span class=\"qt1\">high blood pressure</span></span>?<p><span class=\"qt0\"><span class=\"qt1\">High blood pressure</span></span>, also called <span class=\"qt0\"><span class=\"qt1\">hypertension</span></span>, is when blood puts too much pressure against the walls of your arteries. About 1 in 3 adults have <span class=\"qt0\"><span class=\"qt1\">high blood pressure</span></span>, usually with no symptoms. But it can cause serious problems such as stroke, heart failure, heart attack, and kidney disease.</p>What lifestyle changes can help lower <span class=\"qt0\"><span class=\"qt1\">high blood pressure</span></span>?<p>Healthy lifestyle changes can help reduce <span class=\"qt0\"><span class=\"qt1\">high blood pressure</span></span>:</p><ul><li>Losing weight</li><li>Being physically active</li><li>Managing stress</li><li>Reducing sodium in your diet</li><li>Avoiding alcohol, tobacco, and illegal drugs</li><li>Getting enough sleep</li></ul>What if lifestyle changes alone cannot lower blood pressure?<p>Sometimes lifestyle changes alone cannot control or lower your <span class=\"qt0\"><span class=\"qt1\">high blood pressure</span></span>. In that case, your health care provider may prescribe blood pressure medicines.</p>How do blood pressure medicines work?<p>Blood pressure medicines work in different ways to lower blood pressure:</p><ul><li>Angiotensin-converting enzyme (ACE) inhibitors and angiotensin II receptor blockers (ARBs) keep your blood vessels from narrowing as much</li><li>Calcium channel blockers prevent calcium from entering the muscle cells of your heart and blood vessels. This allows the blood vessels to relax.</li><li>Diuretics remove extra water and sodium (salt) from your body. This lowers the amount of fluid in your blood. Diuretics are often used with other <span class=\"qt0\"><span class=\"qt1\">high blood pressure</span></span> medicines, sometimes in one combined pill.</li><li>Beta blockers help your heart beat slower and with less force. This means that your heart pumps less blood through your blood vessels. Beta blockers are typically used only as a backup option or if you also have certain other conditions.</li></ul><p>Often, two or more medicines work better than one. While taking the medicines, it is still important to keep up with your healthy lifestyle changes.</p><p>NIH: National Heart, Lung, and Blood Institute</p>\\n',\n",
              " '<h1><span class=\"qt0\"><span class=\"qt1\"><span class=\"qt2\">Cancer</span></span></span></h1> \\nhttps://medlineplus.gov/cancer.html\\n<p><span class=\"qt0\"><span class=\"qt1\"><span class=\"qt2\">Cancer</span></span></span> begins in your cells, which are the building blocks of your body.   Normally, your body forms new cells as you need them, replacing old cells that die. Sometimes this process goes wrong. New cells grow even when you don\\'t need them, and old cells don\\'t die when they should. These extra cells can form a mass called a <span class=\"qt0\"><span class=\"qt1\"><span class=\"qt2\">tumor. Tumors</span></span></span> can be benign or malignant. Benign <span class=\"qt0\"><span class=\"qt1\"><span class=\"qt2\">tumors</span></span></span> aren\\'t <span class=\"qt0\"><span class=\"qt1\"><span class=\"qt2\">cancer</span></span></span> while malignant ones are. Cells from malignant <span class=\"qt0\"><span class=\"qt1\"><span class=\"qt2\">tumors</span></span></span> can invade nearby tissues. They can also break away and spread to other parts of the body. </p><p><span class=\"qt0\"><span class=\"qt1\"><span class=\"qt2\">Cancer</span></span></span> is not just one disease but many diseases. There are more than 100 different types of <span class=\"qt0\"><span class=\"qt1\"><span class=\"qt2\">cancer</span></span></span>. Most <span class=\"qt0\"><span class=\"qt1\"><span class=\"qt2\">cancers</span></span></span> are named for where they start. For example, lung <span class=\"qt0\"><span class=\"qt1\"><span class=\"qt2\">cancer</span></span></span> starts in the lung, and breast <span class=\"qt0\"><span class=\"qt1\"><span class=\"qt2\">cancer</span></span></span> starts in the breast. The spread of <span class=\"qt0\"><span class=\"qt1\"><span class=\"qt2\">cancer</span></span></span> from one part of the body to another is called metastasis. Symptoms and treatment depend on the <span class=\"qt0\"><span class=\"qt1\"><span class=\"qt2\">cancer</span></span></span> type and how advanced it is. Most treatment plans may include surgery, radiation and/or chemotherapy. Some may involve hormone therapy, immunotherapy or other types of biologic therapy, or stem cell transplantation. </p><p>NIH: National <span class=\"qt0\"><span class=\"qt1\"><span class=\"qt2\">Cancer</span></span></span> Institute</p>\\n',\n",
              " '<h1>Throat <span class=\"qt0\"><span class=\"qt1\"><span class=\"qt2\">Cancer</span></span></span></h1> \\nhttps://medlineplus.gov/throatcancer.html\\n<p>Throat <span class=\"qt0\"><span class=\"qt1\"><span class=\"qt2\">cancer</span></span></span> is a type of head and neck <span class=\"qt0\"><span class=\"qt1\"><span class=\"qt2\">cancer</span></span></span>. Throat <span class=\"qt0\"><span class=\"qt1\"><span class=\"qt2\">cancer</span></span></span> has different names, depending on which part of the throat is affected. The different parts of your throat are called the oropharynx, the hypopharynx, the nasopharynx, and the larynx, or voice box.</p><p>The main risk factors for throat <span class=\"qt0\"><span class=\"qt1\"><span class=\"qt2\">cancer</span></span></span> are using tobacco heavy drinking. Certain types of throat <span class=\"qt0\"><span class=\"qt1\"><span class=\"qt2\">cancer</span></span></span> also have other risk factors. For example, having HPV is a risk factor for oropharyngeal <span class=\"qt0\"><span class=\"qt1\"><span class=\"qt2\">cancer</span></span></span>.</p><p>Symptoms of throat <span class=\"qt0\"><span class=\"qt1\"><span class=\"qt2\">cancer</span></span></span> may include:</p><ul><li>A sore throat that does not go away</li><li>A lump in the neck</li><li>Pain or ringing in the ears</li><li>Trouble swallowing</li><li>Ear pain</li></ul><p>To diagnose throat <span class=\"qt0\"><span class=\"qt1\"><span class=\"qt2\">cancers</span></span></span>, doctors may do a physical exam and history, imaging tests, and a biopsy. You may also need other tests, depending on the type of <span class=\"qt0\"><span class=\"qt1\"><span class=\"qt2\">cancer</span></span></span>. Treatments include surgery, radiation therapy, and chemotherapy. Treatment for some types of throat <span class=\"qt0\"><span class=\"qt1\"><span class=\"qt2\">cancer</span></span></span> may also include targeted therapy. Targeted therapy uses drugs or other substances that attack specific <span class=\"qt0\"><span class=\"qt1\"><span class=\"qt2\">cancer</span></span></span> cells with less harm to normal cells.</p><p>NIH: National <span class=\"qt0\"><span class=\"qt1\"><span class=\"qt2\">Cancer</span></span></span> Institute</p>\\n',\n",
              " '<h1>Intestinal <span class=\"qt0\"><span class=\"qt1\"><span class=\"qt2\">Cancer</span></span></span></h1> \\nhttps://medlineplus.gov/intestinalcancer.html\\n<p>Your small intestine is part of your digestive system.  It is a long tube that connects your stomach to your large intestine. Intestinal <span class=\"qt0\"><span class=\"qt1\"><span class=\"qt2\">cancer</span></span></span> is rare, but eating a high-fat diet or having Crohn\\'s disease, celiac disease, or a history of  colonic polyps can increase your risk.</p><p>Possible signs of small intestine <span class=\"qt0\"><span class=\"qt1\"><span class=\"qt2\">cancer</span></span></span> include:</p><ul><li>Abdominal pain</li><li>Weight loss for no reason</li><li>Blood in the stool</li><li>A lump in the abdomen</li></ul><p>Imaging tests that create pictures of the small intestine and the area around it can help diagnose intestinal <span class=\"qt0\"><span class=\"qt1\"><span class=\"qt2\">cancer</span></span></span> and show whether it has spread.</p><p>Surgery is the most common treatment. Additional options include chemotherapy, radiation therapy, or a combination.</p><p>NIH: National <span class=\"qt0\"><span class=\"qt1\"><span class=\"qt2\">Cancer</span></span></span> Institute</p>\\n',\n",
              " '<h1>Nasal <span class=\"qt0\"><span class=\"qt1\"><span class=\"qt2\">Cancer</span></span></span></h1> \\nhttps://medlineplus.gov/nasalcancer.html\\n<p>Your paranasal sinuses are small hollow spaces around the nose. They are lined with cells that make mucus, which keeps your nose from drying out. The nasal cavity is the passageway just behind your nose. Air passes through it on the way to your throat as you breathe.</p><p><span class=\"qt0\"><span class=\"qt1\"><span class=\"qt2\">Cancer</span></span></span> of the nasal cavity and paranasal sinuses is rare.  You are at greater risk if you are:</p><ul><li>Male and over 40 years old</li><li>Exposed to certain workplace chemicals</li><li>Infected with HPV</li><li>A smoker</li></ul><p>There may be no symptoms at first, and later symptoms can be like those of infections. Doctors diagnose nasal <span class=\"qt0\"><span class=\"qt1\"><span class=\"qt2\">cancer</span></span></span> with imaging tests, lighted tube-like instruments that look inside the nose, and biopsies. Treatment options include surgery, radiation, and chemotherapy. </p><p>NIH: National <span class=\"qt0\"><span class=\"qt1\"><span class=\"qt2\">Cancer</span></span></span> Institute</p>\\n',\n",
              " '<h1>Benign <span class=\"qt0\"><span class=\"qt1\"><span class=\"qt2\">Tumors</span></span></span></h1> \\nhttps://medlineplus.gov/benigntumors.html\\n<p><span class=\"qt0\"><span class=\"qt1\"><span class=\"qt2\">Tumors</span></span></span> are abnormal growths in your body. They can be either benign or malignant. Benign <span class=\"qt0\"><span class=\"qt1\"><span class=\"qt2\">tumors</span></span></span> aren\\'t <span class=\"qt0\"><span class=\"qt1\"><span class=\"qt2\">cancer</span></span></span>. Malignant ones are. Benign <span class=\"qt0\"><span class=\"qt1\"><span class=\"qt2\">tumors</span></span></span> grow only in one place. They cannot spread or invade other parts of your body. Even so, they can be dangerous if they press on vital organs, such as your brain.</p><p><span class=\"qt0\"><span class=\"qt1\"><span class=\"qt2\">Tumors</span></span></span> are made up of extra cells. Normally, cells grow and divide to form new cells as your body needs them. When cells grow old, they die, and new cells take their place. Sometimes, this process goes wrong. New cells form when your body does not need them, and old cells do not die when they should. These extra cells can divide without stopping and may form <span class=\"qt0\"><span class=\"qt1\"><span class=\"qt2\">tumor</span></span></span>.</p><p>Treatment often involves surgery. Benign <span class=\"qt0\"><span class=\"qt1\"><span class=\"qt2\">tumors</span></span></span> usually don\\'t grow back.</p><p>NIH: National <span class=\"qt0\"><span class=\"qt1\"><span class=\"qt2\">Cancer</span></span></span> Institute</p>\\n',\n",
              " '<h1>Sciatica</h1> \\nhttps://medlineplus.gov/sciatica.html\\n<p>Sciatica is a symptom of a problem with the sciatic nerve, the largest nerve in the body. It controls muscles in the back of your knee and lower leg and provides feeling to the back of your <span class=\"qt0\">thigh</span>, part of your lower leg, and the sole of your foot. When you have sciatica, you have pain, weakness, <span class=\"qt1\">numbness</span>, or tingling. It can start in the lower back and extend down your leg to your calf, foot, or even your toes. It\\'s usually on only one side of your body.</p><p>Causes of sciatica include:</p><ul><li>A ruptured intervertebral disk</li><li>Narrowing of the spinal canal that puts pressure on the nerve, called spinal stenosis</li><li>An injury such as a pelvic fracture.</li></ul><p>In many cases no cause can be found.</p><p>Sometimes sciatica goes away on its own. Treatment, if needed, depends on the cause of the problem. It may include exercises, medicines, and surgery.</p>\\n']"
            ]
          },
          "metadata": {},
          "execution_count": 81
        }
      ]
    },
    {
      "cell_type": "code",
      "source": [
        "res_sorted = sorted(results.items(), key=lambda x: x[0])\n",
        "res_sorted[0]"
      ],
      "metadata": {
        "colab": {
          "base_uri": "https://localhost:8080/"
        },
        "id": "zLTKNS88OzJD",
        "outputId": "e6e5f0bf-55ac-4033-87aa-2a197900772e"
      },
      "execution_count": null,
      "outputs": [
        {
          "output_type": "execute_result",
          "data": {
            "text/plain": [
              "(9187, ['1', '3', '5', '6'])"
            ]
          },
          "metadata": {},
          "execution_count": 82
        }
      ]
    },
    {
      "cell_type": "code",
      "source": [
        "len(res_sorted)"
      ],
      "metadata": {
        "colab": {
          "base_uri": "https://localhost:8080/"
        },
        "id": "OUF1OgoqPGlW",
        "outputId": "5f09e8da-9d60-4d3b-b331-b013fcc9b606"
      },
      "execution_count": null,
      "outputs": [
        {
          "output_type": "execute_result",
          "data": {
            "text/plain": [
              "75"
            ]
          },
          "metadata": {},
          "execution_count": 83
        }
      ]
    },
    {
      "cell_type": "code",
      "source": [
        "true_recs = {}\n",
        "\n",
        "for i in range(len(res_sorted)):\n",
        "  text_recs = []\n",
        "  \n",
        "  for j in res_sorted[i][1]:\n",
        "    idx = int(j) - 1\n",
        "    text_recs.append(data[str(i+1)][idx])  \n",
        "  true_recs[str(i+1)] = text_recs"
      ],
      "metadata": {
        "id": "f_tK_z4zPCz6"
      },
      "execution_count": null,
      "outputs": []
    },
    {
      "cell_type": "code",
      "source": [
        "true_recs['1']"
      ],
      "metadata": {
        "colab": {
          "base_uri": "https://localhost:8080/"
        },
        "id": "3M-iZmr2QmcC",
        "outputId": "f661554f-88d1-48af-9233-6ecd8314d6a3"
      },
      "execution_count": null,
      "outputs": [
        {
          "output_type": "execute_result",
          "data": {
            "text/plain": [
              "['<h1><span class=\"qt0\"><span class=\"qt1\">High Blood Pressure</span></span></h1> \\nhttps://medlineplus.gov/highbloodpressure.html\\nWhat is blood pressure?<p>Blood pressure is the force of your blood pushing against the walls of your arteries. Each time your heart beats, it pumps blood into the arteries. Your <span class=\"qt0\"><span class=\"qt1\">blood pressure is highest</span></span> when your heart beats, pumping the blood. This is called systolic pressure. When your heart is at rest, between beats, your blood pressure falls. This is called diastolic pressure.</p><p>Your blood pressure reading uses these two numbers. Usually the systolic number comes before or above the diastolic number. For example, 120/80 means a systolic of 120 and a diastolic of 80.</p>How is <span class=\"qt0\"><span class=\"qt1\">high blood pressure</span></span> diagnosed?<p><span class=\"qt0\"><span class=\"qt1\">High blood pressure</span></span> usually has no symptoms. So the only way to find out if you have it is to get regular blood pressure checks from your health care provider. Your provider will use a gauge, a stethoscope or electronic sensor, and a blood pressure cuff. He or she will take two or more readings at separate appointments before making a diagnosis.</p>Blood Pressure CategorySystolic Blood PressureDiastolic Blood PressureNormalLess than 120andLess than 80High Blood Pressure (no other heart risk factors)140 or higheror90 or higherHigh Blood Pressure (with other heart risk factors, according to some providers)130 or higheror80 or higherDangerously <span class=\"qt0\"><span class=\"qt1\">high blood pressure</span></span> - seek medical care right away180 or higherand120 or higher<p>For children and teens, the health care provider compares the blood pressure reading to what is normal for other kids who are the same age, height, and sex.</p>What are the different types of <span class=\"qt0\"><span class=\"qt1\">high blood pressure</span></span>?<p>There are two main types of <span class=\"qt0\"><span class=\"qt1\">high blood pressure</span></span>: primary and secondary <span class=\"qt0\"><span class=\"qt1\">high blood pressure</span></span>.:</p><ul><li>Primary, or essential, <span class=\"qt0\"><span class=\"qt1\">high blood pressure</span></span> is the most common type of <span class=\"qt0\"><span class=\"qt1\">high blood pressure</span></span>. For most people who get this kind of blood pressure, it develops over time as you get older.</li><li>Secondary <span class=\"qt0\"><span class=\"qt1\">high blood pressure</span></span> is caused by another medical condition or use of certain medicines. It usually gets better after you treat that condition or stop taking the medicines that are causing it.</li></ul>Why do I need to worry about <span class=\"qt0\"><span class=\"qt1\">high blood pressure</span></span>?<p>When your blood pressure stays high over time, it causes the heart to pump harder and work overtime, possibly leading to serious health problems such as heart attack, stroke, heart failure, and kidney failure.</p>What are the treatments for <span class=\"qt0\"><span class=\"qt1\">high blood pressure</span></span>?<p>Treatments for <span class=\"qt0\"><span class=\"qt1\">high blood pressure</span></span> include heart-healthy lifestyle changes and medicines.</p><p>You will work with your provider to come up with a treatment plan. It may include only the lifestyle changes. These changes, such as heart-healthy eating and exercise, can be very effective. But sometimes the changes do not control or lower your <span class=\"qt0\"><span class=\"qt1\">high blood pressure</span></span>. Then you may need to take medicine. There are different types of blood pressure medicines. Some people need to take more than one type.</p><p>If your <span class=\"qt0\"><span class=\"qt1\">high blood pressure</span></span> is caused by another medical condition or medicine, treating that condition or stopping the medicine may lower your blood pressure.</p><p>NIH: National Heart, Lung, and Blood Institute</p>\\n',\n",
              " '<h1>How to Prevent <span class=\"qt0\"><span class=\"qt1\">High Blood Pressure</span></span></h1> \\nhttps://medlineplus.gov/howtopreventhighbloodpressure.html\\n<p>More than 1 in 3 adults in the U.S. has <span class=\"qt0\"><span class=\"qt1\">high blood pressure, or hypertension</span></span>. Many of those people don\\'t know they have it, because there are usually no warning signs. This can be dangerous, because <span class=\"qt0\"><span class=\"qt1\">high blood pressure</span></span> can lead to life-threatening conditions like heart attack or stroke. The good news is that you can often prevent or treat <span class=\"qt0\"><span class=\"qt1\">high blood pressure</span></span>. Early diagnosis and heart-healthy lifestyle changes can keep <span class=\"qt0\"><span class=\"qt1\">high blood pressure</span></span> from seriously damaging your health.</p>What is blood pressure?<p>Blood pressure is the force of your blood pushing against the walls of your arteries. Each time your heart beats, it pumps blood into the arteries. Your <span class=\"qt0\"><span class=\"qt1\">blood pressure is highest</span></span> when your heart beats, pumping the blood. This is called systolic pressure. When your heart is at rest, between beats, your blood pressure falls. This is called diastolic pressure.</p><p>Your blood pressure reading uses these two numbers. Usually the systolic number comes before or above the diastolic number. For example, 120/80 means a systolic of 120 and a diastolic of 80.</p>How is <span class=\"qt0\"><span class=\"qt1\">high blood pressure</span></span> diagnosed?<p><span class=\"qt0\"><span class=\"qt1\">High blood pressure</span></span> usually has no symptoms. So the only way to find out if you have it is to get regular blood pressure checks from your health care provider. Your provider will use a gauge, a stethoscope or electronic sensor, and a blood pressure cuff. He or she will take two or more readings at separate appointments before making a diagnosis.</p>Blood Pressure CategorySystolic Blood PressureDiastolic Blood PressureNormalLess than 120andLess than 80High Blood Pressure (no other heart risk factors)140 or higheror90 or higherHigh Blood Pressure (with other heart risk factors, according to some providers)130 or higheror80 or higherDangerously <span class=\"qt0\"><span class=\"qt1\">high blood pressure</span></span> - seek medical care right away180 or higherand120 or higher<p>For children and teens, the health care provider compares the blood pressure reading to what is normal for other kids who are the same age, height, and gender.</p><p>People with diabetes or chronic kidney disease should keep their blood pressure below 130/80.</p>Who is at risk for <span class=\"qt0\"><span class=\"qt1\">high blood pressure</span></span>?<p>Anyone can develop <span class=\"qt0\"><span class=\"qt1\">high blood pressure</span></span>, but there are certain factors that can increase your risk:</p><ul><li>Age - Blood pressure tends to rise with age</li><li>Race/Ethnicity - <span class=\"qt0\"><span class=\"qt1\">High blood pressure</span></span> is more common in African American adults</li><li>Weight - People who are overweight or have obesity are more likely to develop <span class=\"qt0\"><span class=\"qt1\">high blood pressure</span></span></li><li>Sex - Before age 55, men are more likely than women to develop <span class=\"qt0\"><span class=\"qt1\">high blood pressure</span></span>. After age 55, women are more likely than men to develop it.</li><li>Lifestyle - Certain lifestyle habits can raise your risk for <span class=\"qt0\"><span class=\"qt1\">high blood pressure</span></span>, such as eating too much sodium (salt) or not enough potassium, lack of exercise, drinking too much alcohol, and smoking.</li><li>Family history - A family history of <span class=\"qt0\"><span class=\"qt1\">high blood pressure</span></span> raises the risk of developing <span class=\"qt0\"><span class=\"qt1\">high blood pressure</span></span></li></ul>How can I prevent <span class=\"qt0\"><span class=\"qt1\">high blood pressure</span></span>?<p>You can help prevent <span class=\"qt0\"><span class=\"qt1\">high blood pressure</span></span> by having a healthy lifestyle. This means:</p><ul><li>Eating a healthy diet. To help manage your blood pressure, you should limit the amount of sodium (salt) that you eat and increase the amount of potassium in your diet. It is also important to eat foods that are lower in fat, as well as plenty of fruits, vegetables, and whole grains. The DASH eating plan is an example of an eating plan that can help you to lower your blood pressure.</li><li>Getting regular exercise. Exercise can help you maintain a healthy weight and lower your blood pressure. You should try to get moderate-intensity aerobic exercise at least 2 and a half hours per week, or vigorous-intensity aerobic exercise for 1 hour and 15 minutes per week. Aerobic exercise, such as brisk walking, is any exercise in which your heart beats harder and you use more oxygen than usual.</li><li>Being at a healthy weight. Being overweight or having obesity increases your risk for <span class=\"qt0\"><span class=\"qt1\">high blood pressure</span></span>. Maintaining a healthy weight can help you control <span class=\"qt0\"><span class=\"qt1\">high blood pressure</span></span> and reduce your risk for other health problems.</li><li>Limiting alcohol. Drinking too much alcohol can raise your blood pressure. It also adds extra calories, which may cause weight gain. Men should have no more than two drinks per day, and women only one.</li><li>Not smoking. Cigarette smoking raises your blood pressure and puts you at higher risk for heart attack and stroke. If you do not smoke, do not start. If you do smoke, talk to your health care provider for help in finding the best way for you to quit.</li><li>Managing stress. Learning how to relax and manage stress can improve your emotional and physical health and lower <span class=\"qt0\"><span class=\"qt1\">high blood pressure</span></span>. Stress management techniques include exercising, listening to music, focusing on something calm or peaceful, and meditating.</li></ul><p>If you already have <span class=\"qt0\"><span class=\"qt1\">high blood pressure</span></span>, it is important to prevent it from getting worse or causing complications. You should get regular medical care and follow your prescribed treatment plan. Your plan will include healthy lifestyle habit recommendations and possibly medicines.</p><p>NIH: National Heart, Lung, and Blood Institute</p>\\n',\n",
              " '<h1>Blood Pressure Medicines</h1> \\nhttps://medlineplus.gov/bloodpressuremedicines.html\\nWhat is <span class=\"qt0\"><span class=\"qt1\">high blood pressure</span></span>?<p><span class=\"qt0\"><span class=\"qt1\">High blood pressure</span></span>, also called <span class=\"qt0\"><span class=\"qt1\">hypertension</span></span>, is when blood puts too much pressure against the walls of your arteries. About 1 in 3 adults have <span class=\"qt0\"><span class=\"qt1\">high blood pressure</span></span>, usually with no symptoms. But it can cause serious problems such as stroke, heart failure, heart attack, and kidney disease.</p>What lifestyle changes can help lower <span class=\"qt0\"><span class=\"qt1\">high blood pressure</span></span>?<p>Healthy lifestyle changes can help reduce <span class=\"qt0\"><span class=\"qt1\">high blood pressure</span></span>:</p><ul><li>Losing weight</li><li>Being physically active</li><li>Managing stress</li><li>Reducing sodium in your diet</li><li>Avoiding alcohol, tobacco, and illegal drugs</li><li>Getting enough sleep</li></ul>What if lifestyle changes alone cannot lower blood pressure?<p>Sometimes lifestyle changes alone cannot control or lower your <span class=\"qt0\"><span class=\"qt1\">high blood pressure</span></span>. In that case, your health care provider may prescribe blood pressure medicines.</p>How do blood pressure medicines work?<p>Blood pressure medicines work in different ways to lower blood pressure:</p><ul><li>Angiotensin-converting enzyme (ACE) inhibitors and angiotensin II receptor blockers (ARBs) keep your blood vessels from narrowing as much</li><li>Calcium channel blockers prevent calcium from entering the muscle cells of your heart and blood vessels. This allows the blood vessels to relax.</li><li>Diuretics remove extra water and sodium (salt) from your body. This lowers the amount of fluid in your blood. Diuretics are often used with other <span class=\"qt0\"><span class=\"qt1\">high blood pressure</span></span> medicines, sometimes in one combined pill.</li><li>Beta blockers help your heart beat slower and with less force. This means that your heart pumps less blood through your blood vessels. Beta blockers are typically used only as a backup option or if you also have certain other conditions.</li></ul><p>Often, two or more medicines work better than one. While taking the medicines, it is still important to keep up with your healthy lifestyle changes.</p><p>NIH: National Heart, Lung, and Blood Institute</p>\\n',\n",
              " '<h1><span class=\"qt0\"><span class=\"qt1\"><span class=\"qt2\">Cancer</span></span></span></h1> \\nhttps://medlineplus.gov/cancer.html\\n<p><span class=\"qt0\"><span class=\"qt1\"><span class=\"qt2\">Cancer</span></span></span> begins in your cells, which are the building blocks of your body.   Normally, your body forms new cells as you need them, replacing old cells that die. Sometimes this process goes wrong. New cells grow even when you don\\'t need them, and old cells don\\'t die when they should. These extra cells can form a mass called a <span class=\"qt0\"><span class=\"qt1\"><span class=\"qt2\">tumor. Tumors</span></span></span> can be benign or malignant. Benign <span class=\"qt0\"><span class=\"qt1\"><span class=\"qt2\">tumors</span></span></span> aren\\'t <span class=\"qt0\"><span class=\"qt1\"><span class=\"qt2\">cancer</span></span></span> while malignant ones are. Cells from malignant <span class=\"qt0\"><span class=\"qt1\"><span class=\"qt2\">tumors</span></span></span> can invade nearby tissues. They can also break away and spread to other parts of the body. </p><p><span class=\"qt0\"><span class=\"qt1\"><span class=\"qt2\">Cancer</span></span></span> is not just one disease but many diseases. There are more than 100 different types of <span class=\"qt0\"><span class=\"qt1\"><span class=\"qt2\">cancer</span></span></span>. Most <span class=\"qt0\"><span class=\"qt1\"><span class=\"qt2\">cancers</span></span></span> are named for where they start. For example, lung <span class=\"qt0\"><span class=\"qt1\"><span class=\"qt2\">cancer</span></span></span> starts in the lung, and breast <span class=\"qt0\"><span class=\"qt1\"><span class=\"qt2\">cancer</span></span></span> starts in the breast. The spread of <span class=\"qt0\"><span class=\"qt1\"><span class=\"qt2\">cancer</span></span></span> from one part of the body to another is called metastasis. Symptoms and treatment depend on the <span class=\"qt0\"><span class=\"qt1\"><span class=\"qt2\">cancer</span></span></span> type and how advanced it is. Most treatment plans may include surgery, radiation and/or chemotherapy. Some may involve hormone therapy, immunotherapy or other types of biologic therapy, or stem cell transplantation. </p><p>NIH: National <span class=\"qt0\"><span class=\"qt1\"><span class=\"qt2\">Cancer</span></span></span> Institute</p>\\n']"
            ]
          },
          "metadata": {},
          "execution_count": 98
        }
      ]
    },
    {
      "cell_type": "code",
      "source": [
        "true_recs_noemp = {}\n",
        "for i in true_recs.keys():\n",
        "  if len(true_recs[i]) != 0:\n",
        "    true_recs_noemp[i] = true_recs[i]\n",
        "  else:\n",
        "    print(i)"
      ],
      "metadata": {
        "colab": {
          "base_uri": "https://localhost:8080/"
        },
        "id": "AetbtHHrUPU5",
        "outputId": "6da4d8a9-ebaf-46da-a288-6fcfb2fb03ee"
      },
      "execution_count": null,
      "outputs": [
        {
          "output_type": "stream",
          "name": "stdout",
          "text": [
            "22\n",
            "66\n",
            "67\n"
          ]
        }
      ]
    },
    {
      "cell_type": "code",
      "source": [
        "len(true_recs_noemp)"
      ],
      "metadata": {
        "colab": {
          "base_uri": "https://localhost:8080/"
        },
        "id": "QOATlbRKYOm9",
        "outputId": "d9203d57-9b5c-4edd-e565-9fd38125d545"
      },
      "execution_count": null,
      "outputs": [
        {
          "output_type": "execute_result",
          "data": {
            "text/plain": [
              "72"
            ]
          },
          "metadata": {},
          "execution_count": 101
        }
      ]
    },
    {
      "cell_type": "code",
      "source": [
        "with open('true_recs.json', 'w') as f:\n",
        "  json.dump(true_recs, f)"
      ],
      "metadata": {
        "id": "ths-2r9VQyGh"
      },
      "execution_count": null,
      "outputs": []
    },
    {
      "cell_type": "code",
      "source": [
        "with open('true_recs_noemp.json', 'w') as f:\n",
        "  json.dump(true_recs_noemp, f)"
      ],
      "metadata": {
        "id": "pqZdse9tYR9z"
      },
      "execution_count": null,
      "outputs": []
    },
    {
      "cell_type": "markdown",
      "source": [
        "umls 2 ver (reranked data)"
      ],
      "metadata": {
        "id": "ZALBFSifLkeK"
      }
    },
    {
      "cell_type": "markdown",
      "source": [
        "немного кода с сохранением переранжированных статей после pyserini"
      ],
      "metadata": {
        "id": "p_5HzHwBM8ma"
      }
    },
    {
      "cell_type": "code",
      "source": [
        "with open('new_recs_raw.json', 'r') as f:\n",
        "  new_recs = json.load(f)"
      ],
      "metadata": {
        "id": "hhyPMJqLLulP"
      },
      "execution_count": null,
      "outputs": []
    },
    {
      "cell_type": "code",
      "source": [
        "rec_nums = {}\n",
        "for i in new_recs:\n",
        "  recs_clean = []\n",
        "  for rec in new_recs[i]:\n",
        "    recs_clean.append(rec[0][3:])\n",
        "  rec_nums[i] = recs_clean\n",
        "\n",
        "rec_nums['1']"
      ],
      "metadata": {
        "colab": {
          "base_uri": "https://localhost:8080/"
        },
        "id": "Gd16KTVcLu4p",
        "outputId": "4f3b2c72-e3f5-4982-b392-cb043724dadc"
      },
      "execution_count": null,
      "outputs": [
        {
          "output_type": "execute_result",
          "data": {
            "text/plain": [
              "['11', '2', '1', '3', '4', '5', '9', '7', '6', '10']"
            ]
          },
          "metadata": {},
          "execution_count": 48
        }
      ]
    },
    {
      "cell_type": "code",
      "source": [
        "reranked_recs = {}\n",
        "for i in data.keys():\n",
        "  new_list = []\n",
        "  for paper_id in rec_nums[i]:\n",
        "    idx = int(paper_id) - 1\n",
        "    new_list.append(data[i][idx])\n",
        "  reranked_recs[i] = new_list"
      ],
      "metadata": {
        "id": "L_QKekJiLu9P"
      },
      "execution_count": null,
      "outputs": []
    },
    {
      "cell_type": "code",
      "source": [
        "reranked_recs['1']"
      ],
      "metadata": {
        "colab": {
          "base_uri": "https://localhost:8080/"
        },
        "id": "SirFFIYNOjiU",
        "outputId": "c40ab6b4-da6b-4e39-9cf1-3d9b6dea0356"
      },
      "execution_count": null,
      "outputs": [
        {
          "output_type": "execute_result",
          "data": {
            "text/plain": [
              "['<h1>Sciatica</h1> \\nhttps://medlineplus.gov/sciatica.html\\n<p>Sciatica is a symptom of a problem with the sciatic nerve, the largest nerve in the body. It controls muscles in the back of your knee and lower leg and provides feeling to the back of your <span class=\"qt0\">thigh</span>, part of your lower leg, and the sole of your foot. When you have sciatica, you have pain, weakness, <span class=\"qt1\">numbness</span>, or tingling. It can start in the lower back and extend down your leg to your calf, foot, or even your toes. It\\'s usually on only one side of your body.</p><p>Causes of sciatica include:</p><ul><li>A ruptured intervertebral disk</li><li>Narrowing of the spinal canal that puts pressure on the nerve, called spinal stenosis</li><li>An injury such as a pelvic fracture.</li></ul><p>In many cases no cause can be found.</p><p>Sometimes sciatica goes away on its own. Treatment, if needed, depends on the cause of the problem. It may include exercises, medicines, and surgery.</p>\\n',\n",
              " '<h1>Pulmonary <span class=\"qt0\"><span class=\"qt1\">Hypertension</span></span></h1> \\nhttps://medlineplus.gov/pulmonaryhypertension.html\\n<p>Pulmonary <span class=\"qt0\"><span class=\"qt1\">hypertension</span></span> (PH) is <span class=\"qt0\"><span class=\"qt1\">high blood pressure</span></span> in the arteries to your lungs. It is a serious condition. If you have it, the blood vessels that carry blood from your heart to your lungs become hard and narrow. Your heart has to work harder to pump the blood through. Over time, your heart weakens and cannot do its job and you can develop heart failure. </p><p>Symptoms of PH  include:</p><ul><li>Shortness of breath during routine activity, such as climbing two flights of stairs</li><li>Tiredness</li><li>Chest pain</li><li>A racing heartbeat</li><li>Pain on the upper right side of the abdomen</li><li>Decreased appetite</li></ul><p>As PH worsens, you may find it hard to do any physical activities.</p><p>There are two main kinds of PH. One runs in families or appears for no known reason. The other kind is related to another condition, usually heart or lung disease. </p><p>There is no cure for PH. Treatments can control symptoms.  They involve treating the heart or lung disease, medicines, oxygen, and sometimes lung transplantation.</p><p>NIH: National Heart, Lung, and Blood Institute</p>\\n',\n",
              " '<h1><span class=\"qt0\"><span class=\"qt1\">High Blood Pressure</span></span></h1> \\nhttps://medlineplus.gov/highbloodpressure.html\\nWhat is blood pressure?<p>Blood pressure is the force of your blood pushing against the walls of your arteries. Each time your heart beats, it pumps blood into the arteries. Your <span class=\"qt0\"><span class=\"qt1\">blood pressure is highest</span></span> when your heart beats, pumping the blood. This is called systolic pressure. When your heart is at rest, between beats, your blood pressure falls. This is called diastolic pressure.</p><p>Your blood pressure reading uses these two numbers. Usually the systolic number comes before or above the diastolic number. For example, 120/80 means a systolic of 120 and a diastolic of 80.</p>How is <span class=\"qt0\"><span class=\"qt1\">high blood pressure</span></span> diagnosed?<p><span class=\"qt0\"><span class=\"qt1\">High blood pressure</span></span> usually has no symptoms. So the only way to find out if you have it is to get regular blood pressure checks from your health care provider. Your provider will use a gauge, a stethoscope or electronic sensor, and a blood pressure cuff. He or she will take two or more readings at separate appointments before making a diagnosis.</p>Blood Pressure CategorySystolic Blood PressureDiastolic Blood PressureNormalLess than 120andLess than 80High Blood Pressure (no other heart risk factors)140 or higheror90 or higherHigh Blood Pressure (with other heart risk factors, according to some providers)130 or higheror80 or higherDangerously <span class=\"qt0\"><span class=\"qt1\">high blood pressure</span></span> - seek medical care right away180 or higherand120 or higher<p>For children and teens, the health care provider compares the blood pressure reading to what is normal for other kids who are the same age, height, and sex.</p>What are the different types of <span class=\"qt0\"><span class=\"qt1\">high blood pressure</span></span>?<p>There are two main types of <span class=\"qt0\"><span class=\"qt1\">high blood pressure</span></span>: primary and secondary <span class=\"qt0\"><span class=\"qt1\">high blood pressure</span></span>.:</p><ul><li>Primary, or essential, <span class=\"qt0\"><span class=\"qt1\">high blood pressure</span></span> is the most common type of <span class=\"qt0\"><span class=\"qt1\">high blood pressure</span></span>. For most people who get this kind of blood pressure, it develops over time as you get older.</li><li>Secondary <span class=\"qt0\"><span class=\"qt1\">high blood pressure</span></span> is caused by another medical condition or use of certain medicines. It usually gets better after you treat that condition or stop taking the medicines that are causing it.</li></ul>Why do I need to worry about <span class=\"qt0\"><span class=\"qt1\">high blood pressure</span></span>?<p>When your blood pressure stays high over time, it causes the heart to pump harder and work overtime, possibly leading to serious health problems such as heart attack, stroke, heart failure, and kidney failure.</p>What are the treatments for <span class=\"qt0\"><span class=\"qt1\">high blood pressure</span></span>?<p>Treatments for <span class=\"qt0\"><span class=\"qt1\">high blood pressure</span></span> include heart-healthy lifestyle changes and medicines.</p><p>You will work with your provider to come up with a treatment plan. It may include only the lifestyle changes. These changes, such as heart-healthy eating and exercise, can be very effective. But sometimes the changes do not control or lower your <span class=\"qt0\"><span class=\"qt1\">high blood pressure</span></span>. Then you may need to take medicine. There are different types of blood pressure medicines. Some people need to take more than one type.</p><p>If your <span class=\"qt0\"><span class=\"qt1\">high blood pressure</span></span> is caused by another medical condition or medicine, treating that condition or stopping the medicine may lower your blood pressure.</p><p>NIH: National Heart, Lung, and Blood Institute</p>\\n',\n",
              " '<h1>How to Prevent <span class=\"qt0\"><span class=\"qt1\">High Blood Pressure</span></span></h1> \\nhttps://medlineplus.gov/howtopreventhighbloodpressure.html\\n<p>More than 1 in 3 adults in the U.S. has <span class=\"qt0\"><span class=\"qt1\">high blood pressure, or hypertension</span></span>. Many of those people don\\'t know they have it, because there are usually no warning signs. This can be dangerous, because <span class=\"qt0\"><span class=\"qt1\">high blood pressure</span></span> can lead to life-threatening conditions like heart attack or stroke. The good news is that you can often prevent or treat <span class=\"qt0\"><span class=\"qt1\">high blood pressure</span></span>. Early diagnosis and heart-healthy lifestyle changes can keep <span class=\"qt0\"><span class=\"qt1\">high blood pressure</span></span> from seriously damaging your health.</p>What is blood pressure?<p>Blood pressure is the force of your blood pushing against the walls of your arteries. Each time your heart beats, it pumps blood into the arteries. Your <span class=\"qt0\"><span class=\"qt1\">blood pressure is highest</span></span> when your heart beats, pumping the blood. This is called systolic pressure. When your heart is at rest, between beats, your blood pressure falls. This is called diastolic pressure.</p><p>Your blood pressure reading uses these two numbers. Usually the systolic number comes before or above the diastolic number. For example, 120/80 means a systolic of 120 and a diastolic of 80.</p>How is <span class=\"qt0\"><span class=\"qt1\">high blood pressure</span></span> diagnosed?<p><span class=\"qt0\"><span class=\"qt1\">High blood pressure</span></span> usually has no symptoms. So the only way to find out if you have it is to get regular blood pressure checks from your health care provider. Your provider will use a gauge, a stethoscope or electronic sensor, and a blood pressure cuff. He or she will take two or more readings at separate appointments before making a diagnosis.</p>Blood Pressure CategorySystolic Blood PressureDiastolic Blood PressureNormalLess than 120andLess than 80High Blood Pressure (no other heart risk factors)140 or higheror90 or higherHigh Blood Pressure (with other heart risk factors, according to some providers)130 or higheror80 or higherDangerously <span class=\"qt0\"><span class=\"qt1\">high blood pressure</span></span> - seek medical care right away180 or higherand120 or higher<p>For children and teens, the health care provider compares the blood pressure reading to what is normal for other kids who are the same age, height, and gender.</p><p>People with diabetes or chronic kidney disease should keep their blood pressure below 130/80.</p>Who is at risk for <span class=\"qt0\"><span class=\"qt1\">high blood pressure</span></span>?<p>Anyone can develop <span class=\"qt0\"><span class=\"qt1\">high blood pressure</span></span>, but there are certain factors that can increase your risk:</p><ul><li>Age - Blood pressure tends to rise with age</li><li>Race/Ethnicity - <span class=\"qt0\"><span class=\"qt1\">High blood pressure</span></span> is more common in African American adults</li><li>Weight - People who are overweight or have obesity are more likely to develop <span class=\"qt0\"><span class=\"qt1\">high blood pressure</span></span></li><li>Sex - Before age 55, men are more likely than women to develop <span class=\"qt0\"><span class=\"qt1\">high blood pressure</span></span>. After age 55, women are more likely than men to develop it.</li><li>Lifestyle - Certain lifestyle habits can raise your risk for <span class=\"qt0\"><span class=\"qt1\">high blood pressure</span></span>, such as eating too much sodium (salt) or not enough potassium, lack of exercise, drinking too much alcohol, and smoking.</li><li>Family history - A family history of <span class=\"qt0\"><span class=\"qt1\">high blood pressure</span></span> raises the risk of developing <span class=\"qt0\"><span class=\"qt1\">high blood pressure</span></span></li></ul>How can I prevent <span class=\"qt0\"><span class=\"qt1\">high blood pressure</span></span>?<p>You can help prevent <span class=\"qt0\"><span class=\"qt1\">high blood pressure</span></span> by having a healthy lifestyle. This means:</p><ul><li>Eating a healthy diet. To help manage your blood pressure, you should limit the amount of sodium (salt) that you eat and increase the amount of potassium in your diet. It is also important to eat foods that are lower in fat, as well as plenty of fruits, vegetables, and whole grains. The DASH eating plan is an example of an eating plan that can help you to lower your blood pressure.</li><li>Getting regular exercise. Exercise can help you maintain a healthy weight and lower your blood pressure. You should try to get moderate-intensity aerobic exercise at least 2 and a half hours per week, or vigorous-intensity aerobic exercise for 1 hour and 15 minutes per week. Aerobic exercise, such as brisk walking, is any exercise in which your heart beats harder and you use more oxygen than usual.</li><li>Being at a healthy weight. Being overweight or having obesity increases your risk for <span class=\"qt0\"><span class=\"qt1\">high blood pressure</span></span>. Maintaining a healthy weight can help you control <span class=\"qt0\"><span class=\"qt1\">high blood pressure</span></span> and reduce your risk for other health problems.</li><li>Limiting alcohol. Drinking too much alcohol can raise your blood pressure. It also adds extra calories, which may cause weight gain. Men should have no more than two drinks per day, and women only one.</li><li>Not smoking. Cigarette smoking raises your blood pressure and puts you at higher risk for heart attack and stroke. If you do not smoke, do not start. If you do smoke, talk to your health care provider for help in finding the best way for you to quit.</li><li>Managing stress. Learning how to relax and manage stress can improve your emotional and physical health and lower <span class=\"qt0\"><span class=\"qt1\">high blood pressure</span></span>. Stress management techniques include exercising, listening to music, focusing on something calm or peaceful, and meditating.</li></ul><p>If you already have <span class=\"qt0\"><span class=\"qt1\">high blood pressure</span></span>, it is important to prevent it from getting worse or causing complications. You should get regular medical care and follow your prescribed treatment plan. Your plan will include healthy lifestyle habit recommendations and possibly medicines.</p><p>NIH: National Heart, Lung, and Blood Institute</p>\\n',\n",
              " '<h1><span class=\"qt0\"><span class=\"qt1\">High Blood Pressure</span></span> in Pregnancy</h1> \\nhttps://medlineplus.gov/highbloodpressureinpregnancy.html\\nWhat is <span class=\"qt0\"><span class=\"qt1\">high blood pressure</span></span> in pregnancy?<p>Blood pressure is the force of your blood pushing against the walls of your arteries as your heart pumps blood. <span class=\"qt0\"><span class=\"qt1\">High blood pressure, or hypertension</span></span>, is when this force against your artery walls is too high.  There are different types of <span class=\"qt0\"><span class=\"qt1\">high blood pressure</span></span> in pregnancy:</p><ul><li>Gestational <span class=\"qt0\"><span class=\"qt1\">hypertension is high blood pressure</span></span> that you develop while you are pregnant. It starts after you are 20 weeks pregnant. You usually don\\'t have any other symptoms. In many cases, it does not harm you or your baby, and it goes away within 12 weeks after childbirth. But it does raise your risk of <span class=\"qt0\"><span class=\"qt1\">high blood pressure</span></span> in the future. It sometimes can be severe, which may lead to low birth weight or preterm birth. Some women with gestational <span class=\"qt0\"><span class=\"qt1\">hypertension</span></span> do go on to develop preeclampsia.</li><li>Chronic <span class=\"qt0\"><span class=\"qt1\">hypertension is high blood pressure</span></span> that started before the 20th week of pregnancy or before you became pregnant. Some women may have had it long before becoming pregnant but didn\\'t know it until they got their blood pressure checked at their prenatal visit. Sometimes chronic <span class=\"qt0\"><span class=\"qt1\">hypertension</span></span> can also lead to preeclampsia.</li><li>Preeclampsia is a sudden increase in blood pressure after the 20th week of pregnancy. It usually happens in the last trimester. In rare cases, symptoms may not start until after delivery. This is called postpartum preeclampsia. Preeclampsia also includes signs of damage to some of your organs, such as your liver or kidney. The signs may include protein in the urine and very <span class=\"qt0\"><span class=\"qt1\">high blood pressure</span></span>. Preeclampsia can be serious or even life-threatening for both you and your baby.</li></ul>What causes preeclampsia?<p>The cause of preeclampsia is unknown.</p>Who is at risk for preeclampsia?<p>You are at higher risk of preeclampsia if you:</p><ul><li>Had chronic <span class=\"qt0\"><span class=\"qt1\">high blood pressure</span></span> or chronic kidney disease before pregnancy</li><li>Had <span class=\"qt0\"><span class=\"qt1\">high blood pressure</span></span> or preeclampsia in a previous pregnancy</li><li>Have obesity</li><li>Are over age 40</li><li>Are pregnant with more than one baby</li><li>Are African American</li><li>Have a family history of preeclampsia</li><li>Have certain health conditions, such as diabetes, lupus, or thrombophilia (a disorder which raises your risk of blood clots)</li><li>Used in vitro fertilization, egg donation, or donor insemination</li></ul>What problems can preeclampsia cause?<p>Preeclampsia can cause:</p><ul><li>Placental abruption, where the placenta separates from the uterus</li><li>Poor fetal growth, caused by a lack of nutrients and oxygen</li><li>Preterm birth</li><li>A low birth weight baby</li><li>Stillbirth</li><li>Damage to your kidneys, liver, brain, and other organ and blood systems</li><li>A higher risk of heart disease for you</li><li>Eclampsia, which happens when preeclampsia is severe enough to affect brain function, causing seizures or coma</li><li>HELLP syndrome, which happens when a woman with preeclampsia or eclampsia has damage to the liver and blood cells. It is rare, but very serious.</li></ul>What are the symptoms of preeclampsia?<p>Possible symptoms of preeclampsia include:</p><ul><li><span class=\"qt0\"><span class=\"qt1\">High blood pressure</span></span></li><li>Too much protein in your urine (called proteinuria)</li><li>Swelling in your face and hands. Your feet may also swell, but many women have swollen feet during pregnancy. So swollen feet by themselves may not be a sign of a problem.</li><li>Headache that does not go away</li><li>Vision problems, including blurred vision or seeing spots</li><li>Pain in your upper right abdomen</li><li>Trouble breathing</li></ul><p>Eclampsia can also cause seizures, nausea and/or vomiting, and low urine output. If you go on to develop HELLP syndrome, you may also have bleeding or bruising easily, extreme fatigue, and liver failure.</p>How is preeclampsia diagnosed?<p>Your health care provider will check your blood pressure and urine at each prenatal visit. If your blood pressure reading is high (140/90 or higher), especially after the 20th week of pregnancy, your provider will likely want to run some tests. They may include blood tests other lab tests to look for extra protein in the urine as well as other symptoms.</p>What are the treatments for preeclampsia?<p>Delivering the baby can often cure preeclampsia. When making a decision about treatment, your provider take into account several factors. They include how severe it is, how many weeks pregnant you are, and what the potential risks to you and your baby are:</p><ul><li>If you are more than 37 weeks pregnant, your provider will likely want to deliver the baby.</li><li>If you are less than 37 weeks pregnant, your health care provider will closely monitor you and your baby. This includes blood and urine tests for you. Monitoring for the baby often involves ultrasound, heart rate monitoring, and checking on the baby\\'s growth. You may need to take medicines, to control your blood pressure and to prevent seizures. Some women also get steroid injections, to help the baby\\'s lungs mature faster. If the preeclampsia is severe, you provider may want you to deliver the baby early.</li></ul><p>The symptoms usually go away within 6 weeks of delivery. In rare cases, symptoms may not go away, or they may not start until after delivery (postpartum preeclampsia). This can be very serious, and it needs to be treated right away.</p>\\n',\n",
              " '<h1>Blood Pressure Medicines</h1> \\nhttps://medlineplus.gov/bloodpressuremedicines.html\\nWhat is <span class=\"qt0\"><span class=\"qt1\">high blood pressure</span></span>?<p><span class=\"qt0\"><span class=\"qt1\">High blood pressure</span></span>, also called <span class=\"qt0\"><span class=\"qt1\">hypertension</span></span>, is when blood puts too much pressure against the walls of your arteries. About 1 in 3 adults have <span class=\"qt0\"><span class=\"qt1\">high blood pressure</span></span>, usually with no symptoms. But it can cause serious problems such as stroke, heart failure, heart attack, and kidney disease.</p>What lifestyle changes can help lower <span class=\"qt0\"><span class=\"qt1\">high blood pressure</span></span>?<p>Healthy lifestyle changes can help reduce <span class=\"qt0\"><span class=\"qt1\">high blood pressure</span></span>:</p><ul><li>Losing weight</li><li>Being physically active</li><li>Managing stress</li><li>Reducing sodium in your diet</li><li>Avoiding alcohol, tobacco, and illegal drugs</li><li>Getting enough sleep</li></ul>What if lifestyle changes alone cannot lower blood pressure?<p>Sometimes lifestyle changes alone cannot control or lower your <span class=\"qt0\"><span class=\"qt1\">high blood pressure</span></span>. In that case, your health care provider may prescribe blood pressure medicines.</p>How do blood pressure medicines work?<p>Blood pressure medicines work in different ways to lower blood pressure:</p><ul><li>Angiotensin-converting enzyme (ACE) inhibitors and angiotensin II receptor blockers (ARBs) keep your blood vessels from narrowing as much</li><li>Calcium channel blockers prevent calcium from entering the muscle cells of your heart and blood vessels. This allows the blood vessels to relax.</li><li>Diuretics remove extra water and sodium (salt) from your body. This lowers the amount of fluid in your blood. Diuretics are often used with other <span class=\"qt0\"><span class=\"qt1\">high blood pressure</span></span> medicines, sometimes in one combined pill.</li><li>Beta blockers help your heart beat slower and with less force. This means that your heart pumps less blood through your blood vessels. Beta blockers are typically used only as a backup option or if you also have certain other conditions.</li></ul><p>Often, two or more medicines work better than one. While taking the medicines, it is still important to keep up with your healthy lifestyle changes.</p><p>NIH: National Heart, Lung, and Blood Institute</p>\\n',\n",
              " '<h1>Nasal <span class=\"qt0\"><span class=\"qt1\"><span class=\"qt2\">Cancer</span></span></span></h1> \\nhttps://medlineplus.gov/nasalcancer.html\\n<p>Your paranasal sinuses are small hollow spaces around the nose. They are lined with cells that make mucus, which keeps your nose from drying out. The nasal cavity is the passageway just behind your nose. Air passes through it on the way to your throat as you breathe.</p><p><span class=\"qt0\"><span class=\"qt1\"><span class=\"qt2\">Cancer</span></span></span> of the nasal cavity and paranasal sinuses is rare.  You are at greater risk if you are:</p><ul><li>Male and over 40 years old</li><li>Exposed to certain workplace chemicals</li><li>Infected with HPV</li><li>A smoker</li></ul><p>There may be no symptoms at first, and later symptoms can be like those of infections. Doctors diagnose nasal <span class=\"qt0\"><span class=\"qt1\"><span class=\"qt2\">cancer</span></span></span> with imaging tests, lighted tube-like instruments that look inside the nose, and biopsies. Treatment options include surgery, radiation, and chemotherapy. </p><p>NIH: National <span class=\"qt0\"><span class=\"qt1\"><span class=\"qt2\">Cancer</span></span></span> Institute</p>\\n',\n",
              " '<h1>Throat <span class=\"qt0\"><span class=\"qt1\"><span class=\"qt2\">Cancer</span></span></span></h1> \\nhttps://medlineplus.gov/throatcancer.html\\n<p>Throat <span class=\"qt0\"><span class=\"qt1\"><span class=\"qt2\">cancer</span></span></span> is a type of head and neck <span class=\"qt0\"><span class=\"qt1\"><span class=\"qt2\">cancer</span></span></span>. Throat <span class=\"qt0\"><span class=\"qt1\"><span class=\"qt2\">cancer</span></span></span> has different names, depending on which part of the throat is affected. The different parts of your throat are called the oropharynx, the hypopharynx, the nasopharynx, and the larynx, or voice box.</p><p>The main risk factors for throat <span class=\"qt0\"><span class=\"qt1\"><span class=\"qt2\">cancer</span></span></span> are using tobacco heavy drinking. Certain types of throat <span class=\"qt0\"><span class=\"qt1\"><span class=\"qt2\">cancer</span></span></span> also have other risk factors. For example, having HPV is a risk factor for oropharyngeal <span class=\"qt0\"><span class=\"qt1\"><span class=\"qt2\">cancer</span></span></span>.</p><p>Symptoms of throat <span class=\"qt0\"><span class=\"qt1\"><span class=\"qt2\">cancer</span></span></span> may include:</p><ul><li>A sore throat that does not go away</li><li>A lump in the neck</li><li>Pain or ringing in the ears</li><li>Trouble swallowing</li><li>Ear pain</li></ul><p>To diagnose throat <span class=\"qt0\"><span class=\"qt1\"><span class=\"qt2\">cancers</span></span></span>, doctors may do a physical exam and history, imaging tests, and a biopsy. You may also need other tests, depending on the type of <span class=\"qt0\"><span class=\"qt1\"><span class=\"qt2\">cancer</span></span></span>. Treatments include surgery, radiation therapy, and chemotherapy. Treatment for some types of throat <span class=\"qt0\"><span class=\"qt1\"><span class=\"qt2\">cancer</span></span></span> may also include targeted therapy. Targeted therapy uses drugs or other substances that attack specific <span class=\"qt0\"><span class=\"qt1\"><span class=\"qt2\">cancer</span></span></span> cells with less harm to normal cells.</p><p>NIH: National <span class=\"qt0\"><span class=\"qt1\"><span class=\"qt2\">Cancer</span></span></span> Institute</p>\\n',\n",
              " '<h1><span class=\"qt0\"><span class=\"qt1\"><span class=\"qt2\">Cancer</span></span></span></h1> \\nhttps://medlineplus.gov/cancer.html\\n<p><span class=\"qt0\"><span class=\"qt1\"><span class=\"qt2\">Cancer</span></span></span> begins in your cells, which are the building blocks of your body.   Normally, your body forms new cells as you need them, replacing old cells that die. Sometimes this process goes wrong. New cells grow even when you don\\'t need them, and old cells don\\'t die when they should. These extra cells can form a mass called a <span class=\"qt0\"><span class=\"qt1\"><span class=\"qt2\">tumor. Tumors</span></span></span> can be benign or malignant. Benign <span class=\"qt0\"><span class=\"qt1\"><span class=\"qt2\">tumors</span></span></span> aren\\'t <span class=\"qt0\"><span class=\"qt1\"><span class=\"qt2\">cancer</span></span></span> while malignant ones are. Cells from malignant <span class=\"qt0\"><span class=\"qt1\"><span class=\"qt2\">tumors</span></span></span> can invade nearby tissues. They can also break away and spread to other parts of the body. </p><p><span class=\"qt0\"><span class=\"qt1\"><span class=\"qt2\">Cancer</span></span></span> is not just one disease but many diseases. There are more than 100 different types of <span class=\"qt0\"><span class=\"qt1\"><span class=\"qt2\">cancer</span></span></span>. Most <span class=\"qt0\"><span class=\"qt1\"><span class=\"qt2\">cancers</span></span></span> are named for where they start. For example, lung <span class=\"qt0\"><span class=\"qt1\"><span class=\"qt2\">cancer</span></span></span> starts in the lung, and breast <span class=\"qt0\"><span class=\"qt1\"><span class=\"qt2\">cancer</span></span></span> starts in the breast. The spread of <span class=\"qt0\"><span class=\"qt1\"><span class=\"qt2\">cancer</span></span></span> from one part of the body to another is called metastasis. Symptoms and treatment depend on the <span class=\"qt0\"><span class=\"qt1\"><span class=\"qt2\">cancer</span></span></span> type and how advanced it is. Most treatment plans may include surgery, radiation and/or chemotherapy. Some may involve hormone therapy, immunotherapy or other types of biologic therapy, or stem cell transplantation. </p><p>NIH: National <span class=\"qt0\"><span class=\"qt1\"><span class=\"qt2\">Cancer</span></span></span> Institute</p>\\n',\n",
              " '<h1>Benign <span class=\"qt0\"><span class=\"qt1\"><span class=\"qt2\">Tumors</span></span></span></h1> \\nhttps://medlineplus.gov/benigntumors.html\\n<p><span class=\"qt0\"><span class=\"qt1\"><span class=\"qt2\">Tumors</span></span></span> are abnormal growths in your body. They can be either benign or malignant. Benign <span class=\"qt0\"><span class=\"qt1\"><span class=\"qt2\">tumors</span></span></span> aren\\'t <span class=\"qt0\"><span class=\"qt1\"><span class=\"qt2\">cancer</span></span></span>. Malignant ones are. Benign <span class=\"qt0\"><span class=\"qt1\"><span class=\"qt2\">tumors</span></span></span> grow only in one place. They cannot spread or invade other parts of your body. Even so, they can be dangerous if they press on vital organs, such as your brain.</p><p><span class=\"qt0\"><span class=\"qt1\"><span class=\"qt2\">Tumors</span></span></span> are made up of extra cells. Normally, cells grow and divide to form new cells as your body needs them. When cells grow old, they die, and new cells take their place. Sometimes, this process goes wrong. New cells form when your body does not need them, and old cells do not die when they should. These extra cells can divide without stopping and may form <span class=\"qt0\"><span class=\"qt1\"><span class=\"qt2\">tumor</span></span></span>.</p><p>Treatment often involves surgery. Benign <span class=\"qt0\"><span class=\"qt1\"><span class=\"qt2\">tumors</span></span></span> usually don\\'t grow back.</p><p>NIH: National <span class=\"qt0\"><span class=\"qt1\"><span class=\"qt2\">Cancer</span></span></span> Institute</p>\\n']"
            ]
          },
          "metadata": {},
          "execution_count": 51
        }
      ]
    },
    {
      "cell_type": "code",
      "source": [
        "with open('text_recs_reranked.json', 'w') as f:\n",
        "  json.dump(reranked_recs, f)"
      ],
      "metadata": {
        "id": "4X3AAVnSO49k"
      },
      "execution_count": null,
      "outputs": []
    },
    {
      "cell_type": "markdown",
      "source": [
        "Извлекаем true статьи"
      ],
      "metadata": {
        "id": "Ve0PjrTpNRQ0"
      }
    },
    {
      "cell_type": "code",
      "source": [
        "with open('text_recs_reranked.json', 'r') as f:\n",
        "  reranked_recs = json.load(f)"
      ],
      "metadata": {
        "id": "mDpsVkvjPFwC"
      },
      "execution_count": null,
      "outputs": []
    },
    {
      "cell_type": "code",
      "source": [
        "with open('annot_results_2.json', 'r') as f:\n",
        "  results = json.load(f)"
      ],
      "metadata": {
        "id": "mr8TLORpQHIO"
      },
      "execution_count": null,
      "outputs": []
    },
    {
      "cell_type": "code",
      "source": [
        "res_sorted = sorted(results.items(), key=lambda x: x[0])\n",
        "res_sorted[0]"
      ],
      "metadata": {
        "colab": {
          "base_uri": "https://localhost:8080/"
        },
        "id": "9V1FyKueQRtI",
        "outputId": "a7fac624-1505-41d9-a8b1-c96943c432af"
      },
      "execution_count": null,
      "outputs": [
        {
          "output_type": "execute_result",
          "data": {
            "text/plain": [
              "('9262', ['3', '4', '6', '9'])"
            ]
          },
          "metadata": {},
          "execution_count": 55
        }
      ]
    },
    {
      "cell_type": "code",
      "source": [
        "len(res_sorted)"
      ],
      "metadata": {
        "colab": {
          "base_uri": "https://localhost:8080/"
        },
        "id": "X9HNF3kOQRxJ",
        "outputId": "340b62c3-b939-4ad2-ceee-94115dace0fb"
      },
      "execution_count": null,
      "outputs": [
        {
          "output_type": "execute_result",
          "data": {
            "text/plain": [
              "75"
            ]
          },
          "metadata": {},
          "execution_count": 56
        }
      ]
    },
    {
      "cell_type": "code",
      "source": [
        "true_recs = {}\n",
        "\n",
        "for i in range(len(res_sorted)):\n",
        "  text_recs = []\n",
        "  for j in res_sorted[i][1]:\n",
        "    idx = int(j) - 1\n",
        "    text_recs.append(reranked_recs[str(i+1)][idx])\n",
        "  \n",
        "  true_recs[str(i+1)] = text_recs"
      ],
      "metadata": {
        "id": "2c6QnTFbQR2N"
      },
      "execution_count": null,
      "outputs": []
    },
    {
      "cell_type": "code",
      "source": [
        "true_recs['1']"
      ],
      "metadata": {
        "colab": {
          "base_uri": "https://localhost:8080/"
        },
        "id": "DQRikIhkQR6t",
        "outputId": "35ddd45b-172b-46b5-952a-cd64ac72ddab"
      },
      "execution_count": null,
      "outputs": [
        {
          "output_type": "execute_result",
          "data": {
            "text/plain": [
              "['<h1><span class=\"qt0\"><span class=\"qt1\">High Blood Pressure</span></span></h1> \\nhttps://medlineplus.gov/highbloodpressure.html\\nWhat is blood pressure?<p>Blood pressure is the force of your blood pushing against the walls of your arteries. Each time your heart beats, it pumps blood into the arteries. Your <span class=\"qt0\"><span class=\"qt1\">blood pressure is highest</span></span> when your heart beats, pumping the blood. This is called systolic pressure. When your heart is at rest, between beats, your blood pressure falls. This is called diastolic pressure.</p><p>Your blood pressure reading uses these two numbers. Usually the systolic number comes before or above the diastolic number. For example, 120/80 means a systolic of 120 and a diastolic of 80.</p>How is <span class=\"qt0\"><span class=\"qt1\">high blood pressure</span></span> diagnosed?<p><span class=\"qt0\"><span class=\"qt1\">High blood pressure</span></span> usually has no symptoms. So the only way to find out if you have it is to get regular blood pressure checks from your health care provider. Your provider will use a gauge, a stethoscope or electronic sensor, and a blood pressure cuff. He or she will take two or more readings at separate appointments before making a diagnosis.</p>Blood Pressure CategorySystolic Blood PressureDiastolic Blood PressureNormalLess than 120andLess than 80High Blood Pressure (no other heart risk factors)140 or higheror90 or higherHigh Blood Pressure (with other heart risk factors, according to some providers)130 or higheror80 or higherDangerously <span class=\"qt0\"><span class=\"qt1\">high blood pressure</span></span> - seek medical care right away180 or higherand120 or higher<p>For children and teens, the health care provider compares the blood pressure reading to what is normal for other kids who are the same age, height, and sex.</p>What are the different types of <span class=\"qt0\"><span class=\"qt1\">high blood pressure</span></span>?<p>There are two main types of <span class=\"qt0\"><span class=\"qt1\">high blood pressure</span></span>: primary and secondary <span class=\"qt0\"><span class=\"qt1\">high blood pressure</span></span>.:</p><ul><li>Primary, or essential, <span class=\"qt0\"><span class=\"qt1\">high blood pressure</span></span> is the most common type of <span class=\"qt0\"><span class=\"qt1\">high blood pressure</span></span>. For most people who get this kind of blood pressure, it develops over time as you get older.</li><li>Secondary <span class=\"qt0\"><span class=\"qt1\">high blood pressure</span></span> is caused by another medical condition or use of certain medicines. It usually gets better after you treat that condition or stop taking the medicines that are causing it.</li></ul>Why do I need to worry about <span class=\"qt0\"><span class=\"qt1\">high blood pressure</span></span>?<p>When your blood pressure stays high over time, it causes the heart to pump harder and work overtime, possibly leading to serious health problems such as heart attack, stroke, heart failure, and kidney failure.</p>What are the treatments for <span class=\"qt0\"><span class=\"qt1\">high blood pressure</span></span>?<p>Treatments for <span class=\"qt0\"><span class=\"qt1\">high blood pressure</span></span> include heart-healthy lifestyle changes and medicines.</p><p>You will work with your provider to come up with a treatment plan. It may include only the lifestyle changes. These changes, such as heart-healthy eating and exercise, can be very effective. But sometimes the changes do not control or lower your <span class=\"qt0\"><span class=\"qt1\">high blood pressure</span></span>. Then you may need to take medicine. There are different types of blood pressure medicines. Some people need to take more than one type.</p><p>If your <span class=\"qt0\"><span class=\"qt1\">high blood pressure</span></span> is caused by another medical condition or medicine, treating that condition or stopping the medicine may lower your blood pressure.</p><p>NIH: National Heart, Lung, and Blood Institute</p>\\n',\n",
              " '<h1>How to Prevent <span class=\"qt0\"><span class=\"qt1\">High Blood Pressure</span></span></h1> \\nhttps://medlineplus.gov/howtopreventhighbloodpressure.html\\n<p>More than 1 in 3 adults in the U.S. has <span class=\"qt0\"><span class=\"qt1\">high blood pressure, or hypertension</span></span>. Many of those people don\\'t know they have it, because there are usually no warning signs. This can be dangerous, because <span class=\"qt0\"><span class=\"qt1\">high blood pressure</span></span> can lead to life-threatening conditions like heart attack or stroke. The good news is that you can often prevent or treat <span class=\"qt0\"><span class=\"qt1\">high blood pressure</span></span>. Early diagnosis and heart-healthy lifestyle changes can keep <span class=\"qt0\"><span class=\"qt1\">high blood pressure</span></span> from seriously damaging your health.</p>What is blood pressure?<p>Blood pressure is the force of your blood pushing against the walls of your arteries. Each time your heart beats, it pumps blood into the arteries. Your <span class=\"qt0\"><span class=\"qt1\">blood pressure is highest</span></span> when your heart beats, pumping the blood. This is called systolic pressure. When your heart is at rest, between beats, your blood pressure falls. This is called diastolic pressure.</p><p>Your blood pressure reading uses these two numbers. Usually the systolic number comes before or above the diastolic number. For example, 120/80 means a systolic of 120 and a diastolic of 80.</p>How is <span class=\"qt0\"><span class=\"qt1\">high blood pressure</span></span> diagnosed?<p><span class=\"qt0\"><span class=\"qt1\">High blood pressure</span></span> usually has no symptoms. So the only way to find out if you have it is to get regular blood pressure checks from your health care provider. Your provider will use a gauge, a stethoscope or electronic sensor, and a blood pressure cuff. He or she will take two or more readings at separate appointments before making a diagnosis.</p>Blood Pressure CategorySystolic Blood PressureDiastolic Blood PressureNormalLess than 120andLess than 80High Blood Pressure (no other heart risk factors)140 or higheror90 or higherHigh Blood Pressure (with other heart risk factors, according to some providers)130 or higheror80 or higherDangerously <span class=\"qt0\"><span class=\"qt1\">high blood pressure</span></span> - seek medical care right away180 or higherand120 or higher<p>For children and teens, the health care provider compares the blood pressure reading to what is normal for other kids who are the same age, height, and gender.</p><p>People with diabetes or chronic kidney disease should keep their blood pressure below 130/80.</p>Who is at risk for <span class=\"qt0\"><span class=\"qt1\">high blood pressure</span></span>?<p>Anyone can develop <span class=\"qt0\"><span class=\"qt1\">high blood pressure</span></span>, but there are certain factors that can increase your risk:</p><ul><li>Age - Blood pressure tends to rise with age</li><li>Race/Ethnicity - <span class=\"qt0\"><span class=\"qt1\">High blood pressure</span></span> is more common in African American adults</li><li>Weight - People who are overweight or have obesity are more likely to develop <span class=\"qt0\"><span class=\"qt1\">high blood pressure</span></span></li><li>Sex - Before age 55, men are more likely than women to develop <span class=\"qt0\"><span class=\"qt1\">high blood pressure</span></span>. After age 55, women are more likely than men to develop it.</li><li>Lifestyle - Certain lifestyle habits can raise your risk for <span class=\"qt0\"><span class=\"qt1\">high blood pressure</span></span>, such as eating too much sodium (salt) or not enough potassium, lack of exercise, drinking too much alcohol, and smoking.</li><li>Family history - A family history of <span class=\"qt0\"><span class=\"qt1\">high blood pressure</span></span> raises the risk of developing <span class=\"qt0\"><span class=\"qt1\">high blood pressure</span></span></li></ul>How can I prevent <span class=\"qt0\"><span class=\"qt1\">high blood pressure</span></span>?<p>You can help prevent <span class=\"qt0\"><span class=\"qt1\">high blood pressure</span></span> by having a healthy lifestyle. This means:</p><ul><li>Eating a healthy diet. To help manage your blood pressure, you should limit the amount of sodium (salt) that you eat and increase the amount of potassium in your diet. It is also important to eat foods that are lower in fat, as well as plenty of fruits, vegetables, and whole grains. The DASH eating plan is an example of an eating plan that can help you to lower your blood pressure.</li><li>Getting regular exercise. Exercise can help you maintain a healthy weight and lower your blood pressure. You should try to get moderate-intensity aerobic exercise at least 2 and a half hours per week, or vigorous-intensity aerobic exercise for 1 hour and 15 minutes per week. Aerobic exercise, such as brisk walking, is any exercise in which your heart beats harder and you use more oxygen than usual.</li><li>Being at a healthy weight. Being overweight or having obesity increases your risk for <span class=\"qt0\"><span class=\"qt1\">high blood pressure</span></span>. Maintaining a healthy weight can help you control <span class=\"qt0\"><span class=\"qt1\">high blood pressure</span></span> and reduce your risk for other health problems.</li><li>Limiting alcohol. Drinking too much alcohol can raise your blood pressure. It also adds extra calories, which may cause weight gain. Men should have no more than two drinks per day, and women only one.</li><li>Not smoking. Cigarette smoking raises your blood pressure and puts you at higher risk for heart attack and stroke. If you do not smoke, do not start. If you do smoke, talk to your health care provider for help in finding the best way for you to quit.</li><li>Managing stress. Learning how to relax and manage stress can improve your emotional and physical health and lower <span class=\"qt0\"><span class=\"qt1\">high blood pressure</span></span>. Stress management techniques include exercising, listening to music, focusing on something calm or peaceful, and meditating.</li></ul><p>If you already have <span class=\"qt0\"><span class=\"qt1\">high blood pressure</span></span>, it is important to prevent it from getting worse or causing complications. You should get regular medical care and follow your prescribed treatment plan. Your plan will include healthy lifestyle habit recommendations and possibly medicines.</p><p>NIH: National Heart, Lung, and Blood Institute</p>\\n',\n",
              " '<h1>Blood Pressure Medicines</h1> \\nhttps://medlineplus.gov/bloodpressuremedicines.html\\nWhat is <span class=\"qt0\"><span class=\"qt1\">high blood pressure</span></span>?<p><span class=\"qt0\"><span class=\"qt1\">High blood pressure</span></span>, also called <span class=\"qt0\"><span class=\"qt1\">hypertension</span></span>, is when blood puts too much pressure against the walls of your arteries. About 1 in 3 adults have <span class=\"qt0\"><span class=\"qt1\">high blood pressure</span></span>, usually with no symptoms. But it can cause serious problems such as stroke, heart failure, heart attack, and kidney disease.</p>What lifestyle changes can help lower <span class=\"qt0\"><span class=\"qt1\">high blood pressure</span></span>?<p>Healthy lifestyle changes can help reduce <span class=\"qt0\"><span class=\"qt1\">high blood pressure</span></span>:</p><ul><li>Losing weight</li><li>Being physically active</li><li>Managing stress</li><li>Reducing sodium in your diet</li><li>Avoiding alcohol, tobacco, and illegal drugs</li><li>Getting enough sleep</li></ul>What if lifestyle changes alone cannot lower blood pressure?<p>Sometimes lifestyle changes alone cannot control or lower your <span class=\"qt0\"><span class=\"qt1\">high blood pressure</span></span>. In that case, your health care provider may prescribe blood pressure medicines.</p>How do blood pressure medicines work?<p>Blood pressure medicines work in different ways to lower blood pressure:</p><ul><li>Angiotensin-converting enzyme (ACE) inhibitors and angiotensin II receptor blockers (ARBs) keep your blood vessels from narrowing as much</li><li>Calcium channel blockers prevent calcium from entering the muscle cells of your heart and blood vessels. This allows the blood vessels to relax.</li><li>Diuretics remove extra water and sodium (salt) from your body. This lowers the amount of fluid in your blood. Diuretics are often used with other <span class=\"qt0\"><span class=\"qt1\">high blood pressure</span></span> medicines, sometimes in one combined pill.</li><li>Beta blockers help your heart beat slower and with less force. This means that your heart pumps less blood through your blood vessels. Beta blockers are typically used only as a backup option or if you also have certain other conditions.</li></ul><p>Often, two or more medicines work better than one. While taking the medicines, it is still important to keep up with your healthy lifestyle changes.</p><p>NIH: National Heart, Lung, and Blood Institute</p>\\n',\n",
              " '<h1><span class=\"qt0\"><span class=\"qt1\"><span class=\"qt2\">Cancer</span></span></span></h1> \\nhttps://medlineplus.gov/cancer.html\\n<p><span class=\"qt0\"><span class=\"qt1\"><span class=\"qt2\">Cancer</span></span></span> begins in your cells, which are the building blocks of your body.   Normally, your body forms new cells as you need them, replacing old cells that die. Sometimes this process goes wrong. New cells grow even when you don\\'t need them, and old cells don\\'t die when they should. These extra cells can form a mass called a <span class=\"qt0\"><span class=\"qt1\"><span class=\"qt2\">tumor. Tumors</span></span></span> can be benign or malignant. Benign <span class=\"qt0\"><span class=\"qt1\"><span class=\"qt2\">tumors</span></span></span> aren\\'t <span class=\"qt0\"><span class=\"qt1\"><span class=\"qt2\">cancer</span></span></span> while malignant ones are. Cells from malignant <span class=\"qt0\"><span class=\"qt1\"><span class=\"qt2\">tumors</span></span></span> can invade nearby tissues. They can also break away and spread to other parts of the body. </p><p><span class=\"qt0\"><span class=\"qt1\"><span class=\"qt2\">Cancer</span></span></span> is not just one disease but many diseases. There are more than 100 different types of <span class=\"qt0\"><span class=\"qt1\"><span class=\"qt2\">cancer</span></span></span>. Most <span class=\"qt0\"><span class=\"qt1\"><span class=\"qt2\">cancers</span></span></span> are named for where they start. For example, lung <span class=\"qt0\"><span class=\"qt1\"><span class=\"qt2\">cancer</span></span></span> starts in the lung, and breast <span class=\"qt0\"><span class=\"qt1\"><span class=\"qt2\">cancer</span></span></span> starts in the breast. The spread of <span class=\"qt0\"><span class=\"qt1\"><span class=\"qt2\">cancer</span></span></span> from one part of the body to another is called metastasis. Symptoms and treatment depend on the <span class=\"qt0\"><span class=\"qt1\"><span class=\"qt2\">cancer</span></span></span> type and how advanced it is. Most treatment plans may include surgery, radiation and/or chemotherapy. Some may involve hormone therapy, immunotherapy or other types of biologic therapy, or stem cell transplantation. </p><p>NIH: National <span class=\"qt0\"><span class=\"qt1\"><span class=\"qt2\">Cancer</span></span></span> Institute</p>\\n']"
            ]
          },
          "metadata": {},
          "execution_count": 58
        }
      ]
    },
    {
      "cell_type": "code",
      "source": [
        "with open('true_recs_2.json', 'w') as f:\n",
        "  json.dump(true_recs, f)"
      ],
      "metadata": {
        "id": "4AIRo86VRdkG"
      },
      "execution_count": null,
      "outputs": []
    },
    {
      "cell_type": "markdown",
      "source": [
        "Join all true recs (it was used for research purposes)"
      ],
      "metadata": {
        "id": "HZwNU2O5plD5"
      }
    },
    {
      "cell_type": "code",
      "source": [
        "with open('true_recs.json', 'r') as f:\n",
        "  true_1 = json.load(f)\n",
        "\n",
        "with open('true_recs_2.json', 'r') as f:\n",
        "  true_2 = json.load(f)"
      ],
      "metadata": {
        "id": "kkKJjZrrpfIN"
      },
      "execution_count": null,
      "outputs": []
    },
    {
      "cell_type": "code",
      "source": [
        "all_true = {}\n",
        "true_1_clean = {}\n",
        "true_2_clean = {}\n",
        "\n",
        "for key in true_1.keys():\n",
        "  all_true[key] = true_1[key]\n",
        "  all_true[key].extend(true_2[key])\n",
        "  all_true[key] = list(set(all_true[key]))\n",
        "\n",
        "  true_1_clean[key] = list(set(true_1[key]))\n",
        "  true_2_clean[key] = list(set(true_2[key]))"
      ],
      "metadata": {
        "id": "xYbuOdD2pweb"
      },
      "execution_count": null,
      "outputs": []
    },
    {
      "cell_type": "code",
      "source": [
        "for i in all_true.keys():\n",
        "  if len(all_true[i]) == 0:\n",
        "    print(i)"
      ],
      "metadata": {
        "colab": {
          "base_uri": "https://localhost:8080/"
        },
        "id": "11pn8a3nt5vc",
        "outputId": "635e4fbc-6036-493b-8c3a-ab11e200f358"
      },
      "execution_count": null,
      "outputs": [
        {
          "output_type": "stream",
          "name": "stdout",
          "text": [
            "67\n"
          ]
        }
      ]
    },
    {
      "cell_type": "code",
      "source": [
        "with open('true_recs_clean.json', 'w') as f:\n",
        "  json.dump(true_1_clean, f)\n",
        "\n",
        "with open('true_recs_2_clean.json', 'w') as f:\n",
        "  json.dump(true_2_clean, f)\n",
        "\n",
        "with open('true_recs_all.json', 'w') as f:\n",
        "  json.dump(all_true, f)"
      ],
      "metadata": {
        "id": "j3iP5bF4qpr1"
      },
      "execution_count": null,
      "outputs": []
    },
    {
      "cell_type": "markdown",
      "source": [
        "3 ver: bert + umls"
      ],
      "metadata": {
        "id": "nISoERqLO5YN"
      }
    },
    {
      "cell_type": "code",
      "source": [
        "with open('texts_recs_umls_m3_2_clean_reranked.json', 'r') as f:\n",
        "  data = json.load(f)"
      ],
      "metadata": {
        "id": "byNmeMcOO4dr"
      },
      "execution_count": null,
      "outputs": []
    },
    {
      "cell_type": "code",
      "source": [
        "with open('annot_results_3.json', 'r') as f:\n",
        "  results = json.load(f)"
      ],
      "metadata": {
        "id": "PgRuriIsPGV0"
      },
      "execution_count": null,
      "outputs": []
    },
    {
      "cell_type": "code",
      "source": [
        "res_sorted = sorted(results.items(), key=lambda x: x[0])\n",
        "res_sorted[0]"
      ],
      "metadata": {
        "colab": {
          "base_uri": "https://localhost:8080/"
        },
        "id": "ux7VY1eEPH9g",
        "outputId": "30a52e7e-71af-42d1-9644-9adb520adc9d"
      },
      "execution_count": null,
      "outputs": [
        {
          "output_type": "execute_result",
          "data": {
            "text/plain": [
              "('9457', ['3', '6', '8', '9'])"
            ]
          },
          "metadata": {},
          "execution_count": 26
        }
      ]
    },
    {
      "cell_type": "code",
      "source": [
        "true_recs = {}\n",
        "\n",
        "for i in range(len(res_sorted)):\n",
        "  text_recs = []\n",
        "  for j in res_sorted[i][1]:\n",
        "    idx = int(j) - 1\n",
        "    try:\n",
        "      text_recs.append(data[str(i+1)][idx])\n",
        "    except:      \n",
        "      continue\n",
        "  \n",
        "  true_recs[str(i+1)] = text_recs"
      ],
      "metadata": {
        "id": "NGXQUfvpPIFZ"
      },
      "execution_count": null,
      "outputs": []
    },
    {
      "cell_type": "code",
      "source": [
        "true_recs['1']"
      ],
      "metadata": {
        "colab": {
          "base_uri": "https://localhost:8080/"
        },
        "id": "7vinA1GrPrQw",
        "outputId": "19784581-98cf-4507-f3ae-ccf341d155d8"
      },
      "execution_count": null,
      "outputs": [
        {
          "output_type": "execute_result",
          "data": {
            "text/plain": [
              "['<h1><span class=\"qt0\">Chronic</span> <span class=\"qt1\">Pain</span></h1> \\nhttps://medlineplus.gov/chronicpain.html\\n<p><span class=\"qt1\">Pain</span> is a signal in your nervous system that something may be wrong.  It is an unpleasant feeling, such as a prick, tingle, sting, burn, or <span class=\"qt1\">ache. Pain</span> may be sharp or dull. You may feel <span class=\"qt1\">pain</span> in one area of your body, or all over.  There are two types: acute <span class=\"qt1\">pain</span> and <span class=\"qt0\">chronic</span> <span class=\"qt1\">pain</span>. Acute <span class=\"qt1\">pain</span> lets you know that you may be injured or a have problem you need to take care of. <span class=\"qt0\">Chronic</span> <span class=\"qt1\">pain</span> is different.  The <span class=\"qt1\">pain</span> may last for weeks, months, or even years. The original cause may have been an injury or infection. There may be an ongoing cause of <span class=\"qt1\">pain</span>, such as arthritis or cancer. In some cases there is no clear cause. Environmental and psychological factors can make <span class=\"qt0\">chronic</span> <span class=\"qt1\">pain</span> worse.</p><p>Many older adults have <span class=\"qt0\">chronic</span> <span class=\"qt1\">pain</span>. Women also report having more <span class=\"qt0\">chronic</span> <span class=\"qt1\">pain</span> than men, and they are at a greater risk for many <span class=\"qt1\">pain</span> conditions. Some people have two or more <span class=\"qt0\">chronic</span> <span class=\"qt1\">pain</span> conditions.</p><p><span class=\"qt0\">Chronic</span> <span class=\"qt1\">pain</span> is not always curable, but treatments can help. There are drug treatments, including <span class=\"qt1\">pain</span> relievers. There are also non-drug treatments, such as acupuncture, physical therapy, and sometimes surgery.</p><p>NIH: National Institute of Neurological Disorders and Stroke</p>\\n',\n",
              " '<h1><span class=\"qt0\"><span class=\"qt1\"><span class=\"qt2\">Cancer</span></span></span></h1> \\nhttps://medlineplus.gov/cancer.html\\n<p><span class=\"qt0\"><span class=\"qt1\"><span class=\"qt2\">Cancer</span></span></span> begins in your cells, which are the building blocks of your body.   Normally, your body forms new cells as you need them, replacing old cells that die. Sometimes this process goes wrong. New cells grow even when you don\\'t need them, and old cells don\\'t die when they should. These extra cells can form a mass called a <span class=\"qt0\"><span class=\"qt1\"><span class=\"qt2\">tumor. Tumors</span></span></span> can be benign or malignant. Benign <span class=\"qt0\"><span class=\"qt1\"><span class=\"qt2\">tumors</span></span></span> aren\\'t <span class=\"qt0\"><span class=\"qt1\"><span class=\"qt2\">cancer</span></span></span> while malignant ones are. Cells from malignant <span class=\"qt0\"><span class=\"qt1\"><span class=\"qt2\">tumors</span></span></span> can invade nearby tissues. They can also break away and spread to other parts of the body. </p><p><span class=\"qt0\"><span class=\"qt1\"><span class=\"qt2\">Cancer</span></span></span> is not just one disease but many diseases. There are more than 100 different types of <span class=\"qt0\"><span class=\"qt1\"><span class=\"qt2\">cancer</span></span></span>. Most <span class=\"qt0\"><span class=\"qt1\"><span class=\"qt2\">cancers</span></span></span> are named for where they start. For example, lung <span class=\"qt0\"><span class=\"qt1\"><span class=\"qt2\">cancer</span></span></span> starts in the lung, and breast <span class=\"qt0\"><span class=\"qt1\"><span class=\"qt2\">cancer</span></span></span> starts in the breast. The spread of <span class=\"qt0\"><span class=\"qt1\"><span class=\"qt2\">cancer</span></span></span> from one part of the body to another is called metastasis. Symptoms and treatment depend on the <span class=\"qt0\"><span class=\"qt1\"><span class=\"qt2\">cancer</span></span></span> type and how advanced it is. Most treatment plans may include surgery, radiation and/or chemotherapy. Some may involve hormone therapy, immunotherapy or other types of biologic therapy, or stem cell transplantation. </p><p>NIH: National <span class=\"qt0\"><span class=\"qt1\"><span class=\"qt2\">Cancer</span></span></span> Institute</p>\\n',\n",
              " '<h1>How to Prevent <span class=\"qt0\"><span class=\"qt1\">High Blood Pressure</span></span></h1> \\nhttps://medlineplus.gov/howtopreventhighbloodpressure.html\\n<p>More than 1 in 3 adults in the U.S. has <span class=\"qt0\"><span class=\"qt1\">high blood pressure, or hypertension</span></span>. Many of those people don\\'t know they have it, because there are usually no warning signs. This can be dangerous, because <span class=\"qt0\"><span class=\"qt1\">high blood pressure</span></span> can lead to life-threatening conditions like heart attack or stroke. The good news is that you can often prevent or treat <span class=\"qt0\"><span class=\"qt1\">high blood pressure</span></span>. Early diagnosis and heart-healthy lifestyle changes can keep <span class=\"qt0\"><span class=\"qt1\">high blood pressure</span></span> from seriously damaging your health.</p>What is blood pressure?<p>Blood pressure is the force of your blood pushing against the walls of your arteries. Each time your heart beats, it pumps blood into the arteries. Your <span class=\"qt0\"><span class=\"qt1\">blood pressure is highest</span></span> when your heart beats, pumping the blood. This is called systolic pressure. When your heart is at rest, between beats, your blood pressure falls. This is called diastolic pressure.</p><p>Your blood pressure reading uses these two numbers. Usually the systolic number comes before or above the diastolic number. For example, 120/80 means a systolic of 120 and a diastolic of 80.</p>How is <span class=\"qt0\"><span class=\"qt1\">high blood pressure</span></span> diagnosed?<p><span class=\"qt0\"><span class=\"qt1\">High blood pressure</span></span> usually has no symptoms. So the only way to find out if you have it is to get regular blood pressure checks from your health care provider. Your provider will use a gauge, a stethoscope or electronic sensor, and a blood pressure cuff. He or she will take two or more readings at separate appointments before making a diagnosis.</p>Blood Pressure CategorySystolic Blood PressureDiastolic Blood PressureNormalLess than 120andLess than 80High Blood Pressure (no other heart risk factors)140 or higheror90 or higherHigh Blood Pressure (with other heart risk factors, according to some providers)130 or higheror80 or higherDangerously <span class=\"qt0\"><span class=\"qt1\">high blood pressure</span></span> - seek medical care right away180 or higherand120 or higher<p>For children and teens, the health care provider compares the blood pressure reading to what is normal for other kids who are the same age, height, and gender.</p><p>People with diabetes or chronic kidney disease should keep their blood pressure below 130/80.</p>Who is at risk for <span class=\"qt0\"><span class=\"qt1\">high blood pressure</span></span>?<p>Anyone can develop <span class=\"qt0\"><span class=\"qt1\">high blood pressure</span></span>, but there are certain factors that can increase your risk:</p><ul><li>Age - Blood pressure tends to rise with age</li><li>Race/Ethnicity - <span class=\"qt0\"><span class=\"qt1\">High blood pressure</span></span> is more common in African American adults</li><li>Weight - People who are overweight or have obesity are more likely to develop <span class=\"qt0\"><span class=\"qt1\">high blood pressure</span></span></li><li>Sex - Before age 55, men are more likely than women to develop <span class=\"qt0\"><span class=\"qt1\">high blood pressure</span></span>. After age 55, women are more likely than men to develop it.</li><li>Lifestyle - Certain lifestyle habits can raise your risk for <span class=\"qt0\"><span class=\"qt1\">high blood pressure</span></span>, such as eating too much sodium (salt) or not enough potassium, lack of exercise, drinking too much alcohol, and smoking.</li><li>Family history - A family history of <span class=\"qt0\"><span class=\"qt1\">high blood pressure</span></span> raises the risk of developing <span class=\"qt0\"><span class=\"qt1\">high blood pressure</span></span></li></ul>How can I prevent <span class=\"qt0\"><span class=\"qt1\">high blood pressure</span></span>?<p>You can help prevent <span class=\"qt0\"><span class=\"qt1\">high blood pressure</span></span> by having a healthy lifestyle. This means:</p><ul><li>Eating a healthy diet. To help manage your blood pressure, you should limit the amount of sodium (salt) that you eat and increase the amount of potassium in your diet. It is also important to eat foods that are lower in fat, as well as plenty of fruits, vegetables, and whole grains. The DASH eating plan is an example of an eating plan that can help you to lower your blood pressure.</li><li>Getting regular exercise. Exercise can help you maintain a healthy weight and lower your blood pressure. You should try to get moderate-intensity aerobic exercise at least 2 and a half hours per week, or vigorous-intensity aerobic exercise for 1 hour and 15 minutes per week. Aerobic exercise, such as brisk walking, is any exercise in which your heart beats harder and you use more oxygen than usual.</li><li>Being at a healthy weight. Being overweight or having obesity increases your risk for <span class=\"qt0\"><span class=\"qt1\">high blood pressure</span></span>. Maintaining a healthy weight can help you control <span class=\"qt0\"><span class=\"qt1\">high blood pressure</span></span> and reduce your risk for other health problems.</li><li>Limiting alcohol. Drinking too much alcohol can raise your blood pressure. It also adds extra calories, which may cause weight gain. Men should have no more than two drinks per day, and women only one.</li><li>Not smoking. Cigarette smoking raises your blood pressure and puts you at higher risk for heart attack and stroke. If you do not smoke, do not start. If you do smoke, talk to your health care provider for help in finding the best way for you to quit.</li><li>Managing stress. Learning how to relax and manage stress can improve your emotional and physical health and lower <span class=\"qt0\"><span class=\"qt1\">high blood pressure</span></span>. Stress management techniques include exercising, listening to music, focusing on something calm or peaceful, and meditating.</li></ul><p>If you already have <span class=\"qt0\"><span class=\"qt1\">high blood pressure</span></span>, it is important to prevent it from getting worse or causing complications. You should get regular medical care and follow your prescribed treatment plan. Your plan will include healthy lifestyle habit recommendations and possibly medicines.</p><p>NIH: National Heart, Lung, and Blood Institute</p>\\n',\n",
              " '<h1>Non-Drug <span class=\"qt1\">Pain</span> Management</h1> \\nhttps://medlineplus.gov/nondrugpainmanagement.html\\nWhat is <span class=\"qt1\">pain</span>?<p><span class=\"qt1\">Pain</span> is a signal in your nervous system that something may be wrong. It is an unpleasant feeling, such as a prick, tingle, sting, burn, or <span class=\"qt1\">ache. Pain</span> may be sharp or dull. It may come and go, or it may be constant. You may feel <span class=\"qt1\">pain</span> in one area of your body, such as your back, abdomen, chest, pelvis, or you may feel <span class=\"qt1\">pain</span> all over.</p><p>There are two types of <span class=\"qt1\">pain</span>:</p><ul><li>Acute <span class=\"qt1\">pain</span> usually comes on suddenly, because of a disease, injury, or inflammation. It can often be diagnosed and treated. It usually goes away, though sometimes it can turn into <span class=\"qt0\">chronic</span> <span class=\"qt1\">pain</span>.</li><li><span class=\"qt0\">Chronic</span> <span class=\"qt1\">pain</span> lasts for a long time, and can cause severe problems</li></ul>What are <span class=\"qt1\">pain</span> relievers?<p><span class=\"qt1\">Pain</span> relievers are medicines that reduce or relieve <span class=\"qt1\">pain</span>. There are many different <span class=\"qt1\">pain</span> medicines, and each one has advantages and risks. Some are over-the-counter (OTC) medicines. Others are stronger medicines, which are available by prescription. The most powerful prescription <span class=\"qt1\">pain</span> relievers are opioids. They are very effective, but people who take them are at risk of addiction and overdose.</p><p>Because of the side effects and risks of <span class=\"qt1\">pain</span> relievers, you may want to try non-drug treatments first. And if you do need to take medicines, also doing some non-drug treatments may allow you to take a lower dose.</p>What are some non-drug treatments for <span class=\"qt1\">pain</span>?<p>There are many non-drug treatments that can help with <span class=\"qt1\">pain</span>. It is important to check with your health care provider before trying any of them:</p><ul><li>Acupuncture involves stimulating acupuncture points. These are specific points on your body. There are different acupuncture methods. The most common one involves inserting thin needles through the skin. Others include using pressure, electrical stimulation, and heat. Acupuncture is based on the belief that qi (vital energy) flows through the body along paths, called meridians. Practitioners believe that stimulating the acupuncture points can rebalance the qi. Research suggests that acupuncture can help manage certain <span class=\"qt1\">pain</span> conditions.</li><li>Biofeedback techniques use electronic devices to measure body functions such as breathing and heart rate. This teaches you to be more aware of your body functions so you can learn to control them. For example, a biofeedback device may show you measurements of your muscle tension. By watching how these measurements change, you can become more aware of when your muscles are tense and learn to relax them. Biofeedback may help to control <span class=\"qt1\">pain</span>, including <span class=\"qt0\">chronic</span> headaches and back <span class=\"qt1\">pain</span>.</li><li>Electrical stimulation involves using a device to send a gentle electric current to your nerves or muscles. This can help treat <span class=\"qt1\">pain</span> by interrupting or blocking the <span class=\"qt1\">pain</span> signals. Types include</li><ul><li>Transcutaneous electrical stimulation (TENS)</li><li>Implanted electric nerve stimulation</li><li>Deep brain or spinal cord stimulation</li></ul><li>Massage therapy is a treatment in which the soft tissues of the body are kneaded, rubbed, tapped, and stroked. Among other benefits, it may help people relax, and relieve stress and <span class=\"qt1\">pain</span>.</li><li>Meditation is a mind-body practice in which you focus your attention on something, such as an object, word, phrase, or breathing. This helps you to minimize distracting or stressful thoughts or feelings.</li><li>Physical therapy uses techniques such as heat, cold, exercise, massage, and manipulation. It can help to control <span class=\"qt1\">pain</span>, as well as condition muscles and restore strength.</li><li>Psychotherapy (talk therapy) uses methods such as discussion, listening, and counseling to treat mental and behavioral disorders. It can also help people who have <span class=\"qt1\">pain</span>, especially <span class=\"qt0\">chronic</span> <span class=\"qt1\">pain</span>, by</li><ul><li>Teaching them coping skills, to be able to better deal with the stress that <span class=\"qt1\">pain</span> can cause</li><li>Addressing negative thoughts and emotions that can make <span class=\"qt1\">pain</span> worse</li><li>Providing them with support</li></ul><li>Relaxation therapy can help reduce muscle tension and stress, lower blood pressure, and control <span class=\"qt1\">pain</span>. It may involve tensing and relaxing muscles throughout the body. It may be used with guided imagery (focusing the mind on positive images) and meditation.</li><li>Surgery can sometimes be necessary to treat severe <span class=\"qt1\">pain</span>, especially when it is caused by back problems or serious musculoskeletal injuries. There are always risks to getting surgery, and it does not always work to treat <span class=\"qt1\">pain</span>. So it is important to go through all of the risks and benefits with your health care provider.</li></ul>\\n']"
            ]
          },
          "metadata": {},
          "execution_count": 35
        }
      ]
    },
    {
      "cell_type": "code",
      "source": [
        "with open('true_recs_3.json', 'w') as f:\n",
        "  json.dump(true_recs, f)"
      ],
      "metadata": {
        "id": "HyOkto5VRSv_"
      },
      "execution_count": null,
      "outputs": []
    },
    {
      "cell_type": "code",
      "source": [
        "true_3_clean = {}\n",
        "\n",
        "for key in true_recs.keys():\n",
        "\n",
        "  true_3_clean[key] = list(set(true_recs[key]))\n",
        "  if len(true_recs[key]) != len(true_3_clean[key]):\n",
        "    print(len(true_recs[key]), len(true_3_clean[key]))"
      ],
      "metadata": {
        "id": "eefzw2HiPk-D"
      },
      "execution_count": null,
      "outputs": []
    },
    {
      "cell_type": "markdown",
      "source": [
        "проверка на повторы, повторов нет"
      ],
      "metadata": {
        "id": "sQEbjJN-Rsz4"
      }
    },
    {
      "cell_type": "markdown",
      "source": [
        "# model recs preprocess (no repetitions)"
      ],
      "metadata": {
        "id": "94_u1t3ALGsQ"
      }
    },
    {
      "cell_type": "code",
      "source": [
        "import os\n",
        "models = os.listdir(\"models_recs_2ver/\")\n",
        "models[:5]"
      ],
      "metadata": {
        "colab": {
          "base_uri": "https://localhost:8080/"
        },
        "id": "KtoJdrH0LL4e",
        "outputId": "da7d6c6a-4e1a-4990-d94e-b1078092a42c"
      },
      "execution_count": null,
      "outputs": [
        {
          "output_type": "execute_result",
          "data": {
            "text/plain": [
              "['texts_recs_m5_2_per3.json',\n",
              " 'texts_recs_m5_2_filtered_per3.json',\n",
              " 'texts_recs_m3_per3.json',\n",
              " 'texts_recs_m3_filtered_per3.json',\n",
              " 'texts_recs_m4_per3.json']"
            ]
          },
          "metadata": {},
          "execution_count": 132
        }
      ]
    },
    {
      "cell_type": "code",
      "source": [
        "def clean_results(model):\n",
        "  new_results = {}\n",
        "\n",
        "  with open(f'models_recs_2ver/{model}', 'r') as f:\n",
        "    model_preds = json.load(f)\n",
        "  \n",
        "  for key in model_preds.keys():\n",
        "    new_list = []\n",
        "    for paper in model_preds[key]:\n",
        "      if paper not in new_list:\n",
        "        new_list.append(paper)\n",
        "    new_results[key] = new_list\n",
        "\n",
        "  return new_results "
      ],
      "metadata": {
        "id": "TZ2DCWkpLL8t"
      },
      "execution_count": null,
      "outputs": []
    },
    {
      "cell_type": "code",
      "source": [
        "for model in models:\n",
        "  new_model_data = clean_results(model)\n",
        "\n",
        "  with open(f'models_recs_2ver_clean/{model}', 'w') as f:\n",
        "    json.dump(new_model_data, f)"
      ],
      "metadata": {
        "id": "MO61quhcMPnb"
      },
      "execution_count": null,
      "outputs": []
    },
    {
      "cell_type": "markdown",
      "source": [
        "# models' ner additional preprocess"
      ],
      "metadata": {
        "id": "Znj2tcpWqzkx"
      }
    },
    {
      "cell_type": "code",
      "source": [
        "import os\n",
        "ner_res = os.listdir(\"ner_results_2ver/filtered\")\n",
        "ner_res[:5]"
      ],
      "metadata": {
        "colab": {
          "base_uri": "https://localhost:8080/"
        },
        "id": "oJPWVeuWrUIT",
        "outputId": "dee77fc7-b260-4589-ff35-7c28f6023e62"
      },
      "execution_count": null,
      "outputs": [
        {
          "output_type": "execute_result",
          "data": {
            "text/plain": [
              "['ner_m5_2.json',\n",
              " 'ner_m5_2_filtered.json',\n",
              " 'ner_m3.json',\n",
              " 'ner_m3_filtered.json',\n",
              " 'ner_m4.json']"
            ]
          },
          "metadata": {},
          "execution_count": 9
        }
      ]
    },
    {
      "cell_type": "code",
      "source": [
        "'the tumor'[4:]"
      ],
      "metadata": {
        "colab": {
          "base_uri": "https://localhost:8080/",
          "height": 35
        },
        "id": "DNKGy4tss4SE",
        "outputId": "a62624d8-a937-43f4-ae65-e7160ecbeadc"
      },
      "execution_count": null,
      "outputs": [
        {
          "output_type": "execute_result",
          "data": {
            "text/plain": [
              "'tumor'"
            ],
            "application/vnd.google.colaboratory.intrinsic+json": {
              "type": "string"
            }
          },
          "metadata": {},
          "execution_count": 14
        }
      ]
    },
    {
      "cell_type": "code",
      "source": [
        "for ner in ner_res:\n",
        "\n",
        "  clean_all_ner = {}\n",
        "  with open(f'ner_results_2ver/filtered/{ner}', 'r') as f:\n",
        "    all_ner = json.load(f)\n",
        "  \n",
        "  for key in all_ner.keys():\n",
        "    key_ner = []\n",
        "    for entity in all_ner[key]:\n",
        "      entity = re.sub(' / ', '/', entity.lower())\n",
        "      if entity.startswith('a '):\n",
        "        key_ner.append(entity[2:])\n",
        "      elif entity.startswith('the '):\n",
        "        key_ner.append(entity[4:])\n",
        "      else:\n",
        "        key_ner.append(entity)\n",
        "    clean_all_ner[key] = key_ner\n",
        "  \n",
        "  with open(f'ner_results_2ver/filtered_clean/{ner}', 'w') as f:\n",
        "    json.dump(clean_all_ner, f)"
      ],
      "metadata": {
        "id": "EzFbNmLGq4JF"
      },
      "execution_count": null,
      "outputs": []
    },
    {
      "cell_type": "code",
      "source": [
        "len(ner_res), len(os.listdir(\"ner_results_2ver/filtered_clean\"))"
      ],
      "metadata": {
        "colab": {
          "base_uri": "https://localhost:8080/"
        },
        "id": "wvJQ6k9Bq4UZ",
        "outputId": "00037b13-e050-44bb-e22d-19a4fbbf3e5f"
      },
      "execution_count": null,
      "outputs": [
        {
          "output_type": "execute_result",
          "data": {
            "text/plain": [
              "(30, 30)"
            ]
          },
          "metadata": {},
          "execution_count": 20
        }
      ]
    },
    {
      "cell_type": "markdown",
      "source": [
        "# umls and true ner preprocess"
      ],
      "metadata": {
        "id": "3WS_SAO6c4kP"
      }
    },
    {
      "cell_type": "code",
      "source": [
        "with open('terms_filtered_4.json', 'r') as f:\n",
        "  annot_data = json.load(f)"
      ],
      "metadata": {
        "id": "y86OfbhCc7lP"
      },
      "execution_count": null,
      "outputs": []
    },
    {
      "cell_type": "code",
      "source": [
        "for i in annot_data['1'][0]:\n",
        "  print(i['ngram'])"
      ],
      "metadata": {
        "colab": {
          "base_uri": "https://localhost:8080/"
        },
        "id": "4pG4ZB34c7oq",
        "outputId": "02d21066-f9c8-4f61-daf6-12874ca51956"
      },
      "execution_count": null,
      "outputs": [
        {
          "output_type": "stream",
          "name": "stdout",
          "text": [
            "anaplastic astrocytoma\n",
            "anaplastic astrocytoma\n",
            "hypertension\n",
            "tumor\n",
            "thigh numbness\n"
          ]
        }
      ]
    },
    {
      "cell_type": "code",
      "source": [
        "umls_terms = {}\n",
        "for i in annot_data.keys():\n",
        "  umls_terms[i] = list(set([re.sub(' / ', '/', j['ngram'].lower()) for j in annot_data[i][0]]))"
      ],
      "metadata": {
        "id": "DePoOTC4c7sh"
      },
      "execution_count": null,
      "outputs": []
    },
    {
      "cell_type": "code",
      "source": [
        "for key in umls_terms.keys():\n",
        "  if len(umls_terms[key]) != len(list(set(umls_terms[key]))):\n",
        "    print('repeat')"
      ],
      "metadata": {
        "id": "MVOUXSyxvl4c"
      },
      "execution_count": null,
      "outputs": []
    },
    {
      "cell_type": "code",
      "source": [
        "with open(f'umls_ngrams.json', 'w') as f:\n",
        "    json.dump(umls_terms, f)"
      ],
      "metadata": {
        "id": "E5_i1qp_vYSe"
      },
      "execution_count": null,
      "outputs": []
    },
    {
      "cell_type": "markdown",
      "source": [
        "True ner preprocess (done for all 4 versions)"
      ],
      "metadata": {
        "id": "Fp4E2B8IUvtv"
      }
    },
    {
      "cell_type": "code",
      "source": [
        "with open('true_ner_results_4.json', 'r') as f:\n",
        "  true_terms = json.load(f)"
      ],
      "metadata": {
        "id": "EqtV-qnmwsKb"
      },
      "execution_count": null,
      "outputs": []
    },
    {
      "cell_type": "code",
      "source": [
        "import re\n",
        "\n",
        "true_terms_clean = {}\n",
        "for key in true_terms.keys():\n",
        "  terms_clean = [re.sub(' / ', '/', term.lower()) for term in true_terms[key]]\n",
        "  true_terms_clean[key] = terms_clean"
      ],
      "metadata": {
        "id": "2WaZp492OmWP"
      },
      "execution_count": null,
      "outputs": []
    },
    {
      "cell_type": "code",
      "source": [
        "with open(f'true_ner_results_4_clean.json', 'w') as f:\n",
        "    json.dump(true_terms_clean, f)"
      ],
      "metadata": {
        "id": "_rXB_-lrSCsb"
      },
      "execution_count": null,
      "outputs": []
    },
    {
      "cell_type": "markdown",
      "source": [
        "# ner evaluation"
      ],
      "metadata": {
        "id": "Cm0FVIG_v8cb"
      }
    },
    {
      "cell_type": "code",
      "source": [
        "with open('true_ner_results_clean.json', 'r') as f:\n",
        "  true_terms = json.load(f)"
      ],
      "metadata": {
        "id": "OP6RTv3PSVkk"
      },
      "execution_count": null,
      "outputs": []
    },
    {
      "cell_type": "code",
      "source": [
        "true_terms_list = [true_terms[str(i)] for i in range(1,76)]\n",
        "true_terms_list[0]"
      ],
      "metadata": {
        "colab": {
          "base_uri": "https://localhost:8080/"
        },
        "id": "m_TvKHUbw5uQ",
        "outputId": "fc41ea71-80a0-406d-9787-53d3d66a56c7"
      },
      "execution_count": null,
      "outputs": [
        {
          "output_type": "execute_result",
          "data": {
            "text/plain": [
              "['tumor',\n",
              " 'unresectable',\n",
              " 'anaplastic astrocytoma',\n",
              " 'radiation',\n",
              " 't-l spine',\n",
              " 'temozolomide',\n",
              " 'field radiation',\n",
              " 'biopsied',\n",
              " 'spinal cord conus mass',\n",
              " 'rle weakness',\n",
              " 'right knee',\n",
              " 'difficulty walking',\n",
              " 'right anterior thigh numbness',\n",
              " 'lower extremity weakness',\n",
              " 'urinary retention',\n",
              " 'steroids',\n",
              " 'anaplastic astrocytoma of the spine',\n",
              " 'hypertension',\n",
              " 'chronic pain',\n",
              " 'foley catheter']"
            ]
          },
          "metadata": {},
          "execution_count": 143
        }
      ]
    },
    {
      "cell_type": "code",
      "source": [
        "with open('umls_ngrams.json', 'r') as f:\n",
        "  umls_terms = json.load(f)"
      ],
      "metadata": {
        "id": "oywNpXKmwImy"
      },
      "execution_count": null,
      "outputs": []
    },
    {
      "cell_type": "code",
      "source": [
        "umls_terms_list = [umls_terms[str(i)] for i in range(1,76)]\n",
        "umls_terms_list[0]"
      ],
      "metadata": {
        "colab": {
          "base_uri": "https://localhost:8080/"
        },
        "id": "qyAHpLQZEkN0",
        "outputId": "5475bbce-8fa3-49b9-ba24-9be64edf308b"
      },
      "execution_count": null,
      "outputs": [
        {
          "output_type": "execute_result",
          "data": {
            "text/plain": [
              "['anaplastic astrocytoma', 'tumor', 'hypertension', 'thigh numbness']"
            ]
          },
          "metadata": {},
          "execution_count": 145
        }
      ]
    },
    {
      "cell_type": "code",
      "source": [
        "import os\n",
        "ner_res = os.listdir(\"ner_results_2ver/filtered_clean\")"
      ],
      "metadata": {
        "id": "PH5sNaxSpvX3"
      },
      "execution_count": null,
      "outputs": []
    },
    {
      "cell_type": "code",
      "source": [
        "def evaluate(true_kws, predicted_kws):\n",
        "    \n",
        "    precisions = []\n",
        "    recalls = []\n",
        "    f1s = []\n",
        "    jaccards = []\n",
        "    \n",
        "    for i in range(len(true_kws)):\n",
        "        \n",
        "        true_kw = set(true_kws[i])\n",
        "        predicted_kw = set(predicted_kws[i])\n",
        "        \n",
        "        tp = len(true_kw & predicted_kw)\n",
        "        union = len(true_kw | predicted_kw)\n",
        "        fp = len(predicted_kw - true_kw)\n",
        "        fn = len(true_kw - predicted_kw)\n",
        "        \n",
        "        if (tp+fp) == 0:\n",
        "            prec = 0\n",
        "        else:\n",
        "            prec = tp / (tp + fp)\n",
        "        \n",
        "        if (tp+fn) == 0:\n",
        "            rec = 0\n",
        "        else:\n",
        "            rec = tp / (tp + fn)\n",
        "        if (prec+rec) == 0:\n",
        "            f1 = 0\n",
        "        else:\n",
        "            f1 = (2*(prec*rec))/(prec+rec)\n",
        "            \n",
        "        if union == 0:\n",
        "          jac == 0\n",
        "        else:\n",
        "          jac = tp / union\n",
        "        \n",
        "        precisions.append(prec)\n",
        "        recalls.append(rec)\n",
        "        f1s.append(f1)\n",
        "        jaccards.append(jac)\n",
        "    \n",
        "    mean_precision = round(np.mean(precisions), 2) if math.isnan(round(np.mean(precisions),2)) == False else float(0)\n",
        "    mean_recall = round(np.mean(recalls), 2) if math.isnan(round(np.mean(recalls), 2)) == False else float(0)\n",
        "    mean_f1 = round(np.mean(f1s), 2) if math.isnan(round(np.mean(f1s),2)) == False else float(0)\n",
        "    mean_jaccard = round(np.mean(jaccards), 2) if math.isnan(round(np.mean(jaccards),2)) == False else float(0)\n",
        "\n",
        "    return mean_precision, mean_recall, mean_f1, mean_jaccard"
      ],
      "metadata": {
        "id": "mJyZ32yqTd0I"
      },
      "execution_count": null,
      "outputs": []
    },
    {
      "cell_type": "code",
      "source": [
        "evaluate(true_terms_list, true_terms_list)"
      ],
      "metadata": {
        "colab": {
          "base_uri": "https://localhost:8080/"
        },
        "id": "KQTXINXxrDs-",
        "outputId": "d751db78-5094-4338-c7fa-10779e9fe2b2"
      },
      "execution_count": null,
      "outputs": [
        {
          "output_type": "execute_result",
          "data": {
            "text/plain": [
              "(1.0, 1.0, 1.0, 1.0)"
            ]
          },
          "metadata": {},
          "execution_count": 79
        }
      ]
    },
    {
      "cell_type": "markdown",
      "source": [
        "Оценка UMLS"
      ],
      "metadata": {
        "id": "79f34X3R3JNm"
      }
    },
    {
      "cell_type": "code",
      "source": [
        "evaluate(true_terms_list, umls_terms_list)"
      ],
      "metadata": {
        "colab": {
          "base_uri": "https://localhost:8080/"
        },
        "id": "kZvQFtVYzmjC",
        "outputId": "1e2f8e5b-d6c7-48cd-84e9-7c66c44401d9"
      },
      "execution_count": null,
      "outputs": [
        {
          "output_type": "execute_result",
          "data": {
            "text/plain": [
              "(0.55, 0.23, 0.31, 0.19)"
            ]
          },
          "metadata": {},
          "execution_count": 147
        }
      ]
    },
    {
      "cell_type": "markdown",
      "source": [
        "Оценка результатов моделей"
      ],
      "metadata": {
        "id": "XSVOUSa73Lmn"
      }
    },
    {
      "cell_type": "code",
      "source": [
        "def models_scores(models, true_data):\n",
        "\n",
        "  model_names = []\n",
        "  p_scores = []\n",
        "  r_scores = []\n",
        "  f_scores = []\n",
        "  j_scores = []\n",
        "\n",
        "  for model in models:\n",
        "  \n",
        "    model_names.append(model[4:-5])\n",
        "\n",
        "    with open(f'ner_results_2ver/filtered_clean/{model}', 'r') as f:\n",
        "      model_data = json.load(f)\n",
        "    \n",
        "    data_list = [model_data[str(i)] for i in range(1,76)]\n",
        "    #mean_len = np.mean([len(all_ner[str(i)]) for i in range(1,76)])\n",
        "    #print(mean_len)\n",
        "\n",
        "    mean_precision, mean_recall, mean_f1, mean_jaccard = evaluate(true_data, data_list)\n",
        "\n",
        "    p_scores.append(mean_precision)\n",
        "    r_scores.append(mean_recall)\n",
        "    f_scores.append(mean_f1)\n",
        "    j_scores.append(mean_jaccard)\n",
        "  \n",
        "  return model_names, p_scores, r_scores, f_scores, j_scores"
      ],
      "metadata": {
        "id": "sRKouXJ7Wj6c"
      },
      "execution_count": null,
      "outputs": []
    },
    {
      "cell_type": "code",
      "source": [
        "model_names, p_scores, r_scores, f_scores, j_scores = models_scores(ner_res, true_terms_list)"
      ],
      "metadata": {
        "id": "Y4C_NTB_zD_k"
      },
      "execution_count": null,
      "outputs": []
    },
    {
      "cell_type": "code",
      "source": [
        "import pandas as pd\n",
        "import math\n",
        "\n",
        "metric_names = ['mean_precision', 'mean_recall', 'mean_f1', 'mean_jaccard']\n",
        "\n",
        "ner_scores_df = pd.DataFrame()\n",
        "ner_scores_df['models'] = model_names\n",
        "ner_scores_df['precision'] = p_scores\n",
        "ner_scores_df['recall'] = r_scores\n",
        "ner_scores_df['f1_score'] = f_scores\n",
        "ner_scores_df['jaccard'] = j_scores"
      ],
      "metadata": {
        "id": "c4Lq_EXPTfdr"
      },
      "execution_count": null,
      "outputs": []
    },
    {
      "cell_type": "code",
      "source": [
        "ner_scores_df.head()"
      ],
      "metadata": {
        "colab": {
          "base_uri": "https://localhost:8080/",
          "height": 206
        },
        "id": "_2YhhAY2hILK",
        "outputId": "1bff105b-8546-4db3-cb13-00e86a048ac5"
      },
      "execution_count": null,
      "outputs": [
        {
          "output_type": "execute_result",
          "data": {
            "text/plain": [
              "          models  precision  recall  f1_score  jaccard\n",
              "0           m5_2       0.11    0.34      0.17     0.09\n",
              "1  m5_2_filtered       0.11    0.34      0.17     0.09\n",
              "2             m3       0.28    0.06      0.09     0.05\n",
              "3    m3_filtered       0.28    0.06      0.09     0.05\n",
              "4             m4       0.45    0.05      0.09     0.05"
            ],
            "text/html": [
              "\n",
              "  <div id=\"df-457e8e93-1d37-4f6c-ac26-3e5fcb5c7a94\">\n",
              "    <div class=\"colab-df-container\">\n",
              "      <div>\n",
              "<style scoped>\n",
              "    .dataframe tbody tr th:only-of-type {\n",
              "        vertical-align: middle;\n",
              "    }\n",
              "\n",
              "    .dataframe tbody tr th {\n",
              "        vertical-align: top;\n",
              "    }\n",
              "\n",
              "    .dataframe thead th {\n",
              "        text-align: right;\n",
              "    }\n",
              "</style>\n",
              "<table border=\"1\" class=\"dataframe\">\n",
              "  <thead>\n",
              "    <tr style=\"text-align: right;\">\n",
              "      <th></th>\n",
              "      <th>models</th>\n",
              "      <th>precision</th>\n",
              "      <th>recall</th>\n",
              "      <th>f1_score</th>\n",
              "      <th>jaccard</th>\n",
              "    </tr>\n",
              "  </thead>\n",
              "  <tbody>\n",
              "    <tr>\n",
              "      <th>0</th>\n",
              "      <td>m5_2</td>\n",
              "      <td>0.11</td>\n",
              "      <td>0.34</td>\n",
              "      <td>0.17</td>\n",
              "      <td>0.09</td>\n",
              "    </tr>\n",
              "    <tr>\n",
              "      <th>1</th>\n",
              "      <td>m5_2_filtered</td>\n",
              "      <td>0.11</td>\n",
              "      <td>0.34</td>\n",
              "      <td>0.17</td>\n",
              "      <td>0.09</td>\n",
              "    </tr>\n",
              "    <tr>\n",
              "      <th>2</th>\n",
              "      <td>m3</td>\n",
              "      <td>0.28</td>\n",
              "      <td>0.06</td>\n",
              "      <td>0.09</td>\n",
              "      <td>0.05</td>\n",
              "    </tr>\n",
              "    <tr>\n",
              "      <th>3</th>\n",
              "      <td>m3_filtered</td>\n",
              "      <td>0.28</td>\n",
              "      <td>0.06</td>\n",
              "      <td>0.09</td>\n",
              "      <td>0.05</td>\n",
              "    </tr>\n",
              "    <tr>\n",
              "      <th>4</th>\n",
              "      <td>m4</td>\n",
              "      <td>0.45</td>\n",
              "      <td>0.05</td>\n",
              "      <td>0.09</td>\n",
              "      <td>0.05</td>\n",
              "    </tr>\n",
              "  </tbody>\n",
              "</table>\n",
              "</div>\n",
              "      <button class=\"colab-df-convert\" onclick=\"convertToInteractive('df-457e8e93-1d37-4f6c-ac26-3e5fcb5c7a94')\"\n",
              "              title=\"Convert this dataframe to an interactive table.\"\n",
              "              style=\"display:none;\">\n",
              "        \n",
              "  <svg xmlns=\"http://www.w3.org/2000/svg\" height=\"24px\"viewBox=\"0 0 24 24\"\n",
              "       width=\"24px\">\n",
              "    <path d=\"M0 0h24v24H0V0z\" fill=\"none\"/>\n",
              "    <path d=\"M18.56 5.44l.94 2.06.94-2.06 2.06-.94-2.06-.94-.94-2.06-.94 2.06-2.06.94zm-11 1L8.5 8.5l.94-2.06 2.06-.94-2.06-.94L8.5 2.5l-.94 2.06-2.06.94zm10 10l.94 2.06.94-2.06 2.06-.94-2.06-.94-.94-2.06-.94 2.06-2.06.94z\"/><path d=\"M17.41 7.96l-1.37-1.37c-.4-.4-.92-.59-1.43-.59-.52 0-1.04.2-1.43.59L10.3 9.45l-7.72 7.72c-.78.78-.78 2.05 0 2.83L4 21.41c.39.39.9.59 1.41.59.51 0 1.02-.2 1.41-.59l7.78-7.78 2.81-2.81c.8-.78.8-2.07 0-2.86zM5.41 20L4 18.59l7.72-7.72 1.47 1.35L5.41 20z\"/>\n",
              "  </svg>\n",
              "      </button>\n",
              "      \n",
              "  <style>\n",
              "    .colab-df-container {\n",
              "      display:flex;\n",
              "      flex-wrap:wrap;\n",
              "      gap: 12px;\n",
              "    }\n",
              "\n",
              "    .colab-df-convert {\n",
              "      background-color: #E8F0FE;\n",
              "      border: none;\n",
              "      border-radius: 50%;\n",
              "      cursor: pointer;\n",
              "      display: none;\n",
              "      fill: #1967D2;\n",
              "      height: 32px;\n",
              "      padding: 0 0 0 0;\n",
              "      width: 32px;\n",
              "    }\n",
              "\n",
              "    .colab-df-convert:hover {\n",
              "      background-color: #E2EBFA;\n",
              "      box-shadow: 0px 1px 2px rgba(60, 64, 67, 0.3), 0px 1px 3px 1px rgba(60, 64, 67, 0.15);\n",
              "      fill: #174EA6;\n",
              "    }\n",
              "\n",
              "    [theme=dark] .colab-df-convert {\n",
              "      background-color: #3B4455;\n",
              "      fill: #D2E3FC;\n",
              "    }\n",
              "\n",
              "    [theme=dark] .colab-df-convert:hover {\n",
              "      background-color: #434B5C;\n",
              "      box-shadow: 0px 1px 3px 1px rgba(0, 0, 0, 0.15);\n",
              "      filter: drop-shadow(0px 1px 2px rgba(0, 0, 0, 0.3));\n",
              "      fill: #FFFFFF;\n",
              "    }\n",
              "  </style>\n",
              "\n",
              "      <script>\n",
              "        const buttonEl =\n",
              "          document.querySelector('#df-457e8e93-1d37-4f6c-ac26-3e5fcb5c7a94 button.colab-df-convert');\n",
              "        buttonEl.style.display =\n",
              "          google.colab.kernel.accessAllowed ? 'block' : 'none';\n",
              "\n",
              "        async function convertToInteractive(key) {\n",
              "          const element = document.querySelector('#df-457e8e93-1d37-4f6c-ac26-3e5fcb5c7a94');\n",
              "          const dataTable =\n",
              "            await google.colab.kernel.invokeFunction('convertToInteractive',\n",
              "                                                     [key], {});\n",
              "          if (!dataTable) return;\n",
              "\n",
              "          const docLinkHtml = 'Like what you see? Visit the ' +\n",
              "            '<a target=\"_blank\" href=https://colab.research.google.com/notebooks/data_table.ipynb>data table notebook</a>'\n",
              "            + ' to learn more about interactive tables.';\n",
              "          element.innerHTML = '';\n",
              "          dataTable['output_type'] = 'display_data';\n",
              "          await google.colab.output.renderOutput(dataTable, element);\n",
              "          const docLink = document.createElement('div');\n",
              "          docLink.innerHTML = docLinkHtml;\n",
              "          element.appendChild(docLink);\n",
              "        }\n",
              "      </script>\n",
              "    </div>\n",
              "  </div>\n",
              "  "
            ]
          },
          "metadata": {},
          "execution_count": 184
        }
      ]
    },
    {
      "cell_type": "code",
      "source": [
        "max(ner_scores_df['precision']), max(ner_scores_df['recall']), max(ner_scores_df['f1_score']), max(ner_scores_df['jaccard'])"
      ],
      "metadata": {
        "colab": {
          "base_uri": "https://localhost:8080/"
        },
        "id": "JZK0ksZ-r3Bj",
        "outputId": "5e41b649-806f-45f5-a176-4898fb9b253e"
      },
      "execution_count": null,
      "outputs": [
        {
          "output_type": "execute_result",
          "data": {
            "text/plain": [
              "(0.55, 0.46, 0.41, 0.27)"
            ]
          },
          "metadata": {},
          "execution_count": 185
        }
      ]
    },
    {
      "cell_type": "code",
      "source": [
        "ner_scores_df['precision'].idxmax(), ner_scores_df['recall'].idxmax(), ner_scores_df['f1_score'].idxmax(), ner_scores_df['jaccard'].idxmax()"
      ],
      "metadata": {
        "colab": {
          "base_uri": "https://localhost:8080/"
        },
        "id": "Ezsp_Id90ttC",
        "outputId": "2b501bbc-2e3a-4d5f-8901-5ceda0adcabb"
      },
      "execution_count": null,
      "outputs": [
        {
          "output_type": "execute_result",
          "data": {
            "text/plain": [
              "(18, 16, 16, 16)"
            ]
          },
          "metadata": {},
          "execution_count": 186
        }
      ]
    },
    {
      "cell_type": "code",
      "source": [
        "ner_scores_df.loc[[18]]"
      ],
      "metadata": {
        "colab": {
          "base_uri": "https://localhost:8080/",
          "height": 81
        },
        "id": "WgPOT4ES1Rdu",
        "outputId": "627ab61c-4a37-4951-982c-f802d772d666"
      },
      "execution_count": null,
      "outputs": [
        {
          "output_type": "execute_result",
          "data": {
            "text/plain": [
              "   models  precision  recall  f1_score  jaccard\n",
              "18   m4_2       0.55    0.19      0.27     0.17"
            ],
            "text/html": [
              "\n",
              "  <div id=\"df-bdd92cca-7ca7-487d-8d74-307b1eee625b\">\n",
              "    <div class=\"colab-df-container\">\n",
              "      <div>\n",
              "<style scoped>\n",
              "    .dataframe tbody tr th:only-of-type {\n",
              "        vertical-align: middle;\n",
              "    }\n",
              "\n",
              "    .dataframe tbody tr th {\n",
              "        vertical-align: top;\n",
              "    }\n",
              "\n",
              "    .dataframe thead th {\n",
              "        text-align: right;\n",
              "    }\n",
              "</style>\n",
              "<table border=\"1\" class=\"dataframe\">\n",
              "  <thead>\n",
              "    <tr style=\"text-align: right;\">\n",
              "      <th></th>\n",
              "      <th>models</th>\n",
              "      <th>precision</th>\n",
              "      <th>recall</th>\n",
              "      <th>f1_score</th>\n",
              "      <th>jaccard</th>\n",
              "    </tr>\n",
              "  </thead>\n",
              "  <tbody>\n",
              "    <tr>\n",
              "      <th>18</th>\n",
              "      <td>m4_2</td>\n",
              "      <td>0.55</td>\n",
              "      <td>0.19</td>\n",
              "      <td>0.27</td>\n",
              "      <td>0.17</td>\n",
              "    </tr>\n",
              "  </tbody>\n",
              "</table>\n",
              "</div>\n",
              "      <button class=\"colab-df-convert\" onclick=\"convertToInteractive('df-bdd92cca-7ca7-487d-8d74-307b1eee625b')\"\n",
              "              title=\"Convert this dataframe to an interactive table.\"\n",
              "              style=\"display:none;\">\n",
              "        \n",
              "  <svg xmlns=\"http://www.w3.org/2000/svg\" height=\"24px\"viewBox=\"0 0 24 24\"\n",
              "       width=\"24px\">\n",
              "    <path d=\"M0 0h24v24H0V0z\" fill=\"none\"/>\n",
              "    <path d=\"M18.56 5.44l.94 2.06.94-2.06 2.06-.94-2.06-.94-.94-2.06-.94 2.06-2.06.94zm-11 1L8.5 8.5l.94-2.06 2.06-.94-2.06-.94L8.5 2.5l-.94 2.06-2.06.94zm10 10l.94 2.06.94-2.06 2.06-.94-2.06-.94-.94-2.06-.94 2.06-2.06.94z\"/><path d=\"M17.41 7.96l-1.37-1.37c-.4-.4-.92-.59-1.43-.59-.52 0-1.04.2-1.43.59L10.3 9.45l-7.72 7.72c-.78.78-.78 2.05 0 2.83L4 21.41c.39.39.9.59 1.41.59.51 0 1.02-.2 1.41-.59l7.78-7.78 2.81-2.81c.8-.78.8-2.07 0-2.86zM5.41 20L4 18.59l7.72-7.72 1.47 1.35L5.41 20z\"/>\n",
              "  </svg>\n",
              "      </button>\n",
              "      \n",
              "  <style>\n",
              "    .colab-df-container {\n",
              "      display:flex;\n",
              "      flex-wrap:wrap;\n",
              "      gap: 12px;\n",
              "    }\n",
              "\n",
              "    .colab-df-convert {\n",
              "      background-color: #E8F0FE;\n",
              "      border: none;\n",
              "      border-radius: 50%;\n",
              "      cursor: pointer;\n",
              "      display: none;\n",
              "      fill: #1967D2;\n",
              "      height: 32px;\n",
              "      padding: 0 0 0 0;\n",
              "      width: 32px;\n",
              "    }\n",
              "\n",
              "    .colab-df-convert:hover {\n",
              "      background-color: #E2EBFA;\n",
              "      box-shadow: 0px 1px 2px rgba(60, 64, 67, 0.3), 0px 1px 3px 1px rgba(60, 64, 67, 0.15);\n",
              "      fill: #174EA6;\n",
              "    }\n",
              "\n",
              "    [theme=dark] .colab-df-convert {\n",
              "      background-color: #3B4455;\n",
              "      fill: #D2E3FC;\n",
              "    }\n",
              "\n",
              "    [theme=dark] .colab-df-convert:hover {\n",
              "      background-color: #434B5C;\n",
              "      box-shadow: 0px 1px 3px 1px rgba(0, 0, 0, 0.15);\n",
              "      filter: drop-shadow(0px 1px 2px rgba(0, 0, 0, 0.3));\n",
              "      fill: #FFFFFF;\n",
              "    }\n",
              "  </style>\n",
              "\n",
              "      <script>\n",
              "        const buttonEl =\n",
              "          document.querySelector('#df-bdd92cca-7ca7-487d-8d74-307b1eee625b button.colab-df-convert');\n",
              "        buttonEl.style.display =\n",
              "          google.colab.kernel.accessAllowed ? 'block' : 'none';\n",
              "\n",
              "        async function convertToInteractive(key) {\n",
              "          const element = document.querySelector('#df-bdd92cca-7ca7-487d-8d74-307b1eee625b');\n",
              "          const dataTable =\n",
              "            await google.colab.kernel.invokeFunction('convertToInteractive',\n",
              "                                                     [key], {});\n",
              "          if (!dataTable) return;\n",
              "\n",
              "          const docLinkHtml = 'Like what you see? Visit the ' +\n",
              "            '<a target=\"_blank\" href=https://colab.research.google.com/notebooks/data_table.ipynb>data table notebook</a>'\n",
              "            + ' to learn more about interactive tables.';\n",
              "          element.innerHTML = '';\n",
              "          dataTable['output_type'] = 'display_data';\n",
              "          await google.colab.output.renderOutput(dataTable, element);\n",
              "          const docLink = document.createElement('div');\n",
              "          docLink.innerHTML = docLinkHtml;\n",
              "          element.appendChild(docLink);\n",
              "        }\n",
              "      </script>\n",
              "    </div>\n",
              "  </div>\n",
              "  "
            ]
          },
          "metadata": {},
          "execution_count": 187
        }
      ]
    },
    {
      "cell_type": "code",
      "source": [
        "ner_scores_df.loc[[16]]"
      ],
      "metadata": {
        "colab": {
          "base_uri": "https://localhost:8080/",
          "height": 81
        },
        "id": "WBCfapB81iGy",
        "outputId": "57d499d1-911e-43f4-df81-c71e05034f45"
      },
      "execution_count": null,
      "outputs": [
        {
          "output_type": "execute_result",
          "data": {
            "text/plain": [
              "   models  precision  recall  f1_score  jaccard\n",
              "16   m3_2        0.4    0.46      0.41     0.27"
            ],
            "text/html": [
              "\n",
              "  <div id=\"df-8cb51c29-8cdd-4c86-b58a-7b71467adc77\">\n",
              "    <div class=\"colab-df-container\">\n",
              "      <div>\n",
              "<style scoped>\n",
              "    .dataframe tbody tr th:only-of-type {\n",
              "        vertical-align: middle;\n",
              "    }\n",
              "\n",
              "    .dataframe tbody tr th {\n",
              "        vertical-align: top;\n",
              "    }\n",
              "\n",
              "    .dataframe thead th {\n",
              "        text-align: right;\n",
              "    }\n",
              "</style>\n",
              "<table border=\"1\" class=\"dataframe\">\n",
              "  <thead>\n",
              "    <tr style=\"text-align: right;\">\n",
              "      <th></th>\n",
              "      <th>models</th>\n",
              "      <th>precision</th>\n",
              "      <th>recall</th>\n",
              "      <th>f1_score</th>\n",
              "      <th>jaccard</th>\n",
              "    </tr>\n",
              "  </thead>\n",
              "  <tbody>\n",
              "    <tr>\n",
              "      <th>16</th>\n",
              "      <td>m3_2</td>\n",
              "      <td>0.4</td>\n",
              "      <td>0.46</td>\n",
              "      <td>0.41</td>\n",
              "      <td>0.27</td>\n",
              "    </tr>\n",
              "  </tbody>\n",
              "</table>\n",
              "</div>\n",
              "      <button class=\"colab-df-convert\" onclick=\"convertToInteractive('df-8cb51c29-8cdd-4c86-b58a-7b71467adc77')\"\n",
              "              title=\"Convert this dataframe to an interactive table.\"\n",
              "              style=\"display:none;\">\n",
              "        \n",
              "  <svg xmlns=\"http://www.w3.org/2000/svg\" height=\"24px\"viewBox=\"0 0 24 24\"\n",
              "       width=\"24px\">\n",
              "    <path d=\"M0 0h24v24H0V0z\" fill=\"none\"/>\n",
              "    <path d=\"M18.56 5.44l.94 2.06.94-2.06 2.06-.94-2.06-.94-.94-2.06-.94 2.06-2.06.94zm-11 1L8.5 8.5l.94-2.06 2.06-.94-2.06-.94L8.5 2.5l-.94 2.06-2.06.94zm10 10l.94 2.06.94-2.06 2.06-.94-2.06-.94-.94-2.06-.94 2.06-2.06.94z\"/><path d=\"M17.41 7.96l-1.37-1.37c-.4-.4-.92-.59-1.43-.59-.52 0-1.04.2-1.43.59L10.3 9.45l-7.72 7.72c-.78.78-.78 2.05 0 2.83L4 21.41c.39.39.9.59 1.41.59.51 0 1.02-.2 1.41-.59l7.78-7.78 2.81-2.81c.8-.78.8-2.07 0-2.86zM5.41 20L4 18.59l7.72-7.72 1.47 1.35L5.41 20z\"/>\n",
              "  </svg>\n",
              "      </button>\n",
              "      \n",
              "  <style>\n",
              "    .colab-df-container {\n",
              "      display:flex;\n",
              "      flex-wrap:wrap;\n",
              "      gap: 12px;\n",
              "    }\n",
              "\n",
              "    .colab-df-convert {\n",
              "      background-color: #E8F0FE;\n",
              "      border: none;\n",
              "      border-radius: 50%;\n",
              "      cursor: pointer;\n",
              "      display: none;\n",
              "      fill: #1967D2;\n",
              "      height: 32px;\n",
              "      padding: 0 0 0 0;\n",
              "      width: 32px;\n",
              "    }\n",
              "\n",
              "    .colab-df-convert:hover {\n",
              "      background-color: #E2EBFA;\n",
              "      box-shadow: 0px 1px 2px rgba(60, 64, 67, 0.3), 0px 1px 3px 1px rgba(60, 64, 67, 0.15);\n",
              "      fill: #174EA6;\n",
              "    }\n",
              "\n",
              "    [theme=dark] .colab-df-convert {\n",
              "      background-color: #3B4455;\n",
              "      fill: #D2E3FC;\n",
              "    }\n",
              "\n",
              "    [theme=dark] .colab-df-convert:hover {\n",
              "      background-color: #434B5C;\n",
              "      box-shadow: 0px 1px 3px 1px rgba(0, 0, 0, 0.15);\n",
              "      filter: drop-shadow(0px 1px 2px rgba(0, 0, 0, 0.3));\n",
              "      fill: #FFFFFF;\n",
              "    }\n",
              "  </style>\n",
              "\n",
              "      <script>\n",
              "        const buttonEl =\n",
              "          document.querySelector('#df-8cb51c29-8cdd-4c86-b58a-7b71467adc77 button.colab-df-convert');\n",
              "        buttonEl.style.display =\n",
              "          google.colab.kernel.accessAllowed ? 'block' : 'none';\n",
              "\n",
              "        async function convertToInteractive(key) {\n",
              "          const element = document.querySelector('#df-8cb51c29-8cdd-4c86-b58a-7b71467adc77');\n",
              "          const dataTable =\n",
              "            await google.colab.kernel.invokeFunction('convertToInteractive',\n",
              "                                                     [key], {});\n",
              "          if (!dataTable) return;\n",
              "\n",
              "          const docLinkHtml = 'Like what you see? Visit the ' +\n",
              "            '<a target=\"_blank\" href=https://colab.research.google.com/notebooks/data_table.ipynb>data table notebook</a>'\n",
              "            + ' to learn more about interactive tables.';\n",
              "          element.innerHTML = '';\n",
              "          dataTable['output_type'] = 'display_data';\n",
              "          await google.colab.output.renderOutput(dataTable, element);\n",
              "          const docLink = document.createElement('div');\n",
              "          docLink.innerHTML = docLinkHtml;\n",
              "          element.appendChild(docLink);\n",
              "        }\n",
              "      </script>\n",
              "    </div>\n",
              "  </div>\n",
              "  "
            ]
          },
          "metadata": {},
          "execution_count": 188
        }
      ]
    },
    {
      "cell_type": "markdown",
      "source": [
        "В среднем у модели m3_2 получились лучшие результаты (высокие и сбалансированные)"
      ],
      "metadata": {
        "id": "ENyV6gofKJuG"
      }
    },
    {
      "cell_type": "markdown",
      "source": [
        "Попробуем объединить umls и m3_2"
      ],
      "metadata": {
        "id": "3WcoK3ADKFce"
      }
    },
    {
      "cell_type": "code",
      "source": [
        "with open(f'ner_results_2ver/filtered_clean/ner_m3_2.json', 'r') as f:\n",
        "      m3_data = json.load(f)"
      ],
      "metadata": {
        "id": "DWa37mZyKEpT"
      },
      "execution_count": null,
      "outputs": []
    },
    {
      "cell_type": "code",
      "source": [
        "mixed_terms = {}\n",
        "for i in umls_terms.keys():\n",
        "  mixed_terms[i] = umls_terms[i]\n",
        "  for term in m3_data[i]:\n",
        "    if term not in umls_terms[i]:\n",
        "      mixed_terms[i].append(term)"
      ],
      "metadata": {
        "id": "2jv5bq0b3ZDq"
      },
      "execution_count": null,
      "outputs": []
    },
    {
      "cell_type": "code",
      "source": [
        "with open(f'umls_m3_2_terms.json', 'w') as f:\n",
        "    json.dump(mixed_terms, f)"
      ],
      "metadata": {
        "id": "0dzO2PC-sNO4"
      },
      "execution_count": null,
      "outputs": []
    },
    {
      "cell_type": "code",
      "source": [
        "test_list = [mixed_terms[str(i)] for i in range(1,76)]"
      ],
      "metadata": {
        "id": "W-BArOzC-u7R"
      },
      "execution_count": null,
      "outputs": []
    },
    {
      "cell_type": "markdown",
      "source": [
        "UMLS + m3_2"
      ],
      "metadata": {
        "id": "P_aiuQs_ae96"
      }
    },
    {
      "cell_type": "code",
      "source": [
        "evaluate(test_list, true_terms_list)"
      ],
      "metadata": {
        "colab": {
          "base_uri": "https://localhost:8080/"
        },
        "id": "9_aNuTH6aK_a",
        "outputId": "e4db4d0d-ef78-44b4-ed94-b5db3b8183ad"
      },
      "execution_count": null,
      "outputs": [
        {
          "output_type": "execute_result",
          "data": {
            "text/plain": [
              "(0.55, 0.4, 0.44, 0.3)"
            ]
          },
          "metadata": {},
          "execution_count": 162
        }
      ]
    },
    {
      "cell_type": "markdown",
      "source": [
        "UMLS"
      ],
      "metadata": {
        "id": "UwvDoMlkaln9"
      }
    },
    {
      "cell_type": "code",
      "source": [
        "evaluate(true_terms_list, umls_terms_list)"
      ],
      "metadata": {
        "colab": {
          "base_uri": "https://localhost:8080/"
        },
        "id": "LxLsIZlV3ZNk",
        "outputId": "21a69424-00db-4787-9417-b58aa0b2fbb0"
      },
      "execution_count": null,
      "outputs": [
        {
          "output_type": "execute_result",
          "data": {
            "text/plain": [
              "(0.55, 0.23, 0.31, 0.19)"
            ]
          },
          "metadata": {},
          "execution_count": 148
        }
      ]
    },
    {
      "cell_type": "markdown",
      "source": [
        "m3_2"
      ],
      "metadata": {
        "id": "AN2MnHjHame2"
      }
    },
    {
      "cell_type": "code",
      "source": [
        "ner_scores_df.loc[[16]]"
      ],
      "metadata": {
        "colab": {
          "base_uri": "https://localhost:8080/",
          "height": 81
        },
        "id": "dZjIauIfZ--l",
        "outputId": "65d78fc0-3fa0-484c-9669-ca1cbfa00473"
      },
      "execution_count": null,
      "outputs": [
        {
          "output_type": "execute_result",
          "data": {
            "text/plain": [
              "   models  precision  recall  f1_score  jaccard\n",
              "16   m3_2        0.4    0.46      0.41     0.27"
            ],
            "text/html": [
              "\n",
              "  <div id=\"df-1812fcc6-e690-40d1-9ecd-e1536f8db50a\">\n",
              "    <div class=\"colab-df-container\">\n",
              "      <div>\n",
              "<style scoped>\n",
              "    .dataframe tbody tr th:only-of-type {\n",
              "        vertical-align: middle;\n",
              "    }\n",
              "\n",
              "    .dataframe tbody tr th {\n",
              "        vertical-align: top;\n",
              "    }\n",
              "\n",
              "    .dataframe thead th {\n",
              "        text-align: right;\n",
              "    }\n",
              "</style>\n",
              "<table border=\"1\" class=\"dataframe\">\n",
              "  <thead>\n",
              "    <tr style=\"text-align: right;\">\n",
              "      <th></th>\n",
              "      <th>models</th>\n",
              "      <th>precision</th>\n",
              "      <th>recall</th>\n",
              "      <th>f1_score</th>\n",
              "      <th>jaccard</th>\n",
              "    </tr>\n",
              "  </thead>\n",
              "  <tbody>\n",
              "    <tr>\n",
              "      <th>16</th>\n",
              "      <td>m3_2</td>\n",
              "      <td>0.4</td>\n",
              "      <td>0.46</td>\n",
              "      <td>0.41</td>\n",
              "      <td>0.27</td>\n",
              "    </tr>\n",
              "  </tbody>\n",
              "</table>\n",
              "</div>\n",
              "      <button class=\"colab-df-convert\" onclick=\"convertToInteractive('df-1812fcc6-e690-40d1-9ecd-e1536f8db50a')\"\n",
              "              title=\"Convert this dataframe to an interactive table.\"\n",
              "              style=\"display:none;\">\n",
              "        \n",
              "  <svg xmlns=\"http://www.w3.org/2000/svg\" height=\"24px\"viewBox=\"0 0 24 24\"\n",
              "       width=\"24px\">\n",
              "    <path d=\"M0 0h24v24H0V0z\" fill=\"none\"/>\n",
              "    <path d=\"M18.56 5.44l.94 2.06.94-2.06 2.06-.94-2.06-.94-.94-2.06-.94 2.06-2.06.94zm-11 1L8.5 8.5l.94-2.06 2.06-.94-2.06-.94L8.5 2.5l-.94 2.06-2.06.94zm10 10l.94 2.06.94-2.06 2.06-.94-2.06-.94-.94-2.06-.94 2.06-2.06.94z\"/><path d=\"M17.41 7.96l-1.37-1.37c-.4-.4-.92-.59-1.43-.59-.52 0-1.04.2-1.43.59L10.3 9.45l-7.72 7.72c-.78.78-.78 2.05 0 2.83L4 21.41c.39.39.9.59 1.41.59.51 0 1.02-.2 1.41-.59l7.78-7.78 2.81-2.81c.8-.78.8-2.07 0-2.86zM5.41 20L4 18.59l7.72-7.72 1.47 1.35L5.41 20z\"/>\n",
              "  </svg>\n",
              "      </button>\n",
              "      \n",
              "  <style>\n",
              "    .colab-df-container {\n",
              "      display:flex;\n",
              "      flex-wrap:wrap;\n",
              "      gap: 12px;\n",
              "    }\n",
              "\n",
              "    .colab-df-convert {\n",
              "      background-color: #E8F0FE;\n",
              "      border: none;\n",
              "      border-radius: 50%;\n",
              "      cursor: pointer;\n",
              "      display: none;\n",
              "      fill: #1967D2;\n",
              "      height: 32px;\n",
              "      padding: 0 0 0 0;\n",
              "      width: 32px;\n",
              "    }\n",
              "\n",
              "    .colab-df-convert:hover {\n",
              "      background-color: #E2EBFA;\n",
              "      box-shadow: 0px 1px 2px rgba(60, 64, 67, 0.3), 0px 1px 3px 1px rgba(60, 64, 67, 0.15);\n",
              "      fill: #174EA6;\n",
              "    }\n",
              "\n",
              "    [theme=dark] .colab-df-convert {\n",
              "      background-color: #3B4455;\n",
              "      fill: #D2E3FC;\n",
              "    }\n",
              "\n",
              "    [theme=dark] .colab-df-convert:hover {\n",
              "      background-color: #434B5C;\n",
              "      box-shadow: 0px 1px 3px 1px rgba(0, 0, 0, 0.15);\n",
              "      filter: drop-shadow(0px 1px 2px rgba(0, 0, 0, 0.3));\n",
              "      fill: #FFFFFF;\n",
              "    }\n",
              "  </style>\n",
              "\n",
              "      <script>\n",
              "        const buttonEl =\n",
              "          document.querySelector('#df-1812fcc6-e690-40d1-9ecd-e1536f8db50a button.colab-df-convert');\n",
              "        buttonEl.style.display =\n",
              "          google.colab.kernel.accessAllowed ? 'block' : 'none';\n",
              "\n",
              "        async function convertToInteractive(key) {\n",
              "          const element = document.querySelector('#df-1812fcc6-e690-40d1-9ecd-e1536f8db50a');\n",
              "          const dataTable =\n",
              "            await google.colab.kernel.invokeFunction('convertToInteractive',\n",
              "                                                     [key], {});\n",
              "          if (!dataTable) return;\n",
              "\n",
              "          const docLinkHtml = 'Like what you see? Visit the ' +\n",
              "            '<a target=\"_blank\" href=https://colab.research.google.com/notebooks/data_table.ipynb>data table notebook</a>'\n",
              "            + ' to learn more about interactive tables.';\n",
              "          element.innerHTML = '';\n",
              "          dataTable['output_type'] = 'display_data';\n",
              "          await google.colab.output.renderOutput(dataTable, element);\n",
              "          const docLink = document.createElement('div');\n",
              "          docLink.innerHTML = docLinkHtml;\n",
              "          element.appendChild(docLink);\n",
              "        }\n",
              "      </script>\n",
              "    </div>\n",
              "  </div>\n",
              "  "
            ]
          },
          "metadata": {},
          "execution_count": 159
        }
      ]
    },
    {
      "cell_type": "markdown",
      "source": [
        "Проверим разные варианты true terms"
      ],
      "metadata": {
        "id": "cBKkbA_8st3n"
      }
    },
    {
      "cell_type": "code",
      "source": [
        "with open('true_ner_results_2_clean.json', 'r') as f:\n",
        "  true_terms = json.load(f)\n",
        "\n",
        "true_terms_list = [true_terms[str(i)] for i in range(1,76)]\n",
        "true_terms_list[0]\n",
        "\n",
        "evaluate(test_list, true_terms_list)"
      ],
      "metadata": {
        "colab": {
          "base_uri": "https://localhost:8080/"
        },
        "id": "ctM6i87Dqw2y",
        "outputId": "57d21891-1ab5-47d1-8dac-4bb6559ff1f8"
      },
      "execution_count": null,
      "outputs": [
        {
          "output_type": "execute_result",
          "data": {
            "text/plain": [
              "(0.55, 0.4, 0.44, 0.3)"
            ]
          },
          "metadata": {},
          "execution_count": 178
        }
      ]
    },
    {
      "cell_type": "code",
      "source": [
        "with open('true_ner_results_3_clean.json', 'r') as f:\n",
        "  true_terms = json.load(f)\n",
        "\n",
        "true_terms_list = [true_terms[str(i)] for i in range(1,76)]\n",
        "true_terms_list[0]\n",
        "\n",
        "evaluate(test_list, true_terms_list)"
      ],
      "metadata": {
        "colab": {
          "base_uri": "https://localhost:8080/"
        },
        "id": "mCvCKuZbqw-k",
        "outputId": "f10009a3-7813-4a74-e5be-c0cd0b97ac80"
      },
      "execution_count": null,
      "outputs": [
        {
          "output_type": "execute_result",
          "data": {
            "text/plain": [
              "(0.55, 0.4, 0.45, 0.3)"
            ]
          },
          "metadata": {},
          "execution_count": 192
        }
      ]
    },
    {
      "cell_type": "code",
      "source": [
        "with open('true_ner_results_4_clean.json', 'r') as f:\n",
        "  true_terms = json.load(f)\n",
        "\n",
        "true_terms_list = [true_terms[str(i)] for i in range(1,76)]\n",
        "true_terms_list[0]\n",
        "\n",
        "evaluate(test_list, true_terms_list)"
      ],
      "metadata": {
        "colab": {
          "base_uri": "https://localhost:8080/"
        },
        "id": "ctIpEWoRqxFp",
        "outputId": "bba26ec3-25d7-4f78-dc9f-b9af62d22236"
      },
      "execution_count": null,
      "outputs": [
        {
          "output_type": "execute_result",
          "data": {
            "text/plain": [
              "(0.46, 0.45, 0.44, 0.29)"
            ]
          },
          "metadata": {},
          "execution_count": 180
        }
      ]
    },
    {
      "cell_type": "markdown",
      "source": [
        "Наилучший результат у третьего варианта (true_ner_results_3_clean.json)"
      ],
      "metadata": {
        "id": "IsoX45Ees2I8"
      }
    },
    {
      "cell_type": "markdown",
      "source": [
        "# recommentations rerank"
      ],
      "metadata": {
        "id": "EOh4BGZzrwS_"
      }
    },
    {
      "cell_type": "markdown",
      "source": [
        "Здесь выполняется переранжирование с использованием TfidfVectorizer (переранжирование с Pyserini осуществлялось в тетрадке pyserini_rerank.ipynb)"
      ],
      "metadata": {
        "id": "FhjJckEsuE-a"
      }
    },
    {
      "cell_type": "markdown",
      "source": [
        "Дополнительная обработка для третьей системы (QuickUMLS + BERT)"
      ],
      "metadata": {
        "id": "-Y-Vpv1krhqv"
      }
    },
    {
      "cell_type": "code",
      "source": [
        "def reps_prepro(model):\n",
        "  new_results = {}\n",
        "\n",
        "  with open(f'{model}', 'r') as f:\n",
        "    model_preds = json.load(f)\n",
        "  \n",
        "  for key in model_preds.keys():\n",
        "    new_list = []\n",
        "    links = []\n",
        "    for paper in model_preds[key]:\n",
        "      paper_data = paper.split('\\n')\n",
        "      link = paper_data[1]\n",
        "      if link not in links:\n",
        "        new_list.append(paper)\n",
        "        links.append(link)\n",
        "    new_results[key] = new_list\n",
        "\n",
        "  return new_results"
      ],
      "metadata": {
        "id": "VnQ5rWTd8v77"
      },
      "execution_count": null,
      "outputs": []
    },
    {
      "cell_type": "code",
      "source": [
        "new_res_1 = reps_prepro('texts_recs_umls_m3_2.json')\n",
        "\n",
        "with open('texts_recs_umls_m3_2_clean.json', 'w') as f:\n",
        "  json.dump(new_res_1, f)"
      ],
      "metadata": {
        "id": "kuxvxXOo9DjM"
      },
      "execution_count": null,
      "outputs": []
    },
    {
      "cell_type": "code",
      "source": [
        "!python -m spacy download en_core_web_sm"
      ],
      "metadata": {
        "colab": {
          "base_uri": "https://localhost:8080/"
        },
        "id": "vOZ504GlsGUA",
        "outputId": "966c9e9b-9701-4414-c27b-0cf867b484cb"
      },
      "execution_count": null,
      "outputs": [
        {
          "output_type": "stream",
          "name": "stdout",
          "text": [
            "Looking in indexes: https://pypi.org/simple, https://us-python.pkg.dev/colab-wheels/public/simple/\n",
            "Collecting en_core_web_sm==2.2.5\n",
            "  Downloading https://github.com/explosion/spacy-models/releases/download/en_core_web_sm-2.2.5/en_core_web_sm-2.2.5.tar.gz (12.0 MB)\n",
            "\u001b[K     |████████████████████████████████| 12.0 MB 5.4 MB/s \n",
            "\u001b[?25hRequirement already satisfied: spacy>=2.2.2 in /usr/local/lib/python3.7/dist-packages (from en_core_web_sm==2.2.5) (2.2.4)\n",
            "Requirement already satisfied: cymem<2.1.0,>=2.0.2 in /usr/local/lib/python3.7/dist-packages (from spacy>=2.2.2->en_core_web_sm==2.2.5) (2.0.6)\n",
            "Requirement already satisfied: thinc==7.4.0 in /usr/local/lib/python3.7/dist-packages (from spacy>=2.2.2->en_core_web_sm==2.2.5) (7.4.0)\n",
            "Requirement already satisfied: setuptools in /usr/local/lib/python3.7/dist-packages (from spacy>=2.2.2->en_core_web_sm==2.2.5) (57.4.0)\n",
            "Requirement already satisfied: requests<3.0.0,>=2.13.0 in /usr/local/lib/python3.7/dist-packages (from spacy>=2.2.2->en_core_web_sm==2.2.5) (2.23.0)\n",
            "Requirement already satisfied: catalogue<1.1.0,>=0.0.7 in /usr/local/lib/python3.7/dist-packages (from spacy>=2.2.2->en_core_web_sm==2.2.5) (1.0.0)\n",
            "Requirement already satisfied: tqdm<5.0.0,>=4.38.0 in /usr/local/lib/python3.7/dist-packages (from spacy>=2.2.2->en_core_web_sm==2.2.5) (4.64.0)\n",
            "Requirement already satisfied: plac<1.2.0,>=0.9.6 in /usr/local/lib/python3.7/dist-packages (from spacy>=2.2.2->en_core_web_sm==2.2.5) (1.1.3)\n",
            "Requirement already satisfied: murmurhash<1.1.0,>=0.28.0 in /usr/local/lib/python3.7/dist-packages (from spacy>=2.2.2->en_core_web_sm==2.2.5) (1.0.7)\n",
            "Requirement already satisfied: wasabi<1.1.0,>=0.4.0 in /usr/local/lib/python3.7/dist-packages (from spacy>=2.2.2->en_core_web_sm==2.2.5) (0.9.1)\n",
            "Requirement already satisfied: numpy>=1.15.0 in /usr/local/lib/python3.7/dist-packages (from spacy>=2.2.2->en_core_web_sm==2.2.5) (1.21.6)\n",
            "Requirement already satisfied: preshed<3.1.0,>=3.0.2 in /usr/local/lib/python3.7/dist-packages (from spacy>=2.2.2->en_core_web_sm==2.2.5) (3.0.6)\n",
            "Requirement already satisfied: srsly<1.1.0,>=1.0.2 in /usr/local/lib/python3.7/dist-packages (from spacy>=2.2.2->en_core_web_sm==2.2.5) (1.0.5)\n",
            "Requirement already satisfied: blis<0.5.0,>=0.4.0 in /usr/local/lib/python3.7/dist-packages (from spacy>=2.2.2->en_core_web_sm==2.2.5) (0.4.1)\n",
            "Requirement already satisfied: importlib-metadata>=0.20 in /usr/local/lib/python3.7/dist-packages (from catalogue<1.1.0,>=0.0.7->spacy>=2.2.2->en_core_web_sm==2.2.5) (4.11.3)\n",
            "Requirement already satisfied: typing-extensions>=3.6.4 in /usr/local/lib/python3.7/dist-packages (from importlib-metadata>=0.20->catalogue<1.1.0,>=0.0.7->spacy>=2.2.2->en_core_web_sm==2.2.5) (4.2.0)\n",
            "Requirement already satisfied: zipp>=0.5 in /usr/local/lib/python3.7/dist-packages (from importlib-metadata>=0.20->catalogue<1.1.0,>=0.0.7->spacy>=2.2.2->en_core_web_sm==2.2.5) (3.8.0)\n",
            "Requirement already satisfied: idna<3,>=2.5 in /usr/local/lib/python3.7/dist-packages (from requests<3.0.0,>=2.13.0->spacy>=2.2.2->en_core_web_sm==2.2.5) (2.10)\n",
            "Requirement already satisfied: certifi>=2017.4.17 in /usr/local/lib/python3.7/dist-packages (from requests<3.0.0,>=2.13.0->spacy>=2.2.2->en_core_web_sm==2.2.5) (2022.5.18.1)\n",
            "Requirement already satisfied: urllib3!=1.25.0,!=1.25.1,<1.26,>=1.21.1 in /usr/local/lib/python3.7/dist-packages (from requests<3.0.0,>=2.13.0->spacy>=2.2.2->en_core_web_sm==2.2.5) (1.24.3)\n",
            "Requirement already satisfied: chardet<4,>=3.0.2 in /usr/local/lib/python3.7/dist-packages (from requests<3.0.0,>=2.13.0->spacy>=2.2.2->en_core_web_sm==2.2.5) (3.0.4)\n",
            "\u001b[38;5;2m✔ Download and installation successful\u001b[0m\n",
            "You can now load the model via spacy.load('en_core_web_sm')\n"
          ]
        }
      ]
    },
    {
      "cell_type": "code",
      "source": [
        "!pip install razdel"
      ],
      "metadata": {
        "colab": {
          "base_uri": "https://localhost:8080/"
        },
        "id": "Wg_v8RAM0Khc",
        "outputId": "c0afdaea-a578-4c0a-ffc4-af7bc436ed76"
      },
      "execution_count": null,
      "outputs": [
        {
          "output_type": "stream",
          "name": "stdout",
          "text": [
            "Looking in indexes: https://pypi.org/simple, https://us-python.pkg.dev/colab-wheels/public/simple/\n",
            "Requirement already satisfied: razdel in /usr/local/lib/python3.7/dist-packages (0.5.0)\n"
          ]
        }
      ]
    },
    {
      "cell_type": "code",
      "source": [
        "import nltk\n",
        "nltk.download('punkt')\n",
        "nltk.download('stopwords')"
      ],
      "metadata": {
        "colab": {
          "base_uri": "https://localhost:8080/"
        },
        "id": "nS2u15fj0Qc5",
        "outputId": "0154704f-e23e-47d8-fa4a-332919135fcf"
      },
      "execution_count": null,
      "outputs": [
        {
          "output_type": "stream",
          "name": "stdout",
          "text": [
            "[nltk_data] Downloading package punkt to /root/nltk_data...\n",
            "[nltk_data]   Unzipping tokenizers/punkt.zip.\n",
            "[nltk_data] Downloading package stopwords to /root/nltk_data...\n",
            "[nltk_data]   Unzipping corpora/stopwords.zip.\n"
          ]
        },
        {
          "output_type": "execute_result",
          "data": {
            "text/plain": [
              "True"
            ]
          },
          "metadata": {},
          "execution_count": 59
        }
      ]
    },
    {
      "cell_type": "code",
      "source": [
        "with open('descriptions.json', 'r') as f:\n",
        "  queries = json.load(f)"
      ],
      "metadata": {
        "id": "ewGoOXHcwxkg"
      },
      "execution_count": null,
      "outputs": []
    },
    {
      "cell_type": "code",
      "source": [
        "queries['1']"
      ],
      "metadata": {
        "colab": {
          "base_uri": "https://localhost:8080/",
          "height": 122
        },
        "id": "HCuBcAa_w1qs",
        "outputId": "418b7fca-31a9-4570-a8fa-96303a04f4b6"
      },
      "execution_count": null,
      "outputs": [
        {
          "output_type": "execute_result",
          "data": {
            "text/plain": [
              "'\\nPatient is a 45-year-old man with a history of anaplastic astrocytoma of the spine complicated by severe lower extremity weakness and urinary retention s/p Foley catheter, high-dose steroids, hypertension, and chronic pain. The tumor is located in the T-L spine, unresectable anaplastic astrocytoma s/p radiation. Complicated by progressive lower extremity weakness and urinary retention. Patient initially presented with RLE weakness where his right knee gave out with difficulty walking and right anterior thigh numbness. MRI showed a spinal cord conus mass which was biopsied and found to be anaplastic astrocytoma. Therapy included field radiation t10-l1 followed by 11 cycles of temozolomide 7 days on and 7 days off. This was followed by CPT-11 Weekly x4 with Avastin Q2 weeks/ 2 weeks rest and repeat cycle. \\n'"
            ],
            "application/vnd.google.colaboratory.intrinsic+json": {
              "type": "string"
            }
          },
          "metadata": {},
          "execution_count": 73
        }
      ]
    },
    {
      "cell_type": "code",
      "source": [
        "queries_clean = {}\n",
        "for key in queries.keys():\n",
        "  clean_text = queries[key].strip()\n",
        "  queries_clean[key] = clean_text"
      ],
      "metadata": {
        "id": "bSxR6THl1Tmu"
      },
      "execution_count": null,
      "outputs": []
    },
    {
      "cell_type": "code",
      "source": [
        "queries_clean['1']"
      ],
      "metadata": {
        "colab": {
          "base_uri": "https://localhost:8080/",
          "height": 122
        },
        "id": "63yAnqFM1xS2",
        "outputId": "9e013873-59f9-4a7e-9dbe-7681e7b64f31"
      },
      "execution_count": null,
      "outputs": [
        {
          "output_type": "execute_result",
          "data": {
            "text/plain": [
              "'Patient is a 45-year-old man with a history of anaplastic astrocytoma of the spine complicated by severe lower extremity weakness and urinary retention s/p Foley catheter, high-dose steroids, hypertension, and chronic pain. The tumor is located in the T-L spine, unresectable anaplastic astrocytoma s/p radiation. Complicated by progressive lower extremity weakness and urinary retention. Patient initially presented with RLE weakness where his right knee gave out with difficulty walking and right anterior thigh numbness. MRI showed a spinal cord conus mass which was biopsied and found to be anaplastic astrocytoma. Therapy included field radiation t10-l1 followed by 11 cycles of temozolomide 7 days on and 7 days off. This was followed by CPT-11 Weekly x4 with Avastin Q2 weeks/ 2 weeks rest and repeat cycle.'"
            ],
            "application/vnd.google.colaboratory.intrinsic+json": {
              "type": "string"
            }
          },
          "metadata": {},
          "execution_count": 82
        }
      ]
    },
    {
      "cell_type": "code",
      "source": [
        "import re\n",
        "\n",
        "def clean_data(data):\n",
        "  data_clean = {}\n",
        "  for key in data.keys():\n",
        "    clean_texts = []\n",
        "    clean_tag = re.compile('<.*?>') \n",
        "    for info in data[key]:\n",
        "      title = info.split('\\n')[0]\n",
        "      url = info.split('\\n')[1]\n",
        "      text = info.split('\\n')[2]\n",
        "      clean_title = re.sub(clean_tag, '', title)\n",
        "      clean_text = re.sub(clean_tag, ' ', text)\n",
        "      clean_text = re.sub('\\t', ' ', clean_text)\n",
        "      all_text = clean_title + ' ' + clean_text\n",
        "      all_text = re.sub('  +', ' ', all_text)\n",
        "      clean_texts.append(all_text)\n",
        "    data_clean[key] = clean_texts\n",
        "\n",
        "  return data_clean    "
      ],
      "metadata": {
        "id": "mvYGxsfgtjWI"
      },
      "execution_count": null,
      "outputs": []
    },
    {
      "cell_type": "code",
      "source": [
        "cl_data = clean_data(data1_m)"
      ],
      "metadata": {
        "id": "Y66t_exgt4rl"
      },
      "execution_count": null,
      "outputs": []
    },
    {
      "cell_type": "code",
      "source": [
        "cl_data['1'][0]"
      ],
      "metadata": {
        "colab": {
          "base_uri": "https://localhost:8080/",
          "height": 122
        },
        "id": "DeX-bd0zvD62",
        "outputId": "e6402ab3-61a5-402b-b0d6-5782c89e6748"
      },
      "execution_count": null,
      "outputs": [
        {
          "output_type": "execute_result",
          "data": {
            "text/plain": [
              "'Friedreich Ataxia Friedreich ataxia is an inherited disease that damages your nervous system. The damage affects your spinal cord and the nerves that control muscle movement in your arms and legs. Symptoms usually begin between the ages of 5 and 15. The main symptom is ataxia, which means trouble coordinating movements. Specific symptoms include: Difficulty walking Muscle weakness Speech problems Involuntary eye movements Scoliosis (curving of the spine to one side) Heart palpitations, from the heart disease which can happen along with Friedreich ataxia People with Friedreich ataxia usually need a wheelchair 15 to 20 years after symptoms first appear. In severe cases, people become incapacitated. There is no cure. You can treat symptoms with medicines, braces, surgery, and physical therapy. NIH: National Institute of Neurological Disorders and Stroke '"
            ],
            "application/vnd.google.colaboratory.intrinsic+json": {
              "type": "string"
            }
          },
          "metadata": {},
          "execution_count": 155
        }
      ]
    },
    {
      "cell_type": "code",
      "source": [
        "from nltk import word_tokenize\n",
        "from nltk.corpus import stopwords\n",
        "from razdel import sentenize\n",
        "from razdel import tokenize as razdel_tokenize\n",
        "from string import punctuation\n",
        "\n",
        "stop = set(stopwords.words('english'))\n",
        "\n",
        "import spacy\n",
        "nlp = spacy.load('en_core_web_sm')\n",
        "\n",
        "def lemmatize(text):\n",
        "  doc = nlp(text)\n",
        "  return ' '.join([token.lemma_ for token in doc])\n",
        "\n",
        "def preprocess(text):\n",
        "  normalized_text = [word.text.strip(punctuation) for word in razdel_tokenize(text)]\n",
        "  normalized_text = ' '.join([word.lower() for word in normalized_text if word and word.lower() not in stop and len(word) > 2])\n",
        "  lemmatized_text = lemmatize(normalized_text)\n",
        "  return lemmatized_text"
      ],
      "metadata": {
        "id": "xTlq5ooJzgqB"
      },
      "execution_count": null,
      "outputs": []
    },
    {
      "cell_type": "code",
      "source": [
        "preprocess(cl_data['1'][0])"
      ],
      "metadata": {
        "colab": {
          "base_uri": "https://localhost:8080/",
          "height": 87
        },
        "id": "hhjAmEcx0iXX",
        "outputId": "d1d89612-386c-4faf-8ff6-e1359be9837e"
      },
      "execution_count": null,
      "outputs": [
        {
          "output_type": "execute_result",
          "data": {
            "text/plain": [
              "'friedreich ataxia friedreich ataxia inherit disease damage nervous system damage affect spinal cord nerve control muscle movement arm leg symptom usually begin age main symptom ataxia mean trouble coordinate movement specific symptom include difficulty walk muscle weakness speech problem involuntary eye movement scoliosis curve spine one side heart palpitation heart disease happen along friedreich ataxia people friedreich ataxia usually need wheelchair year symptom first appear severe case people become incapacitate cure treat symptom medicine brace surgery physical therapy nih national institute neurological disorder stroke'"
            ],
            "application/vnd.google.colaboratory.intrinsic+json": {
              "type": "string"
            }
          },
          "metadata": {},
          "execution_count": 156
        }
      ]
    },
    {
      "cell_type": "code",
      "source": [
        "from sklearn.feature_extraction.text import TfidfVectorizer\n",
        "from sklearn.metrics.pairwise import cosine_distances, cosine_similarity"
      ],
      "metadata": {
        "id": "xm2o0Q89wSlH"
      },
      "execution_count": null,
      "outputs": []
    },
    {
      "cell_type": "code",
      "source": [
        "def reranked_ids(corpus, query):\n",
        "  vectorizer = TfidfVectorizer()\n",
        "\n",
        "  X = vectorizer.fit_transform(corpus)  \n",
        "\n",
        "  query_lemmatized = [preprocess(query)]\n",
        "  query_vector = vectorizer.transform(query_lemmatized)\n",
        "\n",
        "  sims = []\n",
        "  for i in range(len(corpus)):\n",
        "    cossim = cosine_similarity(query_vector, X[i])\n",
        "    sims.append([i, cossim])\n",
        "  \n",
        "  top10 = sorted(sims, key = lambda x: x[1], reverse=True)[:10]\n",
        "\n",
        "  return [i[0] for i in top10]"
      ],
      "metadata": {
        "id": "qz411bcUC-4M"
      },
      "execution_count": null,
      "outputs": []
    },
    {
      "cell_type": "code",
      "source": [
        "reranked_ids(corpus, queries_clean['1'])"
      ],
      "metadata": {
        "colab": {
          "base_uri": "https://localhost:8080/"
        },
        "id": "q3ABnY62Du3g",
        "outputId": "bcbc7660-d9db-4187-f348-74a6da4d02d8"
      },
      "execution_count": null,
      "outputs": [
        {
          "output_type": "execute_result",
          "data": {
            "text/plain": [
              "[1, 15, 17, 11, 0, 12, 16, 8, 18, 2]"
            ]
          },
          "metadata": {},
          "execution_count": 165
        }
      ]
    },
    {
      "cell_type": "code",
      "source": [
        "new_reranked_recs = {}\n",
        "for key in queries_clean.keys():\n",
        "  query = queries_clean[key]\n",
        "  corpus = [preprocess(text) for text in cl_data[key]]\n",
        "  new_ids = reranked_ids(corpus, query)\n",
        "  new_papers = []\n",
        "  for idx in new_ids:\n",
        "    new_papers.append(data1_m[key][idx])\n",
        "  new_reranked_recs[key] = new_papers"
      ],
      "metadata": {
        "id": "yUH5rlxDwS0d"
      },
      "execution_count": null,
      "outputs": []
    },
    {
      "cell_type": "code",
      "source": [
        "with open('texts_recs_umls_m3_2_clean_reranked.json', 'w') as f:\n",
        "  json.dump(new_reranked_recs, f)"
      ],
      "metadata": {
        "id": "QcOm9-OgEUiE"
      },
      "execution_count": null,
      "outputs": []
    },
    {
      "cell_type": "markdown",
      "source": [
        "# recommendation lists evaluation"
      ],
      "metadata": {
        "id": "wdXaQlnPRq8E"
      }
    },
    {
      "cell_type": "code",
      "source": [
        "import ml_metrics\n",
        "from sklearn.metrics import ndcg_score as ndcgs"
      ],
      "metadata": {
        "id": "-zEkkNUiIcLX"
      },
      "execution_count": null,
      "outputs": []
    },
    {
      "cell_type": "code",
      "source": [
        "def top_ndcg(n, all_preds_bin, all_trues_bin):\n",
        "  pred_bin = [i[:n] for i in all_preds_bin]\n",
        "  true_bin = [i[:n] for i in all_trues_bin]\n",
        "\n",
        "  ndcg_res = []\n",
        "  for pred, true in zip(pred_bin, true_bin):\n",
        "    ndcg_res.append(ndcg_score(pred, true))\n",
        "\n",
        "  return np.mean(ndcg_res)"
      ],
      "metadata": {
        "id": "qPthZeS2gmsv"
      },
      "execution_count": null,
      "outputs": []
    },
    {
      "cell_type": "code",
      "source": [
        "def get_metrics(all_preds, all_trues):\n",
        "\n",
        "  all_data = []\n",
        "\n",
        "  ns = [1, 5, 10]\n",
        "  for n in ns:\n",
        "    scores = acc_scores(all_preds, n, all_trues)\n",
        "    print(f'Top {n} Accuracy = ', np.mean(scores))\n",
        "    all_data.append(np.mean(scores))\n",
        "\n",
        "  queries = list(zip(all_preds, all_trues))\n",
        "  mrr = mean_rr(queries)\n",
        "  print('Mean Reciprocal Rank = ', mrr)\n",
        "  all_data.append(mrr)\n",
        "\n",
        "  all_preds_bin = []\n",
        "  all_trues_bin = []\n",
        "\n",
        "  for i in range(len(all_preds)):\n",
        "    \n",
        "    i_bins = [1 for i in range(len(all_preds[i]))]\n",
        "    while len(i_bins) < 2:\n",
        "      i_bins.append(0)\n",
        "    all_preds_bin.append(i_bins)\n",
        "\n",
        "    j_bins = []\n",
        "    for pred in all_preds[i]:\n",
        "      if pred in all_trues[i]:\n",
        "        j_bins.append(1)\n",
        "      else:\n",
        "        j_bins.append(0)\n",
        "    while len(j_bins) < 2:\n",
        "      j_bins.append(0)\n",
        "    \n",
        "    all_trues_bin.append(j_bins)\n",
        "  \n",
        "  ndcg_scores = []\n",
        "  ndcg_scores_2 = []\n",
        "  for pred, true in zip(all_preds_bin, all_trues_bin):\n",
        "    ndcg_scores.append(ndcg_score(pred, true))\n",
        "    ndcg_scores_2.append(ndcgs([true], [pred]))\n",
        "\n",
        "  #ndcg_mean = np.mean(ndcg_scores)\n",
        "\n",
        "  #print(f'Mean NDCG = {ndcg_mean}')\n",
        "  #all_data.append(ndcg_mean)\n",
        "  #print(f'Mean NDCG top 3 = {top_ndcg(3, all_preds_bin, all_trues_bin)}')\n",
        "  #all_data.append(top_ndcg(5, all_preds_bin, all_trues_bin))\n",
        "  #print(f'Mean NDCG top 5 = {top_ndcg(5, all_preds_bin, all_trues_bin)}\\n\\n')\n",
        "  #all_data.append(top_ndcg(10, all_preds_bin, all_trues_bin))\n",
        "\n",
        "  ndcg_mean_2 = np.mean(ndcg_scores_2)\n",
        "  all_data.append(ndcg_mean_2)\n",
        "  print(f'Mean NDCG 2 = {ndcg_mean_2}')\n",
        "\n",
        "  for n in ns:\n",
        "    all_data.append(ml_metrics.mapk(all_trues, all_preds, n))\n",
        "    print(f'Top {n} Precision = ', ml_metrics.mapk(all_trues, all_preds, n))\n",
        "\n",
        "  #return all_data"
      ],
      "metadata": {
        "id": "OKEqGRkoTLpP"
      },
      "execution_count": null,
      "outputs": []
    },
    {
      "cell_type": "markdown",
      "source": [
        "Загружаем релевантные статьи, выбранные аннотатором"
      ],
      "metadata": {
        "id": "rZtZWyllqy4r"
      }
    },
    {
      "cell_type": "code",
      "source": [
        "# первая разметка (QuickUMLS)\n",
        "with open('true_recs.json', 'r') as f:\n",
        "  true1 = json.load(f)\n",
        "\n",
        "true1_list = [true1[str(i)] for i in range(1,76)]"
      ],
      "metadata": {
        "id": "zPDVWhpCpGIE"
      },
      "execution_count": null,
      "outputs": []
    },
    {
      "cell_type": "code",
      "source": [
        "# вторая разметка (QuickUMLS + Pyserini)\n",
        "with open('true_recs_2.json', 'r') as f:\n",
        "  true2 = json.load(f)\n",
        "\n",
        "true2_list = [true2[str(i)] for i in range(1,76)]"
      ],
      "metadata": {
        "id": "AIkaP2BupMBG"
      },
      "execution_count": null,
      "outputs": []
    },
    {
      "cell_type": "code",
      "source": [
        "# комбинация первых двух\n",
        "with open('true_recs_all.json', 'r') as f:\n",
        "  all_trues = json.load(f)\n",
        "\n",
        "all_true_list = [all_trues[str(i)] for i in range(1,76)]"
      ],
      "metadata": {
        "id": "eewJaCedo7ZO"
      },
      "execution_count": null,
      "outputs": []
    },
    {
      "cell_type": "markdown",
      "source": [
        "Загружаем списки рекомендаций"
      ],
      "metadata": {
        "id": "E1q7eCeHq4UT"
      }
    },
    {
      "cell_type": "code",
      "source": [
        "# первый список (QuickUMLS)\n",
        "with open('texts_recs_with_urls.json', 'r') as f:\n",
        "  data1 = json.load(f)\n",
        "\n",
        "umls_list1 = [data1[str(i)] for i in range(1,76)]"
      ],
      "metadata": {
        "id": "R4QRyYZwo7d6"
      },
      "execution_count": null,
      "outputs": []
    },
    {
      "cell_type": "code",
      "source": [
        "# второй список (QuickUMLS + Pyserini)\n",
        "with open('text_recs_reranked.json', 'r') as f:\n",
        "  data2 = json.load(f)\n",
        "\n",
        "umls_list2 = [data2[str(i)] for i in range(1,76)]"
      ],
      "metadata": {
        "id": "CzfrA9sxo7ie"
      },
      "execution_count": null,
      "outputs": []
    },
    {
      "cell_type": "code",
      "source": [
        "get_metrics(umls_list1, true1_list)"
      ],
      "metadata": {
        "colab": {
          "base_uri": "https://localhost:8080/"
        },
        "id": "-m8wanSvqjAt",
        "outputId": "f7db62c3-9f0e-4793-bbea-f31c2c36d76a"
      },
      "execution_count": null,
      "outputs": [
        {
          "output_type": "stream",
          "name": "stdout",
          "text": [
            "Top 1 Accuracy =  0.7066666666666667\n",
            "Top 5 Accuracy =  0.42400000000000004\n",
            "Top 10 Accuracy =  0.38266666666666665\n",
            "Mean Reciprocal Rank =  0.8013333333333333\n",
            "Mean NDCG 2 = 0.5375386096866971\n",
            "Top 1 Precision =  0.7466666666666667\n",
            "Top 5 Precision =  0.5493703703703704\n",
            "Top 10 Precision =  0.706828705803309\n"
          ]
        }
      ]
    },
    {
      "cell_type": "code",
      "source": [
        "get_metrics(umls_list2, true2_list)"
      ],
      "metadata": {
        "colab": {
          "base_uri": "https://localhost:8080/"
        },
        "id": "KCNVHIn5qSN8",
        "outputId": "bbaaf6f6-63fa-4330-a5da-064ed38d77bc"
      },
      "execution_count": null,
      "outputs": [
        {
          "output_type": "stream",
          "name": "stdout",
          "text": [
            "Top 1 Accuracy =  0.5866666666666667\n",
            "Top 5 Accuracy =  0.5013333333333333\n",
            "Top 10 Accuracy =  0.4013333333333334\n",
            "Mean Reciprocal Rank =  0.7271428571428572\n",
            "Mean NDCG 2 = 0.7010713205978142\n",
            "Top 1 Precision =  0.6133333333333333\n",
            "Top 5 Precision =  0.5698703703703704\n",
            "Top 10 Precision =  0.6824226001511715\n"
          ]
        }
      ]
    },
    {
      "cell_type": "code",
      "source": [
        "get_metrics(umls_list1, all_true_list)"
      ],
      "metadata": {
        "colab": {
          "base_uri": "https://localhost:8080/"
        },
        "id": "qVLih4KaqSVD",
        "outputId": "89753dba-8ec7-4203-8d58-bf45e50e6367"
      },
      "execution_count": null,
      "outputs": [
        {
          "output_type": "stream",
          "name": "stdout",
          "text": [
            "Top 1 Accuracy =  0.7333333333333333\n",
            "Top 5 Accuracy =  0.4373333333333334\n",
            "Top 10 Accuracy =  0.39866666666666667\n",
            "Mean Reciprocal Rank =  0.8224444444444444\n",
            "Mean NDCG 2 = 0.625451078158096\n",
            "Top 1 Precision =  0.7466666666666667\n",
            "Top 5 Precision =  0.4649407407407408\n",
            "Top 10 Precision =  0.543437303686907\n"
          ]
        }
      ]
    },
    {
      "cell_type": "code",
      "source": [
        "get_metrics(umls_list2, all_true_list)"
      ],
      "metadata": {
        "colab": {
          "base_uri": "https://localhost:8080/"
        },
        "id": "b4JcJ3rCqSbj",
        "outputId": "9dea9644-e572-4804-a61f-4fd940f5e226"
      },
      "execution_count": null,
      "outputs": [
        {
          "output_type": "stream",
          "name": "stdout",
          "text": [
            "Top 1 Accuracy =  0.6266666666666667\n",
            "Top 5 Accuracy =  0.5333333333333333\n",
            "Top 10 Accuracy =  0.43600000000000005\n",
            "Mean Reciprocal Rank =  0.7545714285714287\n",
            "Mean NDCG 2 = 0.7323411843809389\n",
            "Top 1 Precision =  0.64\n",
            "Top 5 Precision =  0.5405037037037036\n",
            "Top 10 Precision =  0.5939717330141934\n"
          ]
        }
      ]
    },
    {
      "cell_type": "markdown",
      "source": [
        "Оценка смешанной системы с уже переранжированными статьями (QuickUMLS + BERT + TF-IDF)"
      ],
      "metadata": {
        "id": "RFuMygp0r8Me"
      }
    },
    {
      "cell_type": "code",
      "source": [
        "with open('true_recs_3.json', 'r') as f:\n",
        "  true3 = json.load(f)\n",
        "\n",
        "true3_list = [true3[str(i)] for i in range(1,76)]"
      ],
      "metadata": {
        "id": "ga24s2lCSrRN"
      },
      "execution_count": null,
      "outputs": []
    },
    {
      "cell_type": "code",
      "source": [
        "with open('texts_recs_umls_m3_2_clean_reranked.json', 'r') as f:\n",
        "  data_rer = json.load(f)\n",
        "\n",
        "rer_list = [data_rer[str(i)] for i in range(1,76)]"
      ],
      "metadata": {
        "id": "GqJvw4_bSrVe"
      },
      "execution_count": null,
      "outputs": []
    },
    {
      "cell_type": "code",
      "source": [
        "get_metrics(rer_list, true3_list)"
      ],
      "metadata": {
        "colab": {
          "base_uri": "https://localhost:8080/"
        },
        "id": "KscuIeqfTMFu",
        "outputId": "63645766-4ebf-45fd-ecc3-f780811d5af0"
      },
      "execution_count": null,
      "outputs": [
        {
          "output_type": "stream",
          "name": "stdout",
          "text": [
            "Top 1 Accuracy =  0.8133333333333334\n",
            "Top 5 Accuracy =  0.6426666666666666\n",
            "Top 10 Accuracy =  0.48800000000000004\n",
            "Mean Reciprocal Rank =  0.8888888888888887\n",
            "Mean NDCG 2 = 0.7591453183415241\n",
            "Top 1 Precision =  0.8266666666666667\n",
            "Top 5 Precision =  0.6495518518518517\n",
            "Top 10 Precision =  0.7799652053413957\n"
          ]
        }
      ]
    },
    {
      "cell_type": "markdown",
      "source": [
        "# additional research"
      ],
      "metadata": {
        "id": "HOKrMqiotMh4"
      }
    },
    {
      "cell_type": "markdown",
      "source": [
        "Немного изменим вывод функции и посмотрим на крайние значения"
      ],
      "metadata": {
        "id": "xBeiLuLDsYkN"
      }
    },
    {
      "cell_type": "code",
      "source": [
        "def get_metrics(all_preds, all_trues):\n",
        "\n",
        "  all_data = []\n",
        "  return_data = []\n",
        "  ns = [1, 5, 10]\n",
        "  for n in ns:\n",
        "    scores = acc_scores(all_preds, n, all_trues)\n",
        "    return_data.append(scores)\n",
        "    print(f'Top {n} Accuracy = ', np.mean(scores))\n",
        "    all_data.append(np.mean(scores))\n",
        "\n",
        "  queries = list(zip(all_preds, all_trues))\n",
        "  mrr = mean_rr(queries)\n",
        "  print('Mean Reciprocal Rank = ', mrr)\n",
        "  all_data.append(mrr)\n",
        "  return_data.append(mrr)\n",
        "\n",
        "  all_preds_bin = []\n",
        "  all_trues_bin = []\n",
        "\n",
        "  for i in range(len(all_preds)):\n",
        "    \n",
        "    i_bins = [1 for i in range(len(all_preds[i]))]\n",
        "    while len(i_bins) < 2:\n",
        "      i_bins.append(0)\n",
        "    all_preds_bin.append(i_bins)\n",
        "\n",
        "    j_bins = []\n",
        "    for pred in all_preds[i]:\n",
        "      if pred in all_trues[i]:\n",
        "        j_bins.append(1)\n",
        "      else:\n",
        "        j_bins.append(0)\n",
        "    while len(j_bins) < 2:\n",
        "      j_bins.append(0)\n",
        "    \n",
        "    all_trues_bin.append(j_bins)\n",
        "  \n",
        "  #ndcg_scores = []\n",
        "  ndcg_scores_2 = []\n",
        "  for pred, true in zip(all_preds_bin, all_trues_bin):\n",
        "    #ndcg_scores.append(ndcg_score(pred, true))\n",
        "    ndcg_scores_2.append(ndcgs([true], [pred]))\n",
        "  \n",
        "  return_data.append(ndcg_scores_2)\n",
        "\n",
        "  ndcg_mean_2 = np.mean(ndcg_scores_2)\n",
        "  all_data.append(ndcg_mean_2)\n",
        "  print(f'Mean NDCG 2 = {ndcg_mean_2}')\n",
        "\n",
        "  for n in ns:\n",
        "    all_data.append(ml_metrics.mapk(all_trues, all_preds, n))\n",
        "    print(f'Top {n} Precision = ', ml_metrics.mapk(all_trues, all_preds, n))\n",
        "\n",
        "  #return all_data\n",
        "  return return_data"
      ],
      "metadata": {
        "id": "YpnvkEbc2tqT"
      },
      "execution_count": null,
      "outputs": []
    },
    {
      "cell_type": "code",
      "source": [
        "retdata = get_metrics(umls_list2, true2_list)"
      ],
      "metadata": {
        "colab": {
          "base_uri": "https://localhost:8080/"
        },
        "id": "2-NLdRAvRhXp",
        "outputId": "e4e6fcbf-346f-4afb-f7db-407f702d9c63"
      },
      "execution_count": null,
      "outputs": [
        {
          "output_type": "stream",
          "name": "stdout",
          "text": [
            "Top 1 Accuracy =  0.5866666666666667\n",
            "Top 5 Accuracy =  0.5013333333333333\n",
            "Top 10 Accuracy =  0.4013333333333334\n",
            "Mean Reciprocal Rank =  0.7271428571428572\n",
            "Mean NDCG 2 = 0.7010713205978142\n",
            "Top 1 Precision =  0.6133333333333333\n",
            "Top 5 Precision =  0.5698703703703704\n",
            "Top 10 Precision =  0.6824226001511715\n"
          ]
        }
      ]
    },
    {
      "cell_type": "code",
      "source": [
        "#model 1\n",
        "print(min(retdata[0]), max(retdata[0]))\n",
        "print(min(retdata[1]), max(retdata[1]))\n",
        "print(min(retdata[2]), max(retdata[2]))\n",
        "print(min(retdata[4]), max(retdata[4]))"
      ],
      "metadata": {
        "colab": {
          "base_uri": "https://localhost:8080/"
        },
        "id": "5F1fdeNqSkLz",
        "outputId": "ce7e0d48-76da-463e-ceb1-8225d2da4b14"
      },
      "execution_count": null,
      "outputs": [
        {
          "output_type": "stream",
          "name": "stdout",
          "text": [
            "0.0 1.0\n",
            "0.0 0.8\n",
            "0.0 0.9\n",
            "0.0 0.9208156945822442\n"
          ]
        }
      ]
    },
    {
      "cell_type": "code",
      "source": [
        "#model 2\n",
        "print(min(retdata[0]), max(retdata[0]))\n",
        "print(min(retdata[1]), max(retdata[1]))\n",
        "print(min(retdata[2]), max(retdata[2]))\n",
        "print(min(retdata[4]), max(retdata[4]))"
      ],
      "metadata": {
        "colab": {
          "base_uri": "https://localhost:8080/"
        },
        "id": "Jjwh217NSqO9",
        "outputId": "1dc574cb-1a4a-40ae-c939-0148915acc82"
      },
      "execution_count": null,
      "outputs": [
        {
          "output_type": "stream",
          "name": "stdout",
          "text": [
            "0.0 1.0\n",
            "0.0 1.0\n",
            "0.0 1.0\n",
            "0.0 1.0\n"
          ]
        }
      ]
    },
    {
      "cell_type": "code",
      "source": [
        "#model 3\n",
        "print(min(retdata[0]), max(retdata[0]))\n",
        "print(min(retdata[1]), max(retdata[1]))\n",
        "print(min(retdata[2]), max(retdata[2]))\n",
        "print(min(retdata[4]), max(retdata[4]))"
      ],
      "metadata": {
        "colab": {
          "base_uri": "https://localhost:8080/"
        },
        "id": "8iK3MkgHRn4Q",
        "outputId": "fa35f7a7-6ca0-404b-ab3c-6b44c68b1799"
      },
      "execution_count": null,
      "outputs": [
        {
          "output_type": "stream",
          "name": "stdout",
          "text": [
            "0.0 1.0\n",
            "0.0 1.0\n",
            "0.0 1.0\n",
            "0.0 1.0\n"
          ]
        }
      ]
    },
    {
      "cell_type": "code",
      "source": [
        ""
      ],
      "metadata": {
        "id": "qqvNvicgQMRL"
      },
      "execution_count": null,
      "outputs": []
    },
    {
      "cell_type": "code",
      "source": [
        "with open('umls_ngrams.json', 'r') as f:\n",
        "  umls_ners = json.load(f)"
      ],
      "metadata": {
        "id": "4_zrMy183nzc"
      },
      "execution_count": null,
      "outputs": []
    },
    {
      "cell_type": "code",
      "source": [
        "with open('umls_m3_2_terms.json', 'r') as f:\n",
        "  mixed_terms = json.load(f)"
      ],
      "metadata": {
        "id": "L0-6VVAZ5duz"
      },
      "execution_count": null,
      "outputs": []
    },
    {
      "cell_type": "code",
      "source": [
        "for i in true1.keys():\n",
        "  if true1[i] == []:\n",
        "    print(f'T1 = {i} {len(data1[i])} {umls_ners[i]}')\n",
        "    print(mixed_terms[i])\n",
        "    print(len(true3[i]))    \n",
        "  if true2[i] == []:\n",
        "    print(f'T2 = {i} {len(data2[i])} {umls_ners[i]}')\n",
        "    print(len(true3[i]))\n",
        "    print(mixed_terms[i])\n",
        "  if true3[i] == []:\n",
        "    print(f'T3 = {i} {len(data_rer[i])} {mixed_terms[i]}')\n",
        "    print(umls_ners[i])"
      ],
      "metadata": {
        "colab": {
          "base_uri": "https://localhost:8080/"
        },
        "id": "Bi9cE2PB2tuP",
        "outputId": "41abc9ab-031e-4e82-9846-654d3385b95a"
      },
      "execution_count": null,
      "outputs": [
        {
          "output_type": "stream",
          "name": "stdout",
          "text": [
            "T2 = 10 6 ['systemic mastocytosis', 'flushing']\n",
            "3\n",
            "['systemic mastocytosis', 'flushing', '125 mg iv steroids', 'prenisone taper', 'her home histamine receptor blockers', 'calcium', 'tacardia', 'vitamin d', 'iv steroids', 'adverse reaction', 'another flare', 'steroid taper', 'flare', 'serum tryptase', 'benadryl', 'her home meds', 'iv benadryl', 'gi prophylaxis', 'iv diphenydramine', 'ss bactrim', 'aspirin challenge', 'po steroids']\n",
            "T1 = 22 24 ['malaise', 'abscess', 'poor appetite', 'leukocytosis', 'abdominal discomfort', 'gangrene', 'tenderness']\n",
            "['malaise', 'abscess', 'poor appetite', 'leukocytosis', 'abdominal discomfort', 'gangrene', 'tenderness', 'palon of the right lower quadrant', 'pain on the right lab work', 'guarding', 'absces', 'general anesthesia', 'computed tomography of the abdomen with contrast', 'palon of the left lower quadrant', 'distended appendix', 'laparoscopic appendectomy', 'perfor', 'diffuse abdominal discomfort', 'pain', 'focal tenderness', 'thickened appendiceal wall', 'abdominal pain']\n",
            "5\n",
            "T1 = 66 1 ['hashimoto disease']\n",
            "['hashimoto disease', 'her lab results', 'weight gain', 'her bmi', 'abnormal menstrual cycles', 'low free t4 levels', 'her anti - tpo levels', 'high tsh levels']\n",
            "4\n",
            "T1 = 67 0 []\n",
            "['pap smear', 'abnormal cervical squamous intraepithelial/glandular lesion']\n",
            "3\n",
            "T2 = 67 0 []\n",
            "3\n",
            "['pap smear', 'abnormal cervical squamous intraepithelial/glandular lesion']\n",
            "T3 = 69 10 ['allergies', 'flu', 'underlying disease', 'daily multivitamins', 'her flu shot', 'anti - hypertensive drugs']\n",
            "['allergies', 'flu']\n"
          ]
        }
      ]
    },
    {
      "cell_type": "code",
      "source": [
        "with open('descriptions.json', 'r') as f:\n",
        "  texts = json.load(f)"
      ],
      "metadata": {
        "id": "lf4RpsZx41Gj"
      },
      "execution_count": null,
      "outputs": []
    },
    {
      "cell_type": "code",
      "source": [
        "texts['67']"
      ],
      "metadata": {
        "id": "SSYD_Q2fTMJZ",
        "colab": {
          "base_uri": "https://localhost:8080/",
          "height": 70
        },
        "outputId": "38f6563b-3c3e-4d53-ffd6-376a6f94d81a"
      },
      "execution_count": null,
      "outputs": [
        {
          "output_type": "execute_result",
          "data": {
            "text/plain": [
              "'\\nA Pap smear in a 54-year-old woman revealed abnormal cervical squamous intraepithelial/glandular lesion. She tested positive for HPV 16. She is sexually active with her husband and has 4 children. She is menopausal and uses no contraception. She smokes and drinks alcohol frequently. She is otherwise healthy. She was offered conization.\\n'"
            ],
            "application/vnd.google.colaboratory.intrinsic+json": {
              "type": "string"
            }
          },
          "metadata": {},
          "execution_count": 20
        }
      ]
    },
    {
      "cell_type": "code",
      "source": [
        ""
      ],
      "metadata": {
        "id": "KifnzuALTMNY"
      },
      "execution_count": null,
      "outputs": []
    }
  ]
}