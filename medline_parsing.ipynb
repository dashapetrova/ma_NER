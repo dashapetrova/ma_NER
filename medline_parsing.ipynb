{
  "nbformat": 4,
  "nbformat_minor": 0,
  "metadata": {
    "colab": {
      "name": "medline_parsing.ipynb",
      "provenance": [],
      "collapsed_sections": []
    },
    "kernelspec": {
      "name": "python3",
      "display_name": "Python 3"
    },
    "language_info": {
      "name": "python"
    }
  },
  "cells": [
    {
      "cell_type": "code",
      "source": [
        "from google.colab import drive\n",
        "drive.mount('/content/gdrive') #, force_remount=True"
      ],
      "metadata": {
        "colab": {
          "base_uri": "https://localhost:8080/"
        },
        "id": "UWhmkIdRwb2F",
        "outputId": "2631b03e-cd2e-4e44-b667-c4401f42c889"
      },
      "execution_count": null,
      "outputs": [
        {
          "output_type": "stream",
          "name": "stdout",
          "text": [
            "Mounted at /content/gdrive\n"
          ]
        }
      ]
    },
    {
      "cell_type": "code",
      "source": [
        "import os\n",
        "os.chdir('gdrive/My Drive/Colab Notebooks/miramedix')"
      ],
      "metadata": {
        "id": "HhUvlhs9wede"
      },
      "execution_count": null,
      "outputs": []
    },
    {
      "cell_type": "markdown",
      "source": [
        "# import"
      ],
      "metadata": {
        "id": "WCOjgeEC3r80"
      }
    },
    {
      "cell_type": "code",
      "source": [
        "import re\n",
        "import requests\n",
        "import json\n",
        "\n",
        "import xml.etree.ElementTree as ET\n",
        "\n",
        "\n",
        "from bs4 import BeautifulSoup\n",
        "from nltk import sent_tokenize"
      ],
      "metadata": {
        "id": "-QO413Oy3qoi"
      },
      "execution_count": null,
      "outputs": []
    },
    {
      "cell_type": "markdown",
      "source": [
        "# load extracted terms (UMLS)"
      ],
      "metadata": {
        "id": "Cidr27Vsnop3"
      }
    },
    {
      "cell_type": "code",
      "source": [
        "import json\n",
        "\n",
        "with open('terms_filtered_4.json', 'r') as f:\n",
        "  annot_dict = json.load(f)"
      ],
      "metadata": {
        "id": "KKveH_7ao7WS"
      },
      "execution_count": null,
      "outputs": []
    },
    {
      "cell_type": "code",
      "source": [
        "for i in annot_dict.keys():\n",
        "  print(i, len(annot_dict[i][0]))\n",
        "  break"
      ],
      "metadata": {
        "colab": {
          "base_uri": "https://localhost:8080/"
        },
        "id": "tYiywH0WpDzJ",
        "outputId": "98a82369-d891-473c-f602-a660e920cca8"
      },
      "execution_count": null,
      "outputs": [
        {
          "output_type": "stream",
          "name": "stdout",
          "text": [
            "1 5\n"
          ]
        }
      ]
    },
    {
      "cell_type": "code",
      "source": [
        "for i in annot_dict['1'][0]:\n",
        "  print(i['term'])"
      ],
      "metadata": {
        "colab": {
          "base_uri": "https://localhost:8080/"
        },
        "id": "vWa6zb--pZBQ",
        "outputId": "7c55d5f0-e974-4d65-c754-0b47d1355987"
      },
      "execution_count": null,
      "outputs": [
        {
          "output_type": "stream",
          "name": "stdout",
          "text": [
            "anaplastic astrocytomas\n",
            "anaplastic astrocytoma\n",
            "hypertension\n",
            "tumor\n",
            "thigh numbness\n"
          ]
        }
      ]
    },
    {
      "cell_type": "markdown",
      "source": [
        "# Medline search"
      ],
      "metadata": {
        "id": "4wUch5C2lRFC"
      }
    },
    {
      "cell_type": "code",
      "source": [
        "def medlineplus_search_by_term(term):\n",
        "    \n",
        "    #retmax - максимальное число возвращаемых текстов\n",
        "    url = 'https://wsearch.nlm.nih.gov/ws/query?db=healthTopics&term={}&retmax=3'.format(term) #5\n",
        "    data = requests.get(url)\n",
        "    string_xml = data.content\n",
        "    tree = ET.fromstring(string_xml)\n",
        "    titles = []\n",
        "    urls = []\n",
        "    texts = []\n",
        "\n",
        "    for el in tree:\n",
        "        if el.tag == 'list':\n",
        "            for j in el:\n",
        "                urls.append(j.attrib['url'] + '\\n')\n",
        "                for k in j:\n",
        "                    if k.attrib['name'] == 'title':\n",
        "                        titles.append('<h1>' + k.text + '</h1> \\n')\n",
        "                    elif k.attrib['name'] == 'FullSummary':\n",
        "                        texts.append(k.text + '\\n')\n",
        "                        \n",
        "    result = [x + y + z for x, y, z in zip(titles, urls, texts)]\n",
        "    #ru_titles = [get_translation(x, 'en', 'ru') for x in titles]\n",
        "    \n",
        "    return result#, titles, texts, ru_titles"
      ],
      "metadata": {
        "id": "mXFiUgUvigZr"
      },
      "execution_count": null,
      "outputs": []
    },
    {
      "cell_type": "code",
      "source": [
        "medlineplus_search_by_term('hypertension')"
      ],
      "metadata": {
        "colab": {
          "base_uri": "https://localhost:8080/"
        },
        "id": "lBudI6Pn4KzJ",
        "outputId": "e9904ae4-9d76-4ba4-95f9-e901ede75431"
      },
      "execution_count": null,
      "outputs": [
        {
          "output_type": "execute_result",
          "data": {
            "text/plain": [
              "['<h1><span class=\"qt0\"><span class=\"qt1\">High Blood Pressure</span></span></h1> \\nhttps://medlineplus.gov/highbloodpressure.html\\nWhat is blood pressure?<p>Blood pressure is the force of your blood pushing against the walls of your arteries. Each time your heart beats, it pumps blood into the arteries. Your <span class=\"qt0\"><span class=\"qt1\">blood pressure is highest</span></span> when your heart beats, pumping the blood. This is called systolic pressure. When your heart is at rest, between beats, your blood pressure falls. This is called diastolic pressure.</p><p>Your blood pressure reading uses these two numbers. Usually the systolic number comes before or above the diastolic number. For example, 120/80 means a systolic of 120 and a diastolic of 80.</p>How is <span class=\"qt0\"><span class=\"qt1\">high blood pressure</span></span> diagnosed?<p><span class=\"qt0\"><span class=\"qt1\">High blood pressure</span></span> usually has no symptoms. So the only way to find out if you have it is to get regular blood pressure checks from your health care provider. Your provider will use a gauge, a stethoscope or electronic sensor, and a blood pressure cuff. He or she will take two or more readings at separate appointments before making a diagnosis.</p>Blood Pressure CategorySystolic Blood PressureDiastolic Blood PressureNormalLess than 120andLess than 80High Blood Pressure (no other heart risk factors)140 or higheror90 or higherHigh Blood Pressure (with other heart risk factors, according to some providers)130 or higheror80 or higherDangerously <span class=\"qt0\"><span class=\"qt1\">high blood pressure</span></span> - seek medical care right away180 or higherand120 or higher<p>For children and teens, the health care provider compares the blood pressure reading to what is normal for other kids who are the same age, height, and sex.</p>What are the different types of <span class=\"qt0\"><span class=\"qt1\">high blood pressure</span></span>?<p>There are two main types of <span class=\"qt0\"><span class=\"qt1\">high blood pressure</span></span>: primary and secondary <span class=\"qt0\"><span class=\"qt1\">high blood pressure</span></span>.:</p><ul><li>Primary, or essential, <span class=\"qt0\"><span class=\"qt1\">high blood pressure</span></span> is the most common type of <span class=\"qt0\"><span class=\"qt1\">high blood pressure</span></span>. For most people who get this kind of blood pressure, it develops over time as you get older.</li><li>Secondary <span class=\"qt0\"><span class=\"qt1\">high blood pressure</span></span> is caused by another medical condition or use of certain medicines. It usually gets better after you treat that condition or stop taking the medicines that are causing it.</li></ul>Why do I need to worry about <span class=\"qt0\"><span class=\"qt1\">high blood pressure</span></span>?<p>When your blood pressure stays high over time, it causes the heart to pump harder and work overtime, possibly leading to serious health problems such as heart attack, stroke, heart failure, and kidney failure.</p>What are the treatments for <span class=\"qt0\"><span class=\"qt1\">high blood pressure</span></span>?<p>Treatments for <span class=\"qt0\"><span class=\"qt1\">high blood pressure</span></span> include heart-healthy lifestyle changes and medicines.</p><p>You will work with your provider to come up with a treatment plan. It may include only the lifestyle changes. These changes, such as heart-healthy eating and exercise, can be very effective. But sometimes the changes do not control or lower your <span class=\"qt0\"><span class=\"qt1\">high blood pressure</span></span>. Then you may need to take medicine. There are different types of blood pressure medicines. Some people need to take more than one type.</p><p>If your <span class=\"qt0\"><span class=\"qt1\">high blood pressure</span></span> is caused by another medical condition or medicine, treating that condition or stopping the medicine may lower your blood pressure.</p><p>NIH: National Heart, Lung, and Blood Institute</p>\\n',\n",
              " '<h1>Pulmonary <span class=\"qt0\"><span class=\"qt1\">Hypertension</span></span></h1> \\nhttps://medlineplus.gov/pulmonaryhypertension.html\\n<p>Pulmonary <span class=\"qt0\"><span class=\"qt1\">hypertension</span></span> (PH) is <span class=\"qt0\"><span class=\"qt1\">high blood pressure</span></span> in the arteries to your lungs. It is a serious condition. If you have it, the blood vessels that carry blood from your heart to your lungs become hard and narrow. Your heart has to work harder to pump the blood through. Over time, your heart weakens and cannot do its job and you can develop heart failure. </p><p>Symptoms of PH  include:</p><ul><li>Shortness of breath during routine activity, such as climbing two flights of stairs</li><li>Tiredness</li><li>Chest pain</li><li>A racing heartbeat</li><li>Pain on the upper right side of the abdomen</li><li>Decreased appetite</li></ul><p>As PH worsens, you may find it hard to do any physical activities.</p><p>There are two main kinds of PH. One runs in families or appears for no known reason. The other kind is related to another condition, usually heart or lung disease. </p><p>There is no cure for PH. Treatments can control symptoms.  They involve treating the heart or lung disease, medicines, oxygen, and sometimes lung transplantation.</p><p>NIH: National Heart, Lung, and Blood Institute</p>\\n',\n",
              " '<h1>How to Prevent <span class=\"qt0\"><span class=\"qt1\">High Blood Pressure</span></span></h1> \\nhttps://medlineplus.gov/howtopreventhighbloodpressure.html\\n<p>More than 1 in 3 adults in the U.S. has <span class=\"qt0\"><span class=\"qt1\">high blood pressure, or hypertension</span></span>. Many of those people don\\'t know they have it, because there are usually no warning signs. This can be dangerous, because <span class=\"qt0\"><span class=\"qt1\">high blood pressure</span></span> can lead to life-threatening conditions like heart attack or stroke. The good news is that you can often prevent or treat <span class=\"qt0\"><span class=\"qt1\">high blood pressure</span></span>. Early diagnosis and heart-healthy lifestyle changes can keep <span class=\"qt0\"><span class=\"qt1\">high blood pressure</span></span> from seriously damaging your health.</p>What is blood pressure?<p>Blood pressure is the force of your blood pushing against the walls of your arteries. Each time your heart beats, it pumps blood into the arteries. Your <span class=\"qt0\"><span class=\"qt1\">blood pressure is highest</span></span> when your heart beats, pumping the blood. This is called systolic pressure. When your heart is at rest, between beats, your blood pressure falls. This is called diastolic pressure.</p><p>Your blood pressure reading uses these two numbers. Usually the systolic number comes before or above the diastolic number. For example, 120/80 means a systolic of 120 and a diastolic of 80.</p>How is <span class=\"qt0\"><span class=\"qt1\">high blood pressure</span></span> diagnosed?<p><span class=\"qt0\"><span class=\"qt1\">High blood pressure</span></span> usually has no symptoms. So the only way to find out if you have it is to get regular blood pressure checks from your health care provider. Your provider will use a gauge, a stethoscope or electronic sensor, and a blood pressure cuff. He or she will take two or more readings at separate appointments before making a diagnosis.</p>Blood Pressure CategorySystolic Blood PressureDiastolic Blood PressureNormalLess than 120andLess than 80High Blood Pressure (no other heart risk factors)140 or higheror90 or higherHigh Blood Pressure (with other heart risk factors, according to some providers)130 or higheror80 or higherDangerously <span class=\"qt0\"><span class=\"qt1\">high blood pressure</span></span> - seek medical care right away180 or higherand120 or higher<p>For children and teens, the health care provider compares the blood pressure reading to what is normal for other kids who are the same age, height, and gender.</p><p>People with diabetes or chronic kidney disease should keep their blood pressure below 130/80.</p>Who is at risk for <span class=\"qt0\"><span class=\"qt1\">high blood pressure</span></span>?<p>Anyone can develop <span class=\"qt0\"><span class=\"qt1\">high blood pressure</span></span>, but there are certain factors that can increase your risk:</p><ul><li>Age - Blood pressure tends to rise with age</li><li>Race/Ethnicity - <span class=\"qt0\"><span class=\"qt1\">High blood pressure</span></span> is more common in African American adults</li><li>Weight - People who are overweight or have obesity are more likely to develop <span class=\"qt0\"><span class=\"qt1\">high blood pressure</span></span></li><li>Sex - Before age 55, men are more likely than women to develop <span class=\"qt0\"><span class=\"qt1\">high blood pressure</span></span>. After age 55, women are more likely than men to develop it.</li><li>Lifestyle - Certain lifestyle habits can raise your risk for <span class=\"qt0\"><span class=\"qt1\">high blood pressure</span></span>, such as eating too much sodium (salt) or not enough potassium, lack of exercise, drinking too much alcohol, and smoking.</li><li>Family history - A family history of <span class=\"qt0\"><span class=\"qt1\">high blood pressure</span></span> raises the risk of developing <span class=\"qt0\"><span class=\"qt1\">high blood pressure</span></span></li></ul>How can I prevent <span class=\"qt0\"><span class=\"qt1\">high blood pressure</span></span>?<p>You can help prevent <span class=\"qt0\"><span class=\"qt1\">high blood pressure</span></span> by having a healthy lifestyle. This means:</p><ul><li>Eating a healthy diet. To help manage your blood pressure, you should limit the amount of sodium (salt) that you eat and increase the amount of potassium in your diet. It is also important to eat foods that are lower in fat, as well as plenty of fruits, vegetables, and whole grains. The DASH eating plan is an example of an eating plan that can help you to lower your blood pressure.</li><li>Getting regular exercise. Exercise can help you maintain a healthy weight and lower your blood pressure. You should try to get moderate-intensity aerobic exercise at least 2 and a half hours per week, or vigorous-intensity aerobic exercise for 1 hour and 15 minutes per week. Aerobic exercise, such as brisk walking, is any exercise in which your heart beats harder and you use more oxygen than usual.</li><li>Being at a healthy weight. Being overweight or having obesity increases your risk for <span class=\"qt0\"><span class=\"qt1\">high blood pressure</span></span>. Maintaining a healthy weight can help you control <span class=\"qt0\"><span class=\"qt1\">high blood pressure</span></span> and reduce your risk for other health problems.</li><li>Limiting alcohol. Drinking too much alcohol can raise your blood pressure. It also adds extra calories, which may cause weight gain. Men should have no more than two drinks per day, and women only one.</li><li>Not smoking. Cigarette smoking raises your blood pressure and puts you at higher risk for heart attack and stroke. If you do not smoke, do not start. If you do smoke, talk to your health care provider for help in finding the best way for you to quit.</li><li>Managing stress. Learning how to relax and manage stress can improve your emotional and physical health and lower <span class=\"qt0\"><span class=\"qt1\">high blood pressure</span></span>. Stress management techniques include exercising, listening to music, focusing on something calm or peaceful, and meditating.</li></ul><p>If you already have <span class=\"qt0\"><span class=\"qt1\">high blood pressure</span></span>, it is important to prevent it from getting worse or causing complications. You should get regular medical care and follow your prescribed treatment plan. Your plan will include healthy lifestyle habit recommendations and possibly medicines.</p><p>NIH: National Heart, Lung, and Blood Institute</p>\\n']"
            ]
          },
          "metadata": {},
          "execution_count": 5
        }
      ]
    },
    {
      "cell_type": "code",
      "source": [
        "stop_words = ['1-2', '1-2 times', '1 time per day', '2 times', '3 mm', '3 times', '4 times', '5 mm', \n",
        "              '6-10 times',\n",
        "              'abdominal', 'Abreaction', 'absences', 'Activity', 'admission', 'advice', 'anesthesia', \n",
        "              'anesthesias', 'Anesthetic', \n",
        "              'anesthetic', 'Appearance', 'Application', 'application', 'applications', 'arm',\n",
        "              'Asleep', 'asleep', 'asymptomatic', 'at admission', 'At home', 'attacks',\n",
        "              'Bacterium', 'bleed', 'bleeding', 'bleeding time', 'Blood', 'blood', 'Bloody', 'burning',\n",
        "              'burnings',\n",
        "              'carried', 'Chronic', 'Center', 'Clearance', 'clinical diagnosis', 'Coagulation', 'coagulation',\n",
        "              'complaints', 'condition', 'confirmed', 'consideration', 'Constriction', 'constriction', \n",
        "              'Consultation', 'consultation', 'consultations', 'Contact', 'contact',\n",
        "              'day', 'decreas', 'decreased', 'determination', 'Development', 'development', 'diagnose', \n",
        "              'diagnosed', 'diagnosis', 'difficulty', 'disc', 'disappointment', 'Discharge',\n",
        "              'discharge', 'Discharged', 'disease', 'diseases', 'disorders', 'drugs', 'dysfunction',\n",
        "              'effect', 'elevation', 'emergency', 'Emotional', 'emotional', 'Erythrocytes', 'Examination', \n",
        "              'examination', 'examinations', 'Examined', 'examined', 'Exercise', 'exercises', 'extraction',\n",
        "              'falls', 'field', 'first sign', 'first signs', 'Followed', 'follow-up', 'food',\n",
        "              'gas', 'General', 'grade', 'gradex', 'groups',\n",
        "              'Hemoglobin', 'hospitalized',\n",
        "              'Improved', 'improved', 'Increased', 'injection', 'intervention', 'intolerance', 'Intolerance', \n",
        "              'irradiation', 'irritable',\n",
        "              'Laboratory', 'lead increased', 'lesion', 'lesions', 'Leukocytes', 'Local', 'Low', 'low',\n",
        "              'Medical', 'Medications', 'medications', 'Monitoring', 'monitoring', 'Multifocals',\n",
        "              'Negative', 'negative', 'No development', 'noises', 'Nonspecific',\n",
        "              'organ', 'organs', 'outpatient treatment',\n",
        "              'Pain', 'pain', 'pains', 'palpation', 'pathology', 'Perform', 'Physical', 'place of residence',\n",
        "              'plication', 'Positive', 'positive', 'Potassium+', 'prescribed', 'Presence', 'presence',\n",
        "              'presences', 'Present', 'present', 'preserved', 'Pressure', 'pressure', 'pressures', \n",
        "              'Prevention', 'prevention', 'Prophylactic', 'Prosthesis', 'prosthesis', 'Protein', 'psych',\n",
        "              'Reapplication', 'red blood cells', 'Referred', 'Reirradiation', 'Regional', 'Registered', \n",
        "              'Release', 'release', 'removal', 'Repair', 'repair', 'repairs', 'report',  'Report', 'reports',\n",
        "              'resistance index', 'Result',\n",
        "              'seizures', 'setting', 'Severe', 'severe', 'sharp pain', 'shortening', 'Single', 'single', \n",
        "              'Smoking', 'spells', \n",
        "              'stabilize', 'stage', 'Surgical', 'stabilized', 'study', 'surgery', 'surgical intervention', \n",
        "              'Susceptible', 'swollen', 'Symptomatic', 'syndrome',\n",
        "              'Therapeutic', 'Therapy', 'therapy', 'Thoracic', 'thr', 'Thrombocytes', 'Tolerance', 'tolerance', \n",
        "              'tolerances', 'Treatment', 'treatment',\n",
        "              'ultrasound', 'ultrasounds', 'Undifferentiated',\n",
        "              'W exercise', 'weakness', 'weight',\n",
        "              'year']"
      ],
      "metadata": {
        "id": "8sEImBp-7lF3"
      },
      "execution_count": null,
      "outputs": []
    },
    {
      "cell_type": "code",
      "source": [
        "from nltk.corpus import stopwords\n",
        "\n",
        "import nltk\n",
        "nltk.download('stopwords')"
      ],
      "metadata": {
        "colab": {
          "base_uri": "https://localhost:8080/"
        },
        "id": "AW4iMkd3l4ij",
        "outputId": "042b5d1c-bad0-4565-d448-9b1da2d38928"
      },
      "execution_count": null,
      "outputs": [
        {
          "output_type": "stream",
          "name": "stdout",
          "text": [
            "[nltk_data] Downloading package stopwords to /root/nltk_data...\n",
            "[nltk_data]   Unzipping corpora/stopwords.zip.\n"
          ]
        },
        {
          "output_type": "execute_result",
          "data": {
            "text/plain": [
              "True"
            ]
          },
          "metadata": {},
          "execution_count": 7
        }
      ]
    },
    {
      "cell_type": "code",
      "source": [
        "import os\n",
        "\n",
        "models = os.listdir('ner_results_2ver') #в ver1 не включаем модель 1, она не подходит\n",
        "models"
      ],
      "metadata": {
        "colab": {
          "base_uri": "https://localhost:8080/"
        },
        "id": "ldi_jAA8DwzB",
        "outputId": "cbb7d6f0-cb08-49da-a659-3f7d6e7b294c"
      },
      "execution_count": null,
      "outputs": [
        {
          "output_type": "execute_result",
          "data": {
            "text/plain": [
              "['ner_pretrained_m9.json',\n",
              " 'ner_pretrained_m9_2.json',\n",
              " 'ner_pretrained_m8_2.json',\n",
              " 'ner_pretrained_m8.json',\n",
              " 'ner_pretrained_m3.json',\n",
              " 'ner_pretrained_m3_2.json',\n",
              " 'ner_pretrained_m4.json',\n",
              " 'ner_pretrained_m4_2.json',\n",
              " 'ner_pretrained_m5.json',\n",
              " 'ner_pretrained_m5_2.json',\n",
              " 'ner_pretrained_m6.json',\n",
              " 'ner_pretrained_m6_2.json',\n",
              " 'ner_pretrained_m7_2.json',\n",
              " 'ner_pretrained_m7.json',\n",
              " 'filtered']"
            ]
          },
          "metadata": {},
          "execution_count": 8
        }
      ]
    },
    {
      "cell_type": "code",
      "source": [
        "with open('ner_results_2ver/ner_pretrained_m9_2.json', 'r') as f:\n",
        "  terms = json.load(f)"
      ],
      "metadata": {
        "id": "cZf1hPmOPayc"
      },
      "execution_count": null,
      "outputs": []
    },
    {
      "cell_type": "code",
      "source": [
        "#после оценки ner был выбран следующий файл (как финальный результат по ner)\n",
        "with open('umls_m3_2_terms.json', 'r') as f:\n",
        "  terms = json.load(f)"
      ],
      "metadata": {
        "id": "_OzdtSXl-7hl"
      },
      "execution_count": null,
      "outputs": []
    },
    {
      "cell_type": "code",
      "source": [
        "terms['1'][:5]"
      ],
      "metadata": {
        "colab": {
          "base_uri": "https://localhost:8080/"
        },
        "id": "GyA9J2EMPw0S",
        "outputId": "6c64d42b-a7bd-4c51-877d-e449f12782ce"
      },
      "execution_count": null,
      "outputs": [
        {
          "output_type": "execute_result",
          "data": {
            "text/plain": [
              "['anaplastic astrocytoma',\n",
              " 'tumor',\n",
              " 'hypertension',\n",
              " 'thigh numbness',\n",
              " 'right anterior thigh numbness']"
            ]
          },
          "metadata": {},
          "execution_count": 11
        }
      ]
    },
    {
      "cell_type": "markdown",
      "source": [
        "Additional filtering"
      ],
      "metadata": {
        "id": "p3VNT0W_dq3r"
      }
    },
    {
      "cell_type": "code",
      "source": [
        "def first_filter(terms):\n",
        "  terms = [i for i in terms if i not in stop_words or i not in stopwords.words('english')]\n",
        "  terms = [i for i in terms if len(i) > 3]\n",
        "  return terms"
      ],
      "metadata": {
        "id": "n9wKo6S4QBkW"
      },
      "execution_count": null,
      "outputs": []
    },
    {
      "cell_type": "code",
      "source": [
        "# уберем повторы, пункцуацию и стоп-слова\n",
        "import string\n",
        "exclude = set(string.punctuation)\n",
        "\n",
        "new_terms = {}\n",
        "for key in terms.keys():\n",
        "  new_terms[key] = list(set(terms[key]))\n",
        "  new_terms[key] = [i for i in new_terms[key] if i not in exclude]\n",
        "  new_terms[key] = first_filter(new_terms[key])"
      ],
      "metadata": {
        "id": "Mjbp5fYYRUMM"
      },
      "execution_count": null,
      "outputs": []
    },
    {
      "cell_type": "code",
      "source": [
        "terms = new_terms"
      ],
      "metadata": {
        "id": "ebZOUbBEAITZ"
      },
      "execution_count": null,
      "outputs": []
    },
    {
      "cell_type": "code",
      "source": [
        "terms['1'][:5]"
      ],
      "metadata": {
        "colab": {
          "base_uri": "https://localhost:8080/"
        },
        "id": "OucJQmmVRbJm",
        "outputId": "542b45d6-c4ae-46f7-96d9-b28c16ddd98a"
      },
      "execution_count": null,
      "outputs": [
        {
          "output_type": "execute_result",
          "data": {
            "text/plain": [
              "['difficulty walking',\n",
              " 'unresectable anaplastic astrocytoma',\n",
              " 'field radiation t',\n",
              " 'right anterior thigh numbness',\n",
              " 'hypertension']"
            ]
          },
          "metadata": {},
          "execution_count": 16
        }
      ]
    },
    {
      "cell_type": "code",
      "source": [
        "def mean_len(terms_list):\n",
        "  all_lens = [len(term) for term in terms_list]\n",
        "  res = 0 if len(all_lens) == 0 else (float(sum(all_lens)) / len(all_lens))\n",
        "\n",
        "  return res"
      ],
      "metadata": {
        "id": "7D4D3hjV342o"
      },
      "execution_count": null,
      "outputs": []
    },
    {
      "cell_type": "code",
      "source": [
        "mean_len(terms['1'])"
      ],
      "metadata": {
        "colab": {
          "base_uri": "https://localhost:8080/"
        },
        "id": "LzzzdP2R4yn_",
        "outputId": "969b4834-c585-43ea-ee6d-fb825d9b28d2"
      },
      "execution_count": null,
      "outputs": [
        {
          "output_type": "execute_result",
          "data": {
            "text/plain": [
              "19.210526315789473"
            ]
          },
          "metadata": {},
          "execution_count": 18
        }
      ]
    },
    {
      "cell_type": "code",
      "source": [
        "def filter_terms(terms):\n",
        "  mean_lens = mean_len(terms)\n",
        "  threshold = int(mean_lens/2)\n",
        "\n",
        "  new_terms = []\n",
        "  for i in terms:\n",
        "    if len(i) >= threshold and len(i) > 3:\n",
        "      new_terms.append(i)\n",
        "  \n",
        "  return new_terms"
      ],
      "metadata": {
        "id": "Ut6fL_dY5A6u"
      },
      "execution_count": null,
      "outputs": []
    },
    {
      "cell_type": "code",
      "source": [
        "filter_terms(terms['1'])[:5]"
      ],
      "metadata": {
        "colab": {
          "base_uri": "https://localhost:8080/"
        },
        "id": "cfoJYoed5cGE",
        "outputId": "80951575-3b1e-46b6-9e36-4833f78bb450"
      },
      "execution_count": null,
      "outputs": [
        {
          "output_type": "execute_result",
          "data": {
            "text/plain": [
              "['difficulty walking',\n",
              " 'unresectable anaplastic astrocytoma',\n",
              " 'field radiation t',\n",
              " 'right anterior thigh numbness',\n",
              " 'hypertension']"
            ]
          },
          "metadata": {},
          "execution_count": 20
        }
      ]
    },
    {
      "cell_type": "code",
      "source": [
        "terms_filtered = {}\n",
        "for i in terms.keys():\n",
        "  terms_filtered[i] = filter_terms(terms[i])"
      ],
      "metadata": {
        "id": "RJRIzW3o5qLZ"
      },
      "execution_count": null,
      "outputs": []
    },
    {
      "cell_type": "code",
      "source": [
        "for i in terms.keys():\n",
        "  print(len(terms[i]), len(terms_filtered[i]))\n",
        "  break"
      ],
      "metadata": {
        "colab": {
          "base_uri": "https://localhost:8080/"
        },
        "id": "aj_OQzjd6SOb",
        "outputId": "51fa6d5c-1427-4dad-f7b2-057f90093aaf"
      },
      "execution_count": null,
      "outputs": [
        {
          "output_type": "stream",
          "name": "stdout",
          "text": [
            "19 17\n"
          ]
        }
      ]
    },
    {
      "cell_type": "code",
      "source": [
        "with open('ner_results_2ver/filtered/ner_m9_2.json', 'w') as f:\n",
        "  json.dump(terms, f)\n",
        "\n",
        "with open('ner_results_2ver/filtered/ner_m9_2_filtered.json', 'w') as f:\n",
        "  json.dump(terms_filtered, f)"
      ],
      "metadata": {
        "id": "QrEgjF0xNCLl"
      },
      "execution_count": null,
      "outputs": []
    },
    {
      "cell_type": "code",
      "source": [
        "with open('umls_m3_2_terms_f1.json', 'w') as f:\n",
        "  json.dump(terms, f)\n",
        "\n",
        "with open('umls_m3_2_terms_f1_filtered.json', 'w') as f:\n",
        "  json.dump(terms_filtered, f)"
      ],
      "metadata": {
        "id": "XBfcmhsmAxSE"
      },
      "execution_count": null,
      "outputs": []
    },
    {
      "cell_type": "code",
      "source": [
        "def add_filter(terms): #for model 9\n",
        "  all_lens = [len(term) for term in terms]\n",
        "  threshold = int(max(all_lens)*0.8)\n",
        "\n",
        "  new_terms = []\n",
        "  for i in terms:\n",
        "    if len(i) >= threshold:\n",
        "      new_terms.append(i)\n",
        "  \n",
        "  return new_terms"
      ],
      "metadata": {
        "id": "a8PVQym_ngGX"
      },
      "execution_count": null,
      "outputs": []
    },
    {
      "cell_type": "code",
      "source": [
        "add_filter(terms['1'])[:5]"
      ],
      "metadata": {
        "colab": {
          "base_uri": "https://localhost:8080/"
        },
        "id": "kxh0kuXIoFR6",
        "outputId": "5f2a2fc5-64c3-4586-b0dc-df62cc244849"
      },
      "execution_count": null,
      "outputs": [
        {
          "output_type": "execute_result",
          "data": {
            "text/plain": [
              "['complicated', 'hypertension', 'anaplastic', 'presented', 'extremity']"
            ]
          },
          "metadata": {},
          "execution_count": 47
        }
      ]
    },
    {
      "cell_type": "code",
      "source": [
        "terms_add = {}\n",
        "for i in terms.keys():\n",
        "  terms_add[i] = add_filter(terms[i])\n",
        "\n",
        "terms_filtered_add = {}\n",
        "for i in terms_filtered.keys():\n",
        "  terms_filtered_add[i] = add_filter(terms_filtered[i])"
      ],
      "metadata": {
        "id": "Sa2JhepfoRNR"
      },
      "execution_count": null,
      "outputs": []
    },
    {
      "cell_type": "code",
      "source": [
        "for i in terms.keys():\n",
        "  print(len(terms_add[i]), len(terms_filtered_add[i]))\n",
        "  break"
      ],
      "metadata": {
        "colab": {
          "base_uri": "https://localhost:8080/"
        },
        "id": "ujC6k8T5ovQ_",
        "outputId": "13f868ff-24cd-4d0d-922d-0e9f3f16dcc6"
      },
      "execution_count": null,
      "outputs": [
        {
          "output_type": "stream",
          "name": "stdout",
          "text": [
            "12 12\n"
          ]
        }
      ]
    },
    {
      "cell_type": "code",
      "source": [
        "with open('ner_results_2ver/filtered/ner_m9_2_add.json', 'w') as f:\n",
        "  json.dump(terms_add, f)\n",
        "\n",
        "with open('ner_results_2ver/filtered/ner_m9_2_filtered_add.json', 'w') as f:\n",
        "  json.dump(terms_filtered_add, f)"
      ],
      "metadata": {
        "id": "jI9d0dcgo3Pe"
      },
      "execution_count": null,
      "outputs": []
    },
    {
      "cell_type": "code",
      "source": [
        "terms = terms_add\n",
        "terms_filtered = terms_filtered_add"
      ],
      "metadata": {
        "id": "1S8dqPKvo8L9"
      },
      "execution_count": null,
      "outputs": []
    },
    {
      "cell_type": "markdown",
      "source": [
        "Load papers"
      ],
      "metadata": {
        "id": "rp4bvZlUdjgX"
      }
    },
    {
      "cell_type": "code",
      "source": [
        "import time\n",
        "\n",
        "def get_papers(terms):\n",
        "  all_recs = {}\n",
        "\n",
        "  for i in terms.keys():\n",
        "    #print(f'processing {i}, len = {len(terms[i])}')\n",
        "    recs_i = []\n",
        "    for term in terms[i]:\n",
        "      time.sleep(0.6)\n",
        "      term_results = medlineplus_search_by_term(term)\n",
        "      recs_i.extend(term_results)\n",
        "\n",
        "    all_recs[i] = recs_i\n",
        "\n",
        "  return all_recs   "
      ],
      "metadata": {
        "id": "7ZBfbVB5PPLX"
      },
      "execution_count": null,
      "outputs": []
    },
    {
      "cell_type": "code",
      "source": [
        "recs = get_papers(terms)"
      ],
      "metadata": {
        "id": "UzWnOJw2c1op"
      },
      "execution_count": null,
      "outputs": []
    },
    {
      "cell_type": "code",
      "source": [
        "recs_filtered = get_papers(terms_filtered)"
      ],
      "metadata": {
        "id": "pT7sKqoqc3Sk"
      },
      "execution_count": null,
      "outputs": []
    },
    {
      "cell_type": "code",
      "source": [
        "len(recs['1']), len(recs_filtered['1'])"
      ],
      "metadata": {
        "colab": {
          "base_uri": "https://localhost:8080/"
        },
        "id": "w0lkcbuxRezH",
        "outputId": "70ab4071-43e6-4657-9a9f-3af083bb0fbe"
      },
      "execution_count": null,
      "outputs": [
        {
          "output_type": "execute_result",
          "data": {
            "text/plain": [
              "(21, 18)"
            ]
          },
          "metadata": {},
          "execution_count": 27
        }
      ]
    },
    {
      "cell_type": "code",
      "source": [
        "def set_default(obj):\n",
        "  if isinstance(obj, set):\n",
        "    return list(obj)\n",
        "  raise TypeError"
      ],
      "metadata": {
        "id": "0xdlPTWDPZo6"
      },
      "execution_count": null,
      "outputs": []
    },
    {
      "cell_type": "markdown",
      "source": [
        "!9_2 with add_filter"
      ],
      "metadata": {
        "id": "6ioBOMu5v-HM"
      }
    },
    {
      "cell_type": "code",
      "source": [
        "with open('models_recs_2ver/texts_recs_m9_2_per3.json', 'w') as f:\n",
        "  json.dump(recs, f, default=set_default)"
      ],
      "metadata": {
        "id": "5Zqboofb8yjd"
      },
      "execution_count": null,
      "outputs": []
    },
    {
      "cell_type": "code",
      "source": [
        "with open('models_recs_2ver/texts_recs_m9_2_filtered_per3.json', 'w') as f:\n",
        "  json.dump(recs_filtered, f, default=set_default)"
      ],
      "metadata": {
        "id": "COqkLD7981LR"
      },
      "execution_count": null,
      "outputs": []
    },
    {
      "cell_type": "code",
      "source": [
        "with open('texts_recs_umls_m3_2.json', 'w') as f:\n",
        "  json.dump(recs, f, default=set_default)"
      ],
      "metadata": {
        "id": "4fXSgRqLNK4F"
      },
      "execution_count": null,
      "outputs": []
    },
    {
      "cell_type": "code",
      "source": [
        "with open('texts_recs_umls_m3_2_filtered.json', 'w') as f:\n",
        "  json.dump(recs_filtered, f, default=set_default)"
      ],
      "metadata": {
        "id": "yETphF-lNVyk"
      },
      "execution_count": null,
      "outputs": []
    }
  ]
}