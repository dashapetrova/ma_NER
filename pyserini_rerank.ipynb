{
  "cells": [
    {
      "cell_type": "code",
      "source": [
        "from google.colab import drive\n",
        "drive.mount('/content/gdrive') #, force_remount=True"
      ],
      "metadata": {
        "colab": {
          "base_uri": "https://localhost:8080/"
        },
        "id": "V0UkQ8sRdcnp",
        "outputId": "a32ec81d-d5cc-4a74-f8a0-12bd69bab93a"
      },
      "execution_count": null,
      "outputs": [
        {
          "output_type": "stream",
          "name": "stdout",
          "text": [
            "Mounted at /content/gdrive\n"
          ]
        }
      ]
    },
    {
      "cell_type": "code",
      "source": [
        "import os\n",
        "os.chdir('gdrive/My Drive/Colab Notebooks/miramedix')"
      ],
      "metadata": {
        "id": "ZaE3kMUxdlfQ"
      },
      "execution_count": null,
      "outputs": []
    },
    {
      "cell_type": "code",
      "source": [
        "pip install pyserini"
      ],
      "metadata": {
        "id": "RO3eDK0xfEKg"
      },
      "execution_count": null,
      "outputs": []
    },
    {
      "cell_type": "code",
      "source": [
        "pip install faiss"
      ],
      "metadata": {
        "id": "A7x1T-cvfFts"
      },
      "execution_count": null,
      "outputs": []
    },
    {
      "cell_type": "code",
      "source": [
        "pip install faiss-cpu"
      ],
      "metadata": {
        "id": "0DLwY_UcfHVl"
      },
      "execution_count": null,
      "outputs": []
    },
    {
      "cell_type": "code",
      "execution_count": 5,
      "metadata": {
        "id": "WG23GepF4lTZ"
      },
      "outputs": [],
      "source": [
        "import os\n",
        "from pyserini.dsearch import SimpleDenseSearcher\n",
        "from transformers import T5Tokenizer, T5ForConditionalGeneration"
      ]
    },
    {
      "cell_type": "code",
      "source": [
        "import json\n",
        "\n",
        "with open('descriptions.json', 'r') as f:\n",
        "  texts = json.load(f)"
      ],
      "metadata": {
        "id": "u_E2Yg8qUMTd"
      },
      "execution_count": null,
      "outputs": []
    },
    {
      "cell_type": "markdown",
      "source": [
        "batch 20 (если много документов)"
      ],
      "metadata": {
        "id": "CX0hiJuMwhBB"
      }
    },
    {
      "cell_type": "code",
      "source": [
        "! python -m pyserini.encode input --corpus sample_collection_jsonl_2/doc_75.jsonl output --embeddings indexes_2/dindex-sample-dpr-multi75 --to-faiss encoder --encoder facebook/dpr-ctx_encoder-multiset-base --device cpu"
      ],
      "metadata": {
        "id": "Pv35Y1hSgfzS",
        "colab": {
          "base_uri": "https://localhost:8080/"
        },
        "outputId": "041f1b5a-d340-41ce-cf4a-477f0eaf5b2c"
      },
      "execution_count": null,
      "outputs": [
        {
          "output_type": "stream",
          "name": "stdout",
          "text": [
            "Some weights of the model checkpoint at facebook/dpr-ctx_encoder-multiset-base were not used when initializing DPRContextEncoder: ['ctx_encoder.bert_model.pooler.dense.bias', 'ctx_encoder.bert_model.pooler.dense.weight']\n",
            "- This IS expected if you are initializing DPRContextEncoder from the checkpoint of a model trained on another task or with another architecture (e.g. initializing a BertForSequenceClassification model from a BertForPreTraining model).\n",
            "- This IS NOT expected if you are initializing DPRContextEncoder from the checkpoint of a model that you expect to be exactly identical (initializing a BertForSequenceClassification model from a BertForSequenceClassification model).\n",
            "The tokenizer class you load from this checkpoint is not the same type as the class this function is called from. It may result in unexpected tokenization. \n",
            "The tokenizer class you load from this checkpoint is 'DPRQuestionEncoderTokenizer'. \n",
            "The class this function is called from is 'DPRContextEncoderTokenizer'.\n",
            "30it [00:00, 91.36it/s]\n",
            "100% 1/1 [00:25<00:00, 25.93s/it]\n"
          ]
        }
      ]
    },
    {
      "cell_type": "code",
      "source": [
        "num = '75'"
      ],
      "metadata": {
        "id": "u3viAR3hsEI6"
      },
      "execution_count": null,
      "outputs": []
    },
    {
      "cell_type": "code",
      "source": [
        "query = texts[num]"
      ],
      "metadata": {
        "id": "oTkSC8brxQoU"
      },
      "execution_count": null,
      "outputs": []
    },
    {
      "cell_type": "code",
      "source": [
        "input_path = 'indexes_2/dindex-sample-dpr-multi'+num\n",
        "print(input_path)\n",
        "\n",
        "searcher = SimpleDenseSearcher(input_path, 'facebook/dpr-question_encoder-multiset-base')"
      ],
      "metadata": {
        "colab": {
          "base_uri": "https://localhost:8080/"
        },
        "id": "M3_iZyaCsMbg",
        "outputId": "3fa14fc5-ca1d-467e-9aa9-f7596a187a5e"
      },
      "execution_count": null,
      "outputs": [
        {
          "output_type": "stream",
          "name": "stdout",
          "text": [
            "indexes/dindex-sample-dpr-multi75\n",
            "pyserini.dsearch.SimpleDenseSearcher class has been deprecated, please use FaissSearcher from pyserini.search.faiss instead\n"
          ]
        },
        {
          "output_type": "stream",
          "name": "stderr",
          "text": [
            "Some weights of the model checkpoint at facebook/dpr-question_encoder-multiset-base were not used when initializing DPRQuestionEncoder: ['question_encoder.bert_model.pooler.dense.bias', 'question_encoder.bert_model.pooler.dense.weight']\n",
            "- This IS expected if you are initializing DPRQuestionEncoder from the checkpoint of a model trained on another task or with another architecture (e.g. initializing a BertForSequenceClassification model from a BertForPreTraining model).\n",
            "- This IS NOT expected if you are initializing DPRQuestionEncoder from the checkpoint of a model that you expect to be exactly identical (initializing a BertForSequenceClassification model from a BertForSequenceClassification model).\n"
          ]
        }
      ]
    },
    {
      "cell_type": "code",
      "source": [
        "hits = searcher.search(query)\n",
        "hits_list = []\n",
        "\n",
        "for i in range(0, len(hits)):    \n",
        "    hits_list.append([hits[i].docid, str(hits[i].score)])"
      ],
      "metadata": {
        "id": "Os3DTreWxF48"
      },
      "execution_count": null,
      "outputs": []
    },
    {
      "cell_type": "code",
      "source": [
        "file_name = f'reranking_2/rerank_{num}.json'\n",
        "with open(file_name, 'w') as f:\n",
        "  json.dump(hits_list, f)"
      ],
      "metadata": {
        "id": "FQ7KH9-9YtYj"
      },
      "execution_count": null,
      "outputs": []
    }
  ],
  "metadata": {
    "kernelspec": {
      "display_name": "med_ner",
      "language": "python",
      "name": "med_ner"
    },
    "language_info": {
      "codemirror_mode": {
        "name": "ipython",
        "version": 3
      },
      "file_extension": ".py",
      "mimetype": "text/x-python",
      "name": "python",
      "nbconvert_exporter": "python",
      "pygments_lexer": "ipython3",
      "version": "3.8.10"
    },
    "colab": {
      "name": "pyserini_rerank.ipynb",
      "provenance": [],
      "collapsed_sections": []
    }
  },
  "nbformat": 4,
  "nbformat_minor": 0
}